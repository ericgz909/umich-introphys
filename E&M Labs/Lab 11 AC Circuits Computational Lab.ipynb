{
 "cells": [
  {
   "cell_type": "markdown",
   "metadata": {},
   "source": [
    "<center><h1>Lab 11: AC Circuits Computational Lab"
   ]
  },
  {
   "cell_type": "markdown",
   "metadata": {},
   "source": [
    "Name:"
   ]
  },
  {
   "cell_type": "code",
   "execution_count": null,
   "metadata": {},
   "outputs": [],
   "source": [
    "import numpy as np\n",
    "import matplotlib.pyplot as plt\n",
    "from utilities import freq_analysis, bode_plots"
   ]
  },
  {
   "attachments": {
    "rc_filters.png": {
     "image/png": "[encoded data removed]"
    }
   },
   "cell_type": "markdown",
   "metadata": {},
   "source": [
    "# Part One: Low-pass and high-pass RC filters\n",
    "\n",
    "From the pre-lab, you are familiar with the code required to simulate a low-pass RC filter. You will now simulate a high-pass filter. A comparison of the two circuit diagrams is shown here. \n",
    "\n",
    "![rc_filters.png](attachment:rc_filters.png)\n",
    "\n",
    "Your output should include Bode plots of the circuit's gain and phase shift over an interesting frequency range: the circuit's low-frequency and high-frequency behavior should be easily visible. "
   ]
  },
  {
   "cell_type": "markdown",
   "metadata": {},
   "source": [
    "**<font color=red>Code Task 1: Modify the code to model a high-pass filter.**"
   ]
  },
  {
   "cell_type": "code",
   "execution_count": null,
   "metadata": {},
   "outputs": [],
   "source": [
    "C = 1e-6\n",
    "R = 1e3\n",
    "\n",
    "\n",
    "def H_low_pass(freq):\n",
    "    omega = 2*np.pi*freq\n",
    "    H = (1)/(1+(1j*omega*R*C))\n",
    "    return H\n",
    "\n",
    "freq_low = 1\n",
    "freq_high = 2e3\n",
    "freq_rolloff = None\n",
    "\n",
    "    ### Edit this line to find the rolloff frequency for 11.1 ###\n",
    "#freq_rolloff = \n",
    "    ### End Edit ###\n",
    "    \n",
    "    ### Modify this definition to create the transfer function for a high pass filter\n",
    "def H_high_pass(freq):\n",
    "    omega = 2*np.pi*freq\n",
    "    H = \n",
    "    return H\n",
    "        ### End Edit ###\n",
    "\n",
    "for fxn in [H_low_pass, H_high_pass]:\n",
    "    freqs, amp, phi = freq_analysis(fxn, freq_low, freq_high)\n",
    "    amp = np.sqrt(amp * amp.conj())\n",
    "    bode_plots(freqs, np.abs(amp), phi, freq_rolloff)"
   ]
  },
  {
   "cell_type": "markdown",
   "metadata": {},
   "source": [
    "**<font color=blue> Problem 11.1: Estimate the high-pass filter's roll-off frequency using the Bode plots. You should be able to get within a factor of 3. How does the filter behave near its roll-off frequency, and at the ends?**\n",
    "\n"
   ]
  },
  {
   "cell_type": "markdown",
   "metadata": {},
   "source": [
    "_Write your answer here._"
   ]
  },
  {
   "cell_type": "markdown",
   "metadata": {},
   "source": [
    "**<font color=red>Code Task 2: Compute the filter's roll-off frequency. Once you redefine `freq_roloff`, we can call the `freq_analysis` and `bode_plots` functions again to include the rolloff frequency in our plots. Note that you can do this in the code itself; you don't need to use a calculator. Your computed roll-off frequency should roughly match your estimation from earlier.**<br>\n",
    "**Hint: Refer to page 2 and 3 of your manual. The rolloff frequency of an RC circuit is** $$f_r=\\frac{1}{2 \\pi RC}$$  "
   ]
  },
  {
   "cell_type": "markdown",
   "metadata": {},
   "source": [
    "# Part Two: Combining multiple RC circuits\n",
    "\n",
    "You will next examine a band-pass filter. **The circuit is made of a low-pass filter and a high-pass filter in series**: see the schematic below. \n",
    "<div>\n",
    "<img src=\"Figures/band_pass.jpg\" width=\"30%\"/>\n",
    "</div>"
   ]
  },
  {
   "cell_type": "markdown",
   "metadata": {},
   "source": [
    "<strong><font color=blue> Problem 11.2: We start by finding analytic expression for this band pass filter. Call the first resistor $R_1$, the first capacitor (going to ground) $C_1$, the second capacitor $C_2$, and the final resistor (going to ground) $R_2$. With input voltage $V_\\text{in}$, find $V_\\text{out}$. Use the cells below your answer cell as a guide, but put your final answer in the cell below. You may put your answer in terms of $I_\\text{total}$, but you should have an expression for $I_\\text{total}$."
   ]
  },
  {
   "cell_type": "markdown",
   "metadata": {},
   "source": [
    "$V_\\text{out} = $"
   ]
  },
  {
   "cell_type": "markdown",
   "metadata": {},
   "source": [
    "<strong><font color=blue>We can start by finding the total current in the circuit $I_\\text{tot}$ which is the current flowing through $R_1$. Note that you can use Ohm's law $V = IZ$ with $Z_R = R$ and $Z_C = \\frac{1}{j\\omega C}$ to find the equivalent impedence, the total current is"
   ]
  },
  {
   "cell_type": "markdown",
   "metadata": {},
   "source": [
    "$Z_\\text{eq} = $\n",
    "\n",
    "$I_\\text{total}= $"
   ]
  },
  {
   "cell_type": "markdown",
   "metadata": {},
   "source": [
    "<strong><font color = blue> Using Kirchoff's law $I_\\text{total} = I_1+I_2$ and Ohm's law, Find $I_2$ in terms of $I_\\text{total}$, $Z_{R_1}$, $Z_{C_1}$, $Z_{R_2}$, and $Z_{C_2}$. Note that because $C_1$ is in parallel with $C_2$ and $R_2$, $V_{C_1} = V_{C_2} + V_{R_2}$."
   ]
  },
  {
   "cell_type": "markdown",
   "metadata": {},
   "source": [
    "$I_2 = $"
   ]
  },
  {
   "cell_type": "markdown",
   "metadata": {},
   "source": [
    "<strong><font color=blue> Now you can use Ohm's Law to find $V_\\text{out}$, the voltage across $V_{R_2}$"
   ]
  },
  {
   "cell_type": "markdown",
   "metadata": {},
   "source": [
    "**<font color=red> Code Task 3: Define a `band_pass` transfer function to make Bode plots for this circuit. Add vertical lines at the rolloff frequencies of both stages. Try simulating several different values of components so that you can get a feel for how the filter depends on them.**<br>\n",
    "**You can plot multiple rolloff frequencies by passing an array to the freq\\_line argument in the bode\\_plots function.**"
   ]
  },
  {
   "cell_type": "code",
   "execution_count": null,
   "metadata": {},
   "outputs": [],
   "source": [
    "# low pass filter resistor and capacitor\n",
    "C1 = 2e-7\n",
    "R1 = 1e3\n",
    "\n",
    "# high pass filter capacitor and resistor\n",
    "C2 = 5e-5\n",
    "R2 = 1e3\n",
    "\n",
    "freq_low = 1\n",
    "freq_high = 2.5e3\n",
    "freq_rolloff = None\n",
    "\n",
    "    ### Edit and uncomment these lines once you determine the rolloff freqs.\n",
    "#freq_rolloff1 = (2*np.pi*R1*C1)**-1\n",
    "#freq_rolloff2 = (2*np.pi*R2*C2)**-1\n",
    "#freq_rolloff = [freq_rolloff1,freq_rolloff2]\n",
    "    ### End edit ###\n",
    "\n",
    "def band_pass(freq):\n",
    "    omega = 2 * np.pi * freq\n",
    "    V_in = 1\n",
    "    ZR1 = R1\n",
    "    ZC1 = (-1j/(omega*C1))\n",
    "    ZR2 = R2\n",
    "    ZC2 = (-1j/(omega*C2))\n",
    "    \n",
    "        ### Edit these lines. Use the analytic results from above. ###\n",
    "    Z_total =\n",
    "    I_total = \n",
    "    I_2     = \n",
    "    V_R2    = \n",
    "    V_out   = \n",
    "        ### End Edit ###\n",
    "    H = V_out/V_in\n",
    "    return H\n",
    "\n",
    "\n",
    "freqs, amp, phi = freq_analysis(band_pass, freq_low, freq_high)\n",
    "amp = np.sqrt(amp * amp.conj())\n",
    "bode_plots(freqs, amp, phi, freq_rolloff)\n"
   ]
  },
  {
   "cell_type": "markdown",
   "metadata": {},
   "source": [
    "**<font color=blue>Problem 11.3: Explain the band-pass filter's behavior in its three distinct frequency ranges, and how changing the values of the components changes the behavior of the filter.**\n",
    "\n"
   ]
  },
  {
   "cell_type": "markdown",
   "metadata": {},
   "source": [
    "_Write your answer here._"
   ]
  },
  {
   "attachments": {
    "lc_resonator.png": {
     "image/png": "[encoded data removed]"
    }
   },
   "cell_type": "markdown",
   "metadata": {},
   "source": [
    "# Part Three: RLC Resonators\n",
    "\n",
    "Your next task is to model an RLC resonator circuit, like the resonator you encountered in the AC Circuits Lab. The circuit diagram is drawn below. Note that `Circuit.L` is used to create an inductor, just like `Circuit.C` creates a capacitor.\n",
    "\n",
    "![lc_resonator.png](attachment:lc_resonator.png)"
   ]
  },
  {
   "cell_type": "markdown",
   "metadata": {},
   "source": [
    "**<font color=red> Code Task 4: Define a transfer function to make Bode plots for this circuit. Plot a vertical line at the circuit's resonant frequency.**<br>\n",
    "In order to see resonant behavior, you may need to adjust the values of the circuit components or the endpoints of the frequency band over which the circuit response is simulated: as a sanity check, you may check that your circuit's resonant frequency falls within your Bode plot's bounds.<br>\n",
    "**_Hint: Remember from the last lab that the resonance frequency is_** $$f_r=\\frac{1}{2\\pi\\sqrt{LC}}$$"
   ]
  },
  {
   "cell_type": "code",
   "execution_count": null,
   "metadata": {},
   "outputs": [],
   "source": [
    "# This code simulates a low-pass filter.\n",
    "# Modify it to model a resonant circuit.\n",
    "# Be aware of your output node\n",
    "# These are the same values you used in Part 9 of the AC circuits lab!\n",
    "\n",
    "C = 10E-6\n",
    "R = 6e-1\n",
    "L = 8.2E-3\n",
    "\n",
    "freq_low = 1\n",
    "freq_high = 200e3\n",
    " # Compute the resonant frequency here, in units of Hertz.\n",
    "freq_resonant = \n",
    "\n",
    "def RLC_resonator(freq):\n",
    "    omega = 2 * np.pi * freq\n",
    "    Z_R = R\n",
    "    Z_L = 1j*L*omega\n",
    "    Z_C = -1j/(C*omega)\n",
    "        ### Edit to define transfer function here ###\n",
    "    Z1 =\n",
    "    Z2 =\n",
    "    H = \n",
    "        ### End Edit ###\n",
    "    return H\n",
    "    \n",
    "\n",
    "freqs, amp, phi = freq_analysis(RLC_resonator, freq_low, freq_high)\n",
    "bode_plots(freqs, np.abs(amp), phi, freq_resonant)"
   ]
  },
  {
   "cell_type": "markdown",
   "metadata": {},
   "source": [
    "**<font color=blue>Problem 11.4: Discuss how the circuit behave near its resonant frequency. In particular, take note of the amplitude value and compare it with your input amplitude. How does this depend of the value of the resistance?**\n",
    "\n"
   ]
  },
  {
   "cell_type": "markdown",
   "metadata": {},
   "source": [
    "_Write your answer here._"
   ]
  },
  {
   "cell_type": "markdown",
   "metadata": {},
   "source": [
    "**<font color=red> Code Task 5: Try changing the arrangement of the components in the above circuit, and see the results. Instead of putting the inductor and capacitor in series, try putting them in parallel, then try swapping them with the resistor.** <br>"
   ]
  },
  {
   "cell_type": "code",
   "execution_count": null,
   "metadata": {},
   "outputs": [],
   "source": [
    "C = 10E-6\n",
    "R = 6e-1\n",
    "L = 8.2E-3\n",
    "\n",
    "freq_low = 1\n",
    "freq_high = 200e3\n",
    "    ### Edit to compute the resonant frequency here, in units of Hertz. ###\n",
    "freq_resonant = (2*np.pi*np.sqrt(L*C))**-1  \n",
    "    ### End Edit. ###\n",
    "\n",
    "def RLC_resonator(freq):\n",
    "    omega = 2 * np.pi * freq\n",
    "    Z_R = R\n",
    "    Z_L = 1j*L*omega\n",
    "    Z_C = -1j/(C*omega)\n",
    "        ### Edit to define transfer function here ###\n",
    "    Z1 = \n",
    "    Z2 = \n",
    "    H = \n",
    "        ### End Edit. ###\n",
    "    return H\n",
    "    \n",
    "\n",
    "freqs, amp, phi = freq_analysis(RLC_resonator, freq_low, freq_high)\n",
    "bode_plots(freqs, np.abs(amp), phi, freq_resonant)"
   ]
  },
  {
   "cell_type": "markdown",
   "metadata": {},
   "source": [
    "**<font color=blue>Problem 11.5: What did you try, and what were the behaviors did you find?**"
   ]
  },
  {
   "cell_type": "markdown",
   "metadata": {},
   "source": [
    "_Write your answer here._"
   ]
  },
  {
   "cell_type": "markdown",
   "metadata": {},
   "source": [
    "# Culminating Assessment Task\n",
    "### Expected Time: 40 Minutes\n",
    "\n",
    "In this final part of the lab, you will use what you have learned from the previous sections to design the passive part of an AC to DC converter, and of a DC to AC converter. Both converters work by using non-linear circuit elements like diodes and transistors to output strangely shaped waves. Thinking in terms of frequency space, you will design a circuit that will take the stangely shaped input waves to the desired output wave.\n",
    "\n",
    "**You may choose between designing either of the circuits. You only have to do one of code tasks 6a and 6b. But if you have time to do both, go for it!**"
   ]
  },
  {
   "cell_type": "markdown",
   "metadata": {},
   "source": [
    "### Review\n",
    "\n",
    "Let's think back to what we have explored. You looked at **low-pass and high-pass filters**, which filter out high and low frequencies respectively (part one). You made a **band-pass filter** by connecting a low-pass and high-pass filter in series, thus allowing an intermediate range of frequencies to pass through to the output (part three). You learned to calculate the **roll-off frequencies** for these filters. You also looked at **resonators** (part two) where you found gains greater than one, so that the output was greater than the input. You learned to calculate the **resonant frequency** (in the previous lab).<br>\n",
    "<br>\n",
    "In the lab manual, you were also taught that the circuit can serve as a **voltage divider** (equation (1)), and when dealing with capacitors and inductors, their reactance takes the place of resistance in that equation. Recall from the previous lab that reactance has the same units as resistance, Ohms.<br>\n",
    "<br>\n",
    "**You will need all this knowledge to complete the next two tasks.<br>\n",
    "Before attempting to simulate the circuit, draw it out and check with your GSI to see if what you are simulating makes sense.** "
   ]
  },
  {
   "attachments": {
    "acdc.png": {
     "image/png": "[encoded data removed]"
    }
   },
   "cell_type": "markdown",
   "metadata": {},
   "source": [
    "### AC to DC converter\n",
    "\n",
    "The input to the passive part of an AC to DC converter, and the Fourier transform, look like this. The y-axis of the Fourier transform plot is the amplitude of that frequency component in the input.\n",
    "\n",
    "![acdc.png](attachment:acdc.png)"
   ]
  },
  {
   "cell_type": "markdown",
   "metadata": {},
   "source": [
    "**<font color=red> Code Task 6a: Design a circuit that you think will take this wave as input, and output a 12 V DC signal. Explain your reasoning.**<br>\n",
    "The two figures above are just reference, and do not need to be input into your simulation. The frequency domain plot can be thought of as your input. Your task is to generate a Bode plot that takes this input to the proper output. Remember that gain is defined as the magnitude of the output voltage over input voltage as a function of frequency.<br>\n",
    "**_Hint: DC signals are 0 Hz. What range of frequencies would you need to eliminate?_**<br>\n",
    "**_Hint: At what amplitude is the DC signal in the input? You will find the section on voltage dividers in the prelab helpful to address this issue._**<br>"
   ]
  },
  {
   "cell_type": "code",
   "execution_count": null,
   "metadata": {},
   "outputs": [],
   "source": [
    "# Put the code for your AC to DC converter here\n",
    "# Be aware of your output node\n",
    "\n",
    "#Determine passive component values here#\n",
    "\n",
    "\n",
    "def AC_to_DC(freq):\n",
    "    \n",
    "    \n",
    "    \n",
    "    return H\n",
    "\n",
    "\n",
    "freqs, amp, phi = freq_analysis(AC_to_DC, freq_low, freq_high)\n",
    "bode_plots(freqs, np.abs(amp), phi, freq_resonant)"
   ]
  },
  {
   "cell_type": "markdown",
   "metadata": {},
   "source": [
    "**<font color=blue>Problem 11.6: Explain how you chose your filter for the AC to DC converter? How did you pick the values of the passive components?**"
   ]
  },
  {
   "cell_type": "markdown",
   "metadata": {},
   "source": [
    "_Write your answer here._"
   ]
  },
  {
   "attachments": {
    "dcac.png": {
     "image/png": "[encoded data removed]"
    }
   },
   "cell_type": "markdown",
   "metadata": {},
   "source": [
    "### DC to AC converter\n",
    "\n",
    "The input to the passive part of a DC to AC converter, and the Fourier transform, look like this. The y-axis of the Fourier transform plot is the amplitude of that frequency component in the input.\n",
    "\n",
    "![dcac.png](attachment:dcac.png)"
   ]
  },
  {
   "cell_type": "markdown",
   "metadata": {},
   "source": [
    "**<font color=red>Code Task 6b: Design a circuit that you think will take this wave as input, and output a 12 V amplitude 60 HZ sinusoidal signal. Explain your reasoning**<br>\n",
    "The two figures above are just reference, and do not need to be input into your simulation. The frequency domain plot can be thought of as your input. Your task is to generate a Bode plot that takes this input to the proper output. Remember that gain is defined as the magnitude of the input voltage over output voltage as a function of frequency.<br>\n",
    "**_Hint: The desired frequency is 60 Hz. What range of frequencies would you need to eliminate?_**<br>\n",
    "**_Hint: Make sure the gain is correct. The gain for an RLC circuit at resonance is_** $$G=\\sqrt{\\frac{L}{C}}\\frac{1}{R}$$"
   ]
  },
  {
   "cell_type": "code",
   "execution_count": null,
   "metadata": {},
   "outputs": [],
   "source": [
    "# Put the code for your DC to AC converter here\n",
    "\n",
    "    #Determine passive component values here#\n",
    "\n",
    "\n",
    "\n",
    "def DC_to_AC(freq):\n",
    "    \n",
    "    return H\n",
    "\n",
    "\n",
    "freqs, amp, phi = freq_analysis(DC_to_AC, freq_low, freq_high)\n",
    "bode_plots(freqs, np.abs(amp), phi, freq_resonant)"
   ]
  },
  {
   "cell_type": "markdown",
   "metadata": {},
   "source": [
    "**<font color=blue>Problem 11.7: Explain how you chose your filter for the DC to AC converter? How did you pick the values of the passive components?**"
   ]
  },
  {
   "cell_type": "markdown",
   "metadata": {},
   "source": [
    "_Write your answer here._"
   ]
  },
  {
   "cell_type": "markdown",
   "metadata": {},
   "source": [
    "# Save and Submit\n",
    "Submit your .ipynb and .html files to canvas."
   ]
  }
 ],
 "metadata": {
  "kernelspec": {
   "display_name": "Python 3",
   "language": "python",
   "name": "python3"
  },
  "language_info": {
   "codemirror_mode": {
    "name": "ipython",
    "version": 3
   },
   "file_extension": ".py",
   "mimetype": "text/x-python",
   "name": "python",
   "nbconvert_exporter": "python",
   "pygments_lexer": "ipython3",
   "version": "3.7.7"
  }
 },
 "nbformat": 4,
 "nbformat_minor": 2
}
