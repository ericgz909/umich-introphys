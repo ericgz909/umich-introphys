{
 "cells": [
  {
   "cell_type": "markdown",
   "metadata": {},
   "source": [
    "# <center>Lab 04: DC Circuits</center>"
   ]
  },
  {
   "cell_type": "markdown",
   "metadata": {},
   "source": [
    "Name:"
   ]
  },
  {
   "cell_type": "markdown",
   "metadata": {},
   "source": [
    "# <font color=Black>Part One: Ohm's Law</font>"
   ]
  },
  {
   "cell_type": "markdown",
   "metadata": {},
   "source": [
    "### <font color=Black>Measuring Resistance</font>"
   ]
  },
  {
   "cell_type": "markdown",
   "metadata": {},
   "source": [
    "<strong><font color=Green> Measurements for the resistances of the 10 $\\Omega$, two 50 $\\Omega$, and 495 $\\Omega$ resistors and  one of the provided light bulbs.</font></strong>"
   ]
  },
  {
   "cell_type": "markdown",
   "metadata": {},
   "source": [
    "<table style=\"table-layout: fixed;\"> <tbody>  \n",
    "<tr> <td> Resistor </td> <td> Resistance [$\\Omega$]  </td> </tr> \n",
    "<tr> <td> 10 $\\Omega$  </td> <td> 9.2 </td> </tr> \n",
    "<tr> <td> 50 $\\Omega$  </td> <td> 51.0 </td> </tr> \n",
    "<tr> <td> 50 $\\Omega$  </td> <td> 48.9 </td> </tr> \n",
    "<tr> <td> 495 $\\Omega$ </td> <td> 497 </td> </tr> \n",
    "<tr> <td> Light Bulb   </td> <td> 9.0 </td> </tr> </tbody> </table>"
   ]
  },
  {
   "cell_type": "markdown",
   "metadata": {},
   "source": [
    "<strong><font color=Green> Measurements of the current through and voltage across the 495 $\\Omega$ resistor and light bulb for the two circuits below the table.</font></strong>"
   ]
  },
  {
   "cell_type": "markdown",
   "metadata": {},
   "source": [
    "<strong><font color=Blue> Problem 4.5: Using the measurements provided in the table below, calculate the resistance for the 495 $\\Omega$ resistor and the light bulb using Ohm's Law. Complete the table by replacing the dashes in the final column with your results.</font></strong>"
   ]
  },
  {
   "cell_type": "markdown",
   "metadata": {},
   "source": [
    "<table style=\"table-layout: fixed;\"> <tbody>  \n",
    "<tr> <td> Component </td> <td> Measured Voltage [V]  </td> <td> Measured Current [A]  </td> <td> Calculated Resistance [$\\Omega$]  </td> </tr> \n",
    "<tr> <td> 495 $\\Omega$ Resistor </td> <td> 8.1 </td> <td> 0.016 </td> <td> - </td> </tr> \n",
    "<tr> <td> Light Bulb </td> <td> 7.93 </td> <td> 0.198 </td> <td> - </td> </tr> </tbody> </table>"
   ]
  },
  {
   "attachments": {
    "simple_circuit6.png": {
     "image/png": "[encoded data removed]"
    }
   },
   "cell_type": "markdown",
   "metadata": {},
   "source": [
    "![simple_circuit6.png](attachment:simple_circuit6.png)"
   ]
  },
  {
   "attachments": {
    "simple_circuit1.png": {
     "image/png": "[encoded data removed]"
    }
   },
   "cell_type": "markdown",
   "metadata": {},
   "source": [
    "![simple_circuit1.png](attachment:simple_circuit1.png)"
   ]
  },
  {
   "cell_type": "markdown",
   "metadata": {},
   "source": [
    "<strong><font color=Blue> Problem 4.6: How does the resistance calculated from voltage and current measurements compare to the direct measurement of the resistance for the 495 $\\Omega$ resistor? Do these measurements agree (up to $\\sim10\\%$)? If not, why not?</font></strong>"
   ]
  },
  {
   "cell_type": "markdown",
   "metadata": {},
   "source": [
    "_Write your answer here._"
   ]
  },
  {
   "cell_type": "markdown",
   "metadata": {},
   "source": [
    "<strong><font color=Blue> Problem 4.7: How does the resistance calculated from voltage and current measurements compare to the direct measurement of the resistance for the light bulb? Do these measurements agree (up to $\\sim10\\%$)? If not, why not?</font></strong>"
   ]
  },
  {
   "cell_type": "markdown",
   "metadata": {},
   "source": [
    "_Write your answer here._"
   ]
  },
  {
   "cell_type": "markdown",
   "metadata": {},
   "source": [
    "# <font color=Black>Part Two: Adding Resistance in Series and in Parallel</font>"
   ]
  },
  {
   "cell_type": "markdown",
   "metadata": {},
   "source": [
    "<strong><font color=green>For the remainder of the lab, we will use the UC Boulder PhET https://phet.colorado.edu/sims/html/circuit-construction-kit-dc/latest/circuit-construction-kit-dc_en.html to analyze the simple circuits in question. If the PhET does not load, try using a different browser. Note that you can change the resistance and voltage values of resistors and batteries respectively by clicking on them."
   ]
  },
  {
   "cell_type": "markdown",
   "metadata": {},
   "source": [
    "### <font color=Black>Resistors in Series</font>"
   ]
  },
  {
   "cell_type": "markdown",
   "metadata": {},
   "source": [
    "**<font color=Purple> Directions: Use the PhET to create the circuit with the light bulb used in part one as our reference circuit (Set battery to 8 V and the light bulb resistance to what is displayed in the first at the top of the notebook). After using the PhET to create the reference circuit, complete the measurements necessary to fill out the Reference Circuit row in the table below. Create the circuit below with two bulbs in series (set the second bulb to the same resistance as the first) and repeat the same measurements across bulb A to complete the Series Circuit row in the table below. Answer the related questions.</font>**"
   ]
  },
  {
   "attachments": {
    "simple_circuit7.png": {
     "image/png": "[encoded data removed]"
    }
   },
   "cell_type": "markdown",
   "metadata": {},
   "source": [
    "![simple_circuit7.png](attachment:simple_circuit7.png)"
   ]
  },
  {
   "cell_type": "markdown",
   "metadata": {},
   "source": [
    "<strong><font color=Blue> Problem 4.8: Complete the following table as you make your measurements of light bulb A in the series circuit.</font></strong>"
   ]
  },
  {
   "cell_type": "markdown",
   "metadata": {},
   "source": [
    "<table style=\"table-layout: fixed;\"> <tbody>  <tr> <td> Component </td> <td> Voltage $V_A$ [V]  </td> <td> Current $I_A$ [A]  </td> <td> Power $P_A$ [W] </td> </tr> \n",
    "<tr> <td> Reference Circuit Bulb A </td> <td> - </td> <td> - </td> <td> - </td> </tr> \n",
    "<tr> <td> Series Circuit Bulb A </td> <td> - </td> <td> - </td> <td> - </td> </tr>  </tbody> </table>"
   ]
  },
  {
   "cell_type": "markdown",
   "metadata": {},
   "source": [
    "<strong><font color=Blue> Problem 4.9: How does the total current output by the power supply change in the series circuit compared to the reference circuit? Note: This is directly related to the change in power output by the power supply since $P = IV$ and the power supply voltage is constant as we change circuits.</font></strong>"
   ]
  },
  {
   "cell_type": "markdown",
   "metadata": {},
   "source": [
    "_Write your answer here._"
   ]
  },
  {
   "cell_type": "markdown",
   "metadata": {},
   "source": [
    "<strong><font color=Blue> Problem 4.10: How does the total power consumed by the *both bulbs* in the series circuit compare to the power consumed by the *single bulb* in the reference circuit? *Hint: The brightness is related to the power output by a bulb. Because bulbs are not ohmic, we should use $P=IV$ instead of a different relation which depends on resistance explicitly.*</font></strong>"
   ]
  },
  {
   "cell_type": "markdown",
   "metadata": {},
   "source": [
    "_Write your answer here._"
   ]
  },
  {
   "cell_type": "markdown",
   "metadata": {},
   "source": [
    "### <font color=Black>Resistance in Parallel Circuits</font>"
   ]
  },
  {
   "cell_type": "markdown",
   "metadata": {},
   "source": [
    "**<font color=Purple> Directions: Fill in the first row of the table below with the Reference Circuit measurements from above. Use the PhET to create the circuit below with two bulbs in parallel. Fill in final row of the table using your measurements for bulb A of the parallel circuit, then answer the following questions.</font>**"
   ]
  },
  {
   "attachments": {
    "simple_circuit8.png": {
     "image/png": "[encoded data removed]"
    }
   },
   "cell_type": "markdown",
   "metadata": {},
   "source": [
    "![simple_circuit8.png](attachment:simple_circuit8.png)"
   ]
  },
  {
   "cell_type": "markdown",
   "metadata": {},
   "source": [
    "<strong><font color=Blue> Problem 4.11: Complete the following table as you make your measurements of light bulb A in the parallel circuit.</font></strong>"
   ]
  },
  {
   "cell_type": "markdown",
   "metadata": {},
   "source": [
    "<table style=\"table-layout: fixed;\"> <tbody>  <tr> <td> Component </td> <td> Voltage $V_A$ [V]  </td> <td> Current $I_A$ [A]  </td> <td> Power $P_A$ [W] </td> </tr> \n",
    "<tr> <td> Reference Circuit Bulb A </td> <td> - </td> <td> - </td> <td> - </td> </tr> \n",
    "<tr> <td> Parallel Circuit Bulb A </td> <td> - </td> <td> - </td> <td> - </td> </tr>  </tbody> </table>"
   ]
  },
  {
   "cell_type": "markdown",
   "metadata": {},
   "source": [
    "<strong><font color=Blue> Problem 4.12: How does the total current output by the power supply change in the parallel circuit compared to the reference circuit? Note: Again, this is directly related to power output by the power supply.</font></strong>"
   ]
  },
  {
   "cell_type": "markdown",
   "metadata": {},
   "source": [
    "_Write your answer here._"
   ]
  },
  {
   "cell_type": "markdown",
   "metadata": {},
   "source": [
    "<strong><font color=Blue> Problem 4.13: How does the total power consumed by *both bulbs* in the parallel circuit compare to the power consumed by the *single bulb* in the reference circuit? *Hint: Again, we should use $P=IV$ since the bulbs are not ohmic. Though in this circuit, remember the total current in the circuit is not the same as the current through each bulb.*</font></strong>"
   ]
  },
  {
   "cell_type": "markdown",
   "metadata": {},
   "source": [
    "_Write your answer here._"
   ]
  },
  {
   "cell_type": "markdown",
   "metadata": {},
   "source": [
    "# <font color=Black>Part Three: Kirchhoff's Rules</font>"
   ]
  },
  {
   "cell_type": "markdown",
   "metadata": {},
   "source": [
    "<strong><font color=Blue> Problem 4.14: Using the values for the resistors provided to you, calculate the following circuit’s equivalent resistance. Calculate the expected voltage and current for each resistor. You can use the code cell provided below the table to perform your calculations.</font></strong>"
   ]
  },
  {
   "attachments": {
    "image.png": {
     "image/png": "[encoded data removed]"
    }
   },
   "cell_type": "markdown",
   "metadata": {},
   "source": [
    "![image.png](attachment:image.png)"
   ]
  },
  {
   "cell_type": "markdown",
   "metadata": {},
   "source": [
    "<table style=\"table-layout: fixed;\"> <tbody>  \n",
    "<tr> <td> Component </td> <td> Resistance [$\\Omega$]  </td> <td> Voltage [V]  </td> <td> Current [A]  </td> </tr> \n",
    "<tr> <td> $R_1$ </td>     <td> 50.0 </td>              <td> - </td>            <td> - </td> </tr> \n",
    "<tr> <td> $R_2$ </td>     <td> 10.0 </td>              <td> - </td>            <td> - </td> </tr> \n",
    "<tr> <td> $R_3$ </td>     <td> 50.0 </td>              <td> - </td>            <td> - </td> </tr> \n",
    "<tr> <td> $R_{eq}$ </td>  <td> - </td>                 <td> - </td>            <td> - </td> </tr> </tbody> </table>"
   ]
  },
  {
   "cell_type": "code",
   "execution_count": null,
   "metadata": {},
   "outputs": [],
   "source": [
    "#Use This code cell for calculations"
   ]
  },
  {
   "cell_type": "markdown",
   "metadata": {},
   "source": [
    "**<font color=Purple> Directions: Build the circuit using the PhET; make sure to set the resistors' resistances to their appropriate values.</font>**"
   ]
  },
  {
   "cell_type": "markdown",
   "metadata": {},
   "source": [
    "<strong><font color=Blue> Problem 4.15: Measure the voltage and current of each resistor and of the equivalent resistor to complete the table below.</font></strong>"
   ]
  },
  {
   "cell_type": "markdown",
   "metadata": {},
   "source": [
    "<table style=\"table-layout: fixed;\"> <tbody>  \n",
    "<tr> <td> Component </td> <td> Measured Voltage [V]  </td> <td> Measured Current [A] </td> </tr> \n",
    "<tr> <td> $R_1$           </td> <td> - </td>         <td> - </td> </tr> \n",
    "<tr> <td> $R_2$           </td> <td> - </td>         <td> - </td> </tr> \n",
    "<tr> <td> $R_3$           </td> <td> - </td>         <td> - </td> </tr> \n",
    "<tr> <td> $R_{eq}$        </td> <td> - </td>         <td> - </td> </tr> \n",
    "</tbody> </table>"
   ]
  },
  {
   "cell_type": "markdown",
   "metadata": {},
   "source": [
    "# <font color=Black>Part Four: Circuit Analysis</font>"
   ]
  },
  {
   "cell_type": "markdown",
   "metadata": {},
   "source": [
    "**<font color=Purple> Directions: After building the circuit in the lab manual, and observing the changes due to adding the 50 $\\Omega$ resistor, answer the following questions.</font>**"
   ]
  },
  {
   "attachments": {
    "image.png": {
     "image/png": "[encoded data removed]"
    }
   },
   "cell_type": "markdown",
   "metadata": {},
   "source": [
    "![image.png](attachment:image.png)"
   ]
  },
  {
   "cell_type": "markdown",
   "metadata": {},
   "source": [
    "<strong><font color=Blue> Problem 4.16: Qualitatively, how does the total current in the circuit change after adding the 50 Ω resistor? Why?</font></strong>"
   ]
  },
  {
   "cell_type": "markdown",
   "metadata": {},
   "source": [
    "_Write your answer here._"
   ]
  },
  {
   "cell_type": "markdown",
   "metadata": {},
   "source": [
    "<strong><font color=Blue> Problem 4.17: Qualitatively, how does the voltage across each bulb in the circuit change after adding the 50 Ω resistor? Why?</font></strong>"
   ]
  },
  {
   "cell_type": "markdown",
   "metadata": {},
   "source": [
    "_Write your answer here._"
   ]
  },
  {
   "cell_type": "markdown",
   "metadata": {},
   "source": [
    "<strong><font color=Blue> Problem 4.18: Qualitatively, how does the brightness in each bulb change after adding the 50 Ω resistor? Why?</font></strong>"
   ]
  },
  {
   "cell_type": "markdown",
   "metadata": {},
   "source": [
    "_Write your answer here._"
   ]
  },
  {
   "cell_type": "markdown",
   "metadata": {},
   "source": [
    "# <font color=Black>Part Five: Short Circuits and Broken Circuits</font>"
   ]
  },
  {
   "cell_type": "markdown",
   "metadata": {},
   "source": [
    "**<font color=Purple> Directions: Build the circuits in the lab manual and see what happens when you short/break them to answer the following questions.</font>**"
   ]
  },
  {
   "cell_type": "markdown",
   "metadata": {},
   "source": [
    "<strong><font color=Blue> Problem 4.19: Explain the reason for the relative brightness of in each bulb. You may need to increase the power supply voltage to about 15 V to see all of the bulbs.</font></strong>"
   ]
  },
  {
   "cell_type": "markdown",
   "metadata": {},
   "source": [
    "_Write your answer here._"
   ]
  },
  {
   "cell_type": "markdown",
   "metadata": {},
   "source": [
    "<strong><font color=Blue> Problem 4.20: What happens to the brightness of each bulb upon breaking the circuit? Explain the reason for your observations.</font></strong>"
   ]
  },
  {
   "cell_type": "markdown",
   "metadata": {},
   "source": [
    "_Write your answer here._"
   ]
  },
  {
   "cell_type": "markdown",
   "metadata": {},
   "source": [
    "<strong><font color=Blue> Problem 4.21: What happens to the brightness of each bulb upon shorting the circuit? Explain the reason for your observations.</font></strong>"
   ]
  },
  {
   "cell_type": "markdown",
   "metadata": {},
   "source": [
    "_Write your answer here._"
   ]
  },
  {
   "cell_type": "markdown",
   "metadata": {},
   "source": [
    "<strong><font color=Blue> Problem 4.22: In the 1989 movie National Lampoon’s Christmas Vacation, the film’s protagonist wires his entire house with string lights yet they fail to turn on as expected. Another character suggests that he checks each bulb to make sure none have burned out. If the lights did not turn on due to a burned out bulb, what configuration must they have been in – series, parallel, or a series-parallel combination? Explain your answer based on the results of your experiments.</font></strong>"
   ]
  },
  {
   "cell_type": "markdown",
   "metadata": {},
   "source": [
    "_Write your answer here._"
   ]
  },
  {
   "cell_type": "markdown",
   "metadata": {},
   "source": [
    "<strong><font color=Blue> Problem 4.23: When you use a power strip with your computer, you can connect and disconnect components without affecting the others. How must the terminals on the power strip be wired – series, parallel, or a series- parallel combination? Explain your answer based on the results of your experiments.</font></strong>"
   ]
  },
  {
   "cell_type": "markdown",
   "metadata": {},
   "source": [
    "_Write your answer here._"
   ]
  }
 ],
 "metadata": {
  "kernelspec": {
   "display_name": "Python 3",
   "language": "python",
   "name": "python3"
  },
  "language_info": {
   "codemirror_mode": {
    "name": "ipython",
    "version": 3
   },
   "file_extension": ".py",
   "mimetype": "text/x-python",
   "name": "python",
   "nbconvert_exporter": "python",
   "pygments_lexer": "ipython3",
   "version": "3.8.3"
  }
 },
 "nbformat": 4,
 "nbformat_minor": 2
}
