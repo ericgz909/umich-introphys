{
 "cells": [
  {
   "cell_type": "markdown",
   "metadata": {},
   "source": [
    "# <center>Lab 6: Motion of Charged Particles in Fields</center>"
   ]
  },
  {
   "cell_type": "markdown",
   "metadata": {},
   "source": [
    "<strong>Run the following code cell to load the packages necessary for this lab."
   ]
  },
  {
   "cell_type": "code",
   "execution_count": null,
   "metadata": {},
   "outputs": [],
   "source": [
    "import matplotlib.pyplot as plt\n",
    "import numpy as np\n",
    "from scipy.optimize import curve_fit"
   ]
  },
  {
   "cell_type": "markdown",
   "metadata": {},
   "source": [
    "# <font color=Black>Part One: Electric Field Deflection</font>"
   ]
  },
  {
   "cell_type": "markdown",
   "metadata": {},
   "source": [
    "<strong><font color=Blue> Problem 6.1: Follow the next instruction to measure $x$, $y$ for two values of $V_d$ . Record eight coordinates along the beam path for each $V_d$. Keep $x ≥ 6$ cm.</font><font color=green> [Online Labs]: This data has been collected for you.</font></strong>"
   ]
  },
  {
   "cell_type": "markdown",
   "metadata": {},
   "source": [
    "<table style=\"table-layout: fixed;\"> <tbody>  \n",
    "<tr> <td>  </td> <td> Coordinate 1 </td> <td> Coordinate 2 </td> <td> Coordinate 3 </td> <td> Coordinate 4 </td> <td> Coordinate 5 </td> <td> Coordinate 6 </td> <td> Coordinate 7 </td> <td> Coordinate 8 </td> </tr> \n",
    "    \n",
    "<tr> <td> $x$ [cm]  </td> <td> 3.4 </td> <td> 4.6 </td> <td> 6.0 </td> <td> 7.0 </td> <td> 7.8 </td> <td> 8.6 </td> <td> 9.4 </td> <td> 10.0 </td> </tr> \n",
    "    \n",
    "<tr> <td> $y_{2kV}$ [cm]  </td> <td> 0.2 </td> <td> 0.4 </td> <td> 0.6 </td> <td> 0.8 </td> <td> 1.0 </td> <td> 1.2 </td> <td> 1.4 </td> <td> 1.6 </td> </tr> \n",
    "    \n",
    "<tr> <td> $y_{3kV}$ [cm]  </td> <td> 0.3 </td> <td> 0.5 </td> <td> 0.8 </td> <td> 1.1 </td> <td> 1.4 </td> <td> 1.6 </td> <td> 1.9 </td> <td> 2.2 </td> </tr> </tbody> </table>"
   ]
  },
  {
   "cell_type": "markdown",
   "metadata": {},
   "source": [
    "<strong><font color=Blue> Problem 6.2: In this next code cell we will plot $(x-x_0)$ vs $y$ and perform a fit to extract a measurement of the electric field. Carefully read the code cell and fill in the code when promted.</font></strong>"
   ]
  },
  {
   "cell_type": "code",
   "execution_count": null,
   "metadata": {},
   "outputs": [],
   "source": [
    "# first we grab values from table\n",
    "x_data     = np.array([3.4, 4.6, 6.0, 7.0, 7.8, 8.6, 9.4, 10.0])\n",
    "y_2kV_data = np.array([0.2, 0.4, 0.6, 0.8, 1.0, 1.2, 1.4, 1.6])\n",
    "y_3kV_data = np.array([0.3, 0.5, 0.8, 1.1, 1.4, 1.6, 1.9, 2.2])\n",
    "x_0 = 2.\n",
    "x_data = x_data - x_0\n",
    "\n",
    "# now we define quadratic function for fit\n",
    "# leave out b*x for now, we will discuss deflection angles in the next lab.\n",
    "def quadratic(x,a,c):\n",
    "    y = a*(x**2) + c\n",
    "    return y\n",
    "\n",
    "# next, we use scipy to perform fit\n",
    "params_2kV, ecov_2kV = curve_fit(quadratic,x_data,y_2kV_data)\n",
    "params_3kV, ecov_3kV = curve_fit(quadratic,x_data,y_3kV_data)\n",
    "\n",
    "# print out the results\n",
    "print(\"\"\"Parameters for 2kV Fit:\\n\n",
    "    a = {:.3g}\\n\n",
    "    c = {:.3g}\\n\"\"\".format(params_2kV[0],params_2kV[1]))\n",
    "\n",
    "print(\"\"\"Parameters for 3kV Fit:\\n\n",
    "    a = {:.3g}\\n\n",
    "    c = {:.3g}\\n\"\"\".format(params_3kV[0],params_3kV[1]))\n",
    "\n",
    "\n",
    "#Plot x vs. y\n",
    "    ###  Edit These Titles  ###\n",
    "plot_title = 'my_title' \n",
    "plot_xaxis = 'my_x_axis'\n",
    "plot_yaxis = 'my_y_axis'\n",
    "    ###  End Edit  ###\n",
    "\n",
    "plt.figure(1,figsize = [16,6])\n",
    "\n",
    "    ### Edit This Command ###\n",
    "    # x and y correspond to the variables you wish to plot. \n",
    "plt.plot(x_data,y_2kV_data,'bo') #for 2kV\n",
    "plt.plot(x_data,y_3kV_data,'go') #for 3kV\n",
    "    ### End Edit ###\n",
    "    \n",
    "#plot fits\n",
    "x_linspace = np.linspace(x_data.min(),x_data.max(),100)\n",
    "y_2kV_linspace = quadratic(x_linspace,params_2kV[0],params_2kV[1])\n",
    "y_3kV_linspace = quadratic(x_linspace,params_3kV[0],params_3kV[1])\n",
    "\n",
    "plt.plot(x_linspace,y_2kV_linspace,'b-')\n",
    "plt.plot(x_linspace,y_3kV_linspace,'g-')\n",
    "\n",
    "    \n",
    "plt.title(plot_title)\n",
    "plt.xlabel(plot_xaxis)\n",
    "plt.ylabel(plot_yaxis)\n",
    "\n",
    "# display the plot here\n",
    "plt.show()\n",
    "\n"
   ]
  },
  {
   "cell_type": "markdown",
   "metadata": {},
   "source": [
    "<strong><font color=Blue> Problem 6.3: Use the results of your fit and Eq. 37 to determine the magnitude of the electric field at $V_d = 3$ kV and $V_d = 2$ kV. Record your answers in the following table.</font></strong>"
   ]
  },
  {
   "cell_type": "markdown",
   "metadata": {},
   "source": [
    "<table style=\"table-layout: fixed;\"> <tbody>  \n",
    "<tr> <td> Deflection Plate Voltage </td> <td> Electric Field Magnitude [V/m]  </td> </tr> \n",
    "<tr> <td> 2000 [V] </td> <td> - </td> </tr> \n",
    "<tr> <td> 3000 [V] </td> <td> - </td> </tr> \n",
    "</tbody> </table>"
   ]
  },
  {
   "cell_type": "code",
   "execution_count": 2,
   "metadata": {},
   "outputs": [],
   "source": [
    "#you can use this code cell for calculations of the electric field."
   ]
  },
  {
   "cell_type": "markdown",
   "metadata": {},
   "source": [
    "<strong><font color=Blue> Problem 6.4: Record $d$, the separation distance between the plates.</font></strong>"
   ]
  },
  {
   "cell_type": "markdown",
   "metadata": {},
   "source": [
    "The plate separation is $6.2\\ \\text{cm}$."
   ]
  },
  {
   "cell_type": "markdown",
   "metadata": {},
   "source": [
    "<strong><font color=Blue> Problem 6.5: Use the recorded separation distance d to calculate $E = −V_d/d$. Compare this to the value you measured from your graph.</font></strong>"
   ]
  },
  {
   "cell_type": "markdown",
   "metadata": {},
   "source": [
    "_Write your answer here._"
   ]
  },
  {
   "cell_type": "markdown",
   "metadata": {},
   "source": [
    "<strong><font color=Blue> Problem 6.6: You should find a large difference between the two. What physical property makes the $V_d /d$ calculation less reliable?</font></strong>"
   ]
  },
  {
   "cell_type": "markdown",
   "metadata": {},
   "source": [
    "_Write your answer here._"
   ]
  },
  {
   "cell_type": "markdown",
   "metadata": {},
   "source": [
    "# <font color=Black>Part Two: Magnetic Field Deflection</font>"
   ]
  },
  {
   "cell_type": "markdown",
   "metadata": {},
   "source": [
    "<strong><font color=Blue> Problem 6.7: Use the coordinates you selected to calculate $R_{\\text{exp},1}$ with Eq. 40. Record $R_{\\text{exp},1}$ in the table below along with your selected values of the coordinates $x$ and $y$.</font></strong>"
   ]
  },
  {
   "cell_type": "markdown",
   "metadata": {},
   "source": [
    "<table style=\"table-layout: fixed;\"> <tbody>  \n",
    "<tr> <td> Quantity [Units] </td> <td> Exp. 1 Measurements </td> </tr> \n",
    "<tr> <td> $x$ [cm]                </td> <td> 10.0 </td> </tr> \n",
    "<tr> <td> $y$ [cm]                </td> <td> 2.0 </td> </tr> \n",
    "<tr> <td> $R_{\\text{exp},1}$ [cm] </td> <td> - </td> </tr>\n",
    "</tbody> </table>"
   ]
  },
  {
   "cell_type": "markdown",
   "metadata": {},
   "source": [
    "<strong><font color=Blue> Problem 6.8: Measure the upward and downward deflections and record you measurements in the following table.</font></strong>"
   ]
  },
  {
   "cell_type": "markdown",
   "metadata": {},
   "source": [
    "<table style=\"table-layout: fixed;\"> <tbody>  \n",
    "<tr> <td> Anode Voltage $V_a$ [V]  </td> <td> $I_{B,upward}$ [A]  </td> <td> $I_{B,downward}$ [A]  </td> </tr> \n",
    "<tr> <td> 2700 </td> <td> 0.164 </td> <td> -0.171 </td> </tr> \n",
    "<tr> <td> 2800 </td> <td> 0.168 </td> <td> -0.176 </td> </tr> \n",
    "<tr> <td> 2900 </td> <td> 0.171 </td> <td> -0.178 </td> </tr> \n",
    "<tr> <td> 3000 </td> <td> 0.172 </td> <td> -0.182 </td> </tr> \n",
    "<tr> <td> 3100 </td> <td> 0.175 </td> <td> -0.184 </td> </tr> \n",
    "<tr> <td> 3200 </td> <td> 0.180 </td> <td> -0.185 </td> </tr> \n",
    "<tr> <td> 3300 </td> <td> 0.182 </td> <td> -0.190 </td> </tr> \n",
    "<tr> <td> 3400 </td> <td> 0.187 </td> <td> -0.192 </td> </tr> \n",
    "</tbody> </table>"
   ]
  },
  {
   "cell_type": "markdown",
   "metadata": {},
   "source": [
    "<strong><font color=Blue> Problem 6.9: Use Eq. 39 and Eq. 43 in the lab manual to compute $R_{\\text{exp},2}$ with the $3\\ \\text{kV}$ setting.</font></strong>"
   ]
  },
  {
   "cell_type": "markdown",
   "metadata": {},
   "source": [
    "_Write your answer here._"
   ]
  },
  {
   "cell_type": "markdown",
   "metadata": {},
   "source": [
    "**For reference:**<br>\n",
    "Eq. 39: $R = \\sqrt{\\frac{2V_a m_e}{|q_e|B^2}}$<br> \n",
    "<br>\n",
    "Eq. 43: $B = (4.23\\times10^{-3} $ **T/A**$)\\cdot I_B$<br>\n",
    "<br>\n",
    "$m_e = 9.109 \\times 10^{-31}$ **kg**<br>\n",
    "<br>\n",
    "$q_e = -1.602 \\times 10^{-19}$ **C.**<br>"
   ]
  },
  {
   "cell_type": "markdown",
   "metadata": {},
   "source": [
    "<strong><font color=Blue> Problem 6.10: Calculate the \\% error of $R_{\\text{exp},2}$ with respect to our 'theoretical' value of $R_{\\text{exp},1}$. Are the two sets of measurements for $R_{exp,1}$ and $R_{exp,2}$ consistent with one another?</font></strong>"
   ]
  },
  {
   "cell_type": "markdown",
   "metadata": {},
   "source": [
    "_Write your answer here._"
   ]
  },
  {
   "cell_type": "markdown",
   "metadata": {},
   "source": [
    "<strong><font color=Blue>Problem 6.11: Calculate the elctron charge to mass ratio using Eq. 39 and $R_{\\text{exp},1}$ (here, $V_a = 3\\ \\text{kV}$)."
   ]
  },
  {
   "cell_type": "markdown",
   "metadata": {},
   "source": [
    "_Write your answer here._"
   ]
  },
  {
   "cell_type": "code",
   "execution_count": null,
   "metadata": {},
   "outputs": [],
   "source": [
    "#code cell for calculation of q/m\n",
    "\n"
   ]
  },
  {
   "cell_type": "markdown",
   "metadata": {},
   "source": [
    "<strong><font color=Blue>Problem 6.12: Calculate the elctron's velocity exiting the CRT using Eq. 35 for the $3\\ \\text{kV]$ setting."
   ]
  },
  {
   "cell_type": "markdown",
   "metadata": {},
   "source": [
    "_Write your answer here._"
   ]
  },
  {
   "cell_type": "code",
   "execution_count": null,
   "metadata": {},
   "outputs": [],
   "source": [
    "#code cell for calculation of v_e\n",
    "\n"
   ]
  },
  {
   "cell_type": "markdown",
   "metadata": {},
   "source": [
    "<strong><font color=Blue> Problem 6.13: Using the result above for a quantitative response, describe whether your class data is consistent with the established measurements of the electron charge to mass ratio. For reference, $q_e/m_e \\simeq -1.7588 \\times 10^{11} C\\cdot kg^{-1}$</font></strong>"
   ]
  },
  {
   "cell_type": "markdown",
   "metadata": {},
   "source": [
    "_Write your answer here._"
   ]
  },
  {
   "cell_type": "markdown",
   "metadata": {},
   "source": [
    "# <font color=Black>Part Three: Crossed Fields</font>"
   ]
  },
  {
   "cell_type": "markdown",
   "metadata": {},
   "source": [
    "<strong>Now with both fields turned on, we can use the velocity selector and our knowledge of the electron charge to find the velocity at which the CRT shoots electrons."
   ]
  },
  {
   "cell_type": "markdown",
   "metadata": {},
   "source": [
    "<strong><font color=Blue> Problem 6.14: Using your fit data for the electric field and the current needed for an undeflected beam at each setting, calculate $|\\vec{B}|$, $|\\vec{v}_e|$ and $\\beta = |\\vec{v}_e/c|$. Use $c=2.998\\times 10^{8}m/s$. You can use the code below to perform your calculations.</font></strong>"
   ]
  },
  {
   "cell_type": "markdown",
   "metadata": {},
   "source": [
    "<table style=\"table-layout: fixed;\"> <tbody>  \n",
    "<tr> <td>  </td> <td> $I_B$ [A]  </td> <td> $E$ [V/m] </td> <td> $B$ [T]  </td> <td> $v_e$ [m/s]  </td> <td> $\\beta$ </td> </tr> \n",
    "    \n",
    "<tr> <td> $V_d$$=$$2000$ [V]  </td> <td> 0.155 </td> <td> - </td> <td> - </td> <td> - </td> <td> - </td> </tr> \n",
    "<tr> <td> $V_d$$=$$3000$ [V]  </td> <td> 0.234 </td> <td> - </td> <td> - </td> <td> - </td> <td> - </td> </tr> \n",
    "</tbody> </table>"
   ]
  },
  {
   "cell_type": "code",
   "execution_count": null,
   "metadata": {},
   "outputs": [],
   "source": [
    "#code cell for calculations"
   ]
  },
  {
   "cell_type": "markdown",
   "metadata": {},
   "source": [
    "<strong><font color=Blue> Problem 6.15: Why is it impossible to achieve a perfectly straight line using this setup?</font></strong>"
   ]
  },
  {
   "cell_type": "markdown",
   "metadata": {},
   "source": [
    "_Write your answer here._"
   ]
  },
  {
   "cell_type": "markdown",
   "metadata": {},
   "source": [
    "<strong><font color=Blue> Problem 6.16: Compare your calculation of the electron velocity calculated using Eq. 35 to the velocity we found using the velocity selector set to $V_d = 3\\ \\text{kV}$. Be quantitative.</font></strong>"
   ]
  },
  {
   "cell_type": "markdown",
   "metadata": {},
   "source": [
    "_Write your answer here._"
   ]
  },
  {
   "cell_type": "markdown",
   "metadata": {},
   "source": [
    "<strong><font color=Blue> Problem 6.17: Using $V_d = 3\\ \\text{kV}$, calculate $|\\vec{F}_E|$, $|\\vec{F}_B|$. Using the value of $m_e$ stated in the previous question, and the code cell below, calculate $|\\vec{F}_{gravity}|$. Is gravity a significant factor in this experiment?</font></strong>"
   ]
  },
  {
   "cell_type": "markdown",
   "metadata": {},
   "source": [
    "_Write your answer here._"
   ]
  }
 ],
 "metadata": {
  "kernelspec": {
   "display_name": "Python 3",
   "language": "python",
   "name": "python3"
  },
  "language_info": {
   "codemirror_mode": {
    "name": "ipython",
    "version": 3
   },
   "file_extension": ".py",
   "mimetype": "text/x-python",
   "name": "python",
   "nbconvert_exporter": "python",
   "pygments_lexer": "ipython3",
   "version": "3.7.7"
  }
 },
 "nbformat": 4,
 "nbformat_minor": 2
}
