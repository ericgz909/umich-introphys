{
 "cells": [
  {
   "cell_type": "markdown",
   "metadata": {},
   "source": [
    "# Lab 01: Statistics and Data Analysis"
   ]
  },
  {
   "cell_type": "markdown",
   "metadata": {},
   "source": [
    "_Group Members_ :"
   ]
  },
  {
   "cell_type": "markdown",
   "metadata": {},
   "source": [
    "The goal of this lab is to familiarize you with the sorts of statistical analysis tools you will be using throughout this class and beyond. You will learn to calculate statistical quantities and use them to make arguments about the data they represent.\n",
    "\n",
    "You will be turning in a completed copy of the Jupyter notebook. Throughout the notebook you will be prompted to calculate statistical quantities, extract physical parameters from data, and visualize both the data and the physical parameters. You will also be asked to support or refute various arguments based on your calculations and to make arguments of your own. These are the components you will be graded on."
   ]
  },
  {
   "cell_type": "markdown",
   "metadata": {},
   "source": [
    "The first very thing we need to do is to import all the Python libraries we'll need.  Run both cells below."
   ]
  },
  {
   "cell_type": "code",
   "execution_count": null,
   "metadata": {},
   "outputs": [],
   "source": [
    "# Run this Python cell by selecting it and then pressing shift-enter\n",
    "# Do not change anything in this cell\n",
    "# These commands load the libraries for Python to use\n",
    "\n",
    "import numpy as np\n",
    "import scipy.special\n",
    "import scipy.optimize\n",
    "import matplotlib.pyplot as plt\n",
    "import lab_1_functions as lab1funcs"
   ]
  },
  {
   "cell_type": "code",
   "execution_count": null,
   "metadata": {},
   "outputs": [],
   "source": [
    "%matplotlib notebook"
   ]
  },
  {
   "cell_type": "markdown",
   "metadata": {},
   "source": [
    "# Part One: Rolling Some Dice\n",
    "Your GSI will provide you with several six-sided dice. In this first part of the lab, you will roll the dice, and insert the results into arrays for plotting. The rest of the lab will build off of the basic framework of arrays, which in Python come from the NumPy libary.  If you look at the Python cell above, you will see that you already imported the NumPy library as np.  Below, when we call np.array, this makes an array based on the instructions in the NumPy library.  \n",
    "\n",
    "**<font color=green>Note: For the online version of this course, you can either roll your own die/ dice at home, or use an online random number dice roller (such as [random.org/dice](https:random.org/dice/) ).**"
   ]
  },
  {
   "cell_type": "markdown",
   "metadata": {},
   "source": [
    "Start by rolling 10 dice (either one at a time or 10 at once.) Insert the results into the indicated array below, and run the cell to see a histogram of the dice rolls. Then roll 10 more, add them to the same array, and rerun the cell.\n",
    "\n",
    "**<font color=red>Code Task 1.1: Insert the results into the indicated array in the code below, and run the cell to see a histogram of the dice rolls. Then roll 10 more (for a total of 20), add them to the same array, and rerun the cell.**"
   ]
  },
  {
   "cell_type": "code",
   "execution_count": null,
   "metadata": {},
   "outputs": [],
   "source": [
    "# This is where the code goes.\n",
    "# Select this cell and press shift-enter to run it.\n",
    "# The output will be displayed in a new cell below this one.\n",
    "\n",
    "## EDIT THE LINE BELOW, REPLACING SAMPLE VALUES INSIDE THE [] WITH YOUR VALUES\n",
    "rolls = np.array([1,2,3,4,5,6]) \n",
    "\n",
    "\n",
    "fig, axs = plt.subplots(1,1)\n",
    "axs.hist(rolls, bins=(0.5,1.5,2.5,3.5,4.5,5.5,6.5), rwidth=0.95)\n",
    "axs.set_title('Rolling Dice')\n",
    "axs.set_xlabel('Roll')\n",
    "axs.set_ylabel('Counts')\n",
    "\n",
    "fig.show()\n",
    "fig.tight_layout()"
   ]
  },
  {
   "cell_type": "markdown",
   "metadata": {},
   "source": [
    "**<font color=blue>Problem 1.3: We would predict this distribution to be uniform, meaning each result has the same probability of occuring (your die has a 1/6 probability of rolling each number). Does that seem to be the case?**"
   ]
  },
  {
   "cell_type": "markdown",
   "metadata": {},
   "source": [
    "_Double click this cell to begin editing. Write your answer here._"
   ]
  },
  {
   "cell_type": "markdown",
   "metadata": {},
   "source": [
    "You're going to perform a similar experiment, but this time you are going to roll two dice at a time and record their sum in the array. Record 30 sums.\n",
    "\n",
    "**<font color=red>Code Task 1.2: Insert the results of your summation into the indicated array in the code below, and run the cell to see a histogram of the dice rolls.**\n"
   ]
  },
  {
   "cell_type": "code",
   "execution_count": null,
   "metadata": {},
   "outputs": [],
   "source": [
    "## EDIT THE LINE BELOW, REPLACING SAMPLE VALUES INSIDE THE [] WITH YOUR VALUES\n",
    "rolls = np.array([2,3,4,6,7,8,10,11,12]) \n",
    "\n",
    "\n",
    "\n",
    "\n",
    "fig, axs = plt.subplots(1,1)\n",
    "axs.hist(rolls, bins=(1.5,2.5,3.5,4.5,5.5,6.5,7.5,8.5,9.5,10.5,11.5,12.5), rwidth=0.95)\n",
    "axs.set_title('Summing Dice')\n",
    "axs.set_xlabel('Roll Sum')\n",
    "axs.set_ylabel('Counts')\n",
    "\n",
    "fig.show()\n",
    "fig.tight_layout()"
   ]
  },
  {
   "cell_type": "markdown",
   "metadata": {},
   "source": [
    "**<font color=blue>Problem 1.4: How would you describe the shape of this distribution?  Are all possible summations equally represented?**"
   ]
  },
  {
   "cell_type": "markdown",
   "metadata": {},
   "source": [
    "_Double click this cell to begin editing. Write your answer here._"
   ]
  },
  {
   "cell_type": "markdown",
   "metadata": {},
   "source": [
    "# Part Two: Fitting Data to a Function\n",
    "Read the following code block and try to anticipate what you think will happen. You don't need to change anything. Then run the cell (shift-enter) and see if you were right."
   ]
  },
  {
   "cell_type": "markdown",
   "metadata": {},
   "source": [
    "**<font color=blue>Problem 1.5: What is your prediction for what the code will do?**"
   ]
  },
  {
   "cell_type": "markdown",
   "metadata": {},
   "source": [
    "_Write what you predict the code will do here before you run the following cell._"
   ]
  },
  {
   "cell_type": "markdown",
   "metadata": {},
   "source": [
    "**<font color=red>Code Task 1.3: Run the cell below without editing after you have predicted what the code will do.**"
   ]
  },
  {
   "cell_type": "code",
   "execution_count": null,
   "metadata": {},
   "outputs": [],
   "source": [
    "x_sample = np.arange(0,10) # 0, 1, 2, 3, 4, 5, 6, 7, 8, 9\n",
    "x_true = np.arange(0,10,0.01)  #0, 0.01, 0.02, 0.03,..., 9.99\n",
    "\n",
    "y_sample = 4*x_sample - 12 + np.random.normal(scale=3, size=len(x_sample))\n",
    "y_true = 4*x_true - 12\n",
    "\n",
    "fig, axs = plt.subplots(1,1)\n",
    "axs.plot(x_true, y_true, '-', label='truth')\n",
    "axs.plot(x_sample, y_sample, '.', label='samples')\n",
    "axs.legend()\n",
    "axs.set_xlabel('x')\n",
    "axs.set_ylabel('y')\n",
    "axs.set_title('Sample data with noise')\n",
    "\n",
    "plt.tight_layout()\n",
    "plt.show()"
   ]
  },
  {
   "cell_type": "markdown",
   "metadata": {},
   "source": [
    "**<font color=blue>Problem 1.6: Did the code the code produce what you predicted?  If not, what was different?**"
   ]
  },
  {
   "cell_type": "markdown",
   "metadata": {},
   "source": [
    "_Double click this cell to begin editing. Write your answer here._"
   ]
  },
  {
   "cell_type": "markdown",
   "metadata": {},
   "source": [
    "Variables and functions that are defined in other cells can be used in the current cell, as long as the other cells have already been run. You don't always need to redefine your functions and variables. Again, read through the following cell and try to anticipate its output, then run the cell."
   ]
  },
  {
   "cell_type": "markdown",
   "metadata": {},
   "source": [
    "**<font color=blue>Problem 1.7: What is your prediction for what the code will do?**"
   ]
  },
  {
   "cell_type": "markdown",
   "metadata": {},
   "source": [
    "_Write what you predict the code will do here before you run the following cell._"
   ]
  },
  {
   "cell_type": "markdown",
   "metadata": {},
   "source": [
    "**<font color=red>Code Task 1.4: Run the cell below without editing after you have predicted what the code will do.**"
   ]
  },
  {
   "cell_type": "code",
   "execution_count": null,
   "metadata": {},
   "outputs": [],
   "source": [
    "# Fitting data to a model\n",
    "coeffs = np.polyfit(x_sample, y_sample, deg=1)\n",
    "\n",
    "# Python is zero-indexed, so the first returned value is at index 0\n",
    "print('y=Ax+B')\n",
    "a = coeffs[0]\n",
    "print('A = ', a)\n",
    "b = coeffs[1]\n",
    "print('B = ', b)\n",
    "\n",
    "x_fit = np.arange(0,10,0.1)\n",
    "y_fit = coeffs[0]*x_fit + coeffs[1]\n",
    "\n",
    "fig, axs = plt.subplots(1,1)\n",
    "axs.plot(x_true, y_true, '-', label='truth')\n",
    "axs.plot(x_sample, y_sample, '.', label='samples')\n",
    "axs.plot(x_fit, y_fit, '--', label='fit')\n",
    "axs.legend()\n",
    "axs.set_xlabel('x')\n",
    "axs.set_ylabel('y')\n",
    "axs.set_title('A linear fit')\n",
    "\n",
    "plt.tight_layout()\n",
    "plt.show()"
   ]
  },
  {
   "cell_type": "markdown",
   "metadata": {},
   "source": [
    "**<font color=blue>Problem 1.8: Did the code the code produce what you predicted?  If not, what was different?**"
   ]
  },
  {
   "cell_type": "markdown",
   "metadata": {},
   "source": [
    "_Double click this cell to begin editing. Write your answer here._"
   ]
  },
  {
   "cell_type": "markdown",
   "metadata": {},
   "source": [
    "The previous cell fit noisy data to a linear equation. However, the code can modified to fit the data to an arbitrary function by replacing the `linear_model` function to any function you want to fit data to."
   ]
  },
  {
   "cell_type": "markdown",
   "metadata": {},
   "source": [
    "The code task below is currently fitting a linear to a data set.  Run the code.  Does this fit match the data very well?  To fit to another function, we will need to change the fit function.  \n",
    "\n",
    "\n",
    "**<font color=red>Code Task 1.5: Modify the fit to a quadratic function.**\n",
    "    \n",
    "Note: Recall that a quadratic function is defined as\n",
    "$$ y = Ax^2+Bx+C$$\n",
    "And that the [np.polyfit](https://numpy.org/doc/stable/reference/generated/numpy.polyfit.html) is a fitting function available for any polynomial function.  The three things you pass to this function is the x data, the y data, and the order (or degree) of the polynomial.\n"
   ]
  },
  {
   "cell_type": "code",
   "execution_count": null,
   "metadata": {},
   "outputs": [],
   "source": [
    "x_sample = np.arange(0,10,0.1)\n",
    "y_sample = -27 - 5*x_sample + x_sample**2 + np.random.normal(scale=5, size=len(x_sample))\n",
    "\n",
    "\n",
    "## MODIFY THE CODE BELOW TO ACCOUNT FOR YOUR ADDITIONAL COEFFICIENT\n",
    "coeffs = np.polyfit(x_sample, y_sample, deg=1)\n",
    "\n",
    "a = coeffs[0]\n",
    "print('A = ', a)\n",
    "b = coeffs[1]\n",
    "print('B = ', b)\n",
    "## MODIFY THE CODE BELOW TO PRINT YOUR ADDITIONAL COEFFICIENT\n",
    "b = coeffs[1]\n",
    "print('B = ', b)\n",
    "\n",
    "\n",
    "x_fit = np.arange(0,10,0.1)\n",
    "## MODIFY THE CODE BELOW TO INCLUDE YOUR ADDITIONAL COEFFICIENT\n",
    "y_fit = a*x_fit + b\n",
    "\n",
    "fig, axs = plt.subplots(1,1)\n",
    "axs.plot(x_sample, y_sample, '.', label='samples')\n",
    "axs.plot(x_fit, y_fit, '--', label='fit')\n",
    "axs.legend()\n",
    "axs.set_xlabel('x')\n",
    "axs.set_ylabel('y')\n",
    "axs.set_title('A linear fit')\n",
    "\n",
    "plt.tight_layout()\n",
    "plt.show()"
   ]
  },
  {
   "cell_type": "markdown",
   "metadata": {},
   "source": [
    "**<font color=blue>Problem 1.9: Does the fit match the data well?  Describe the fit.**"
   ]
  },
  {
   "cell_type": "markdown",
   "metadata": {},
   "source": [
    "_Double click this cell to begin editing. Write your answer here._"
   ]
  },
  {
   "cell_type": "markdown",
   "metadata": {},
   "source": [
    "# Part Three: Visualizing and Analyzing Large Data Sets\n",
    "Now that you have seen how to fit data, we are going to look at large, statistics-dominated data set. The following code generates a large amount of (uniformly-distributed) random data, calculates statistical quantities, and then plots it in a histogram. Read through the code, understand it, and then run it."
   ]
  },
  {
   "cell_type": "markdown",
   "metadata": {},
   "source": [
    "**<font color=blue>Problem 1.10: After you read through the following code, predict what you think the mean and standard deviation of the samples will be. You don't need to be exact.**"
   ]
  },
  {
   "cell_type": "markdown",
   "metadata": {},
   "source": [
    "_Double click this cell to begin editing. Write your answer here._"
   ]
  },
  {
   "cell_type": "markdown",
   "metadata": {},
   "source": [
    "**<font color=red>Code Task 1.6: Run the code below without editing.**"
   ]
  },
  {
   "cell_type": "code",
   "execution_count": null,
   "metadata": {},
   "outputs": [],
   "source": [
    "# Statistics on large data sets\n",
    "N=250\n",
    "samples = 20*np.random.rand(N) - 10\n",
    "\n",
    "mean = np.mean(samples)\n",
    "std_dev = np.std(samples)\n",
    "std_err = std_dev/np.sqrt(len(samples))\n",
    "\n",
    "fig, axs = plt.subplots(1,1)\n",
    "axs.hist(samples, alpha=0.5, bins=20)\n",
    "axs.axvline(mean, color='red', ls='-', label=r'$\\mu=$'+str(\"%.3f\"%mean))\n",
    "axs.axvline(mean + std_dev, color='red', ls='--', label=r'$\\sigma=$'+str(\"%.3f\"%std_dev))\n",
    "axs.axvline(mean - std_dev, color='red', ls='--')\n",
    "axs.axvline(mean + std_err, color='red', ls=':', label=r'$\\sigma_\\mu=$'+str(\"%.3f\"%std_err))\n",
    "axs.axvline(mean - std_err, color='red', ls=':')\n",
    "axs.set_xlabel('bin')\n",
    "axs.set_ylabel('counts')\n",
    "axs.set_title('A histogram of uniformly-distributed random samples')\n",
    "\n",
    "axs.legend()\n",
    "plt.tight_layout()\n",
    "plt.show()"
   ]
  },
  {
   "cell_type": "markdown",
   "metadata": {},
   "source": [
    "**<font color=blue>Problem 1.11: Did the code the code produce what you predicted?  If not, what was different?**"
   ]
  },
  {
   "cell_type": "markdown",
   "metadata": {},
   "source": [
    "_Double click this cell to begin editing. Write your answer here._"
   ]
  },
  {
   "cell_type": "markdown",
   "metadata": {},
   "source": [
    "The following cell is almost exactly the same as the previous cell, except that it generates normally-distributed random data. Run the cell and note the difference between uniformly- and normally-distributed data.\n",
    "\n",
    "**<font color=red>Code Task 1.7: Run the code below without editing.**"
   ]
  },
  {
   "cell_type": "code",
   "execution_count": null,
   "metadata": {},
   "outputs": [],
   "source": [
    "# Statistics on large data sets\n",
    "N=250\n",
    "samples = np.random.normal(scale=10, size=N)  #Difference from code task 6!\n",
    "\n",
    "mean = np.mean(samples)\n",
    "std_dev = np.std(samples)\n",
    "std_err = std_dev/np.sqrt(len(samples))\n",
    "\n",
    "fig, axs = plt.subplots(1,1)\n",
    "axs.hist(samples, alpha=0.5, bins=20)\n",
    "axs.axvline(mean, color='red', ls='-', label=r'$\\mu=$'+str(\"%.3f\"%mean))\n",
    "axs.axvline(mean + std_dev, color='red', ls='--', label=r'$\\sigma=$'+str(\"%.3f\"%std_dev))\n",
    "axs.axvline(mean - std_dev, color='red', ls='--')\n",
    "axs.axvline(mean + std_err, color='red', ls=':', label=r'$\\sigma_\\mu=$'+str(\"%.3f\"%std_err))\n",
    "axs.axvline(mean - std_err, color='red', ls=':')\n",
    "axs.set_xlabel('bin')\n",
    "axs.set_ylabel('counts')\n",
    "axs.set_title('A histogram of normally-distributed random samples')\n",
    "\n",
    "axs.legend()\n",
    "plt.tight_layout()\n",
    "plt.show()"
   ]
  },
  {
   "cell_type": "markdown",
   "metadata": {},
   "source": [
    "**<font color=blue>Problem 1.12: Qualitatively explain the difference between a normal and uniform distribution of samples (code task 6 and 7). What happens when you change the number of samples, $N$ (try smaller and larger), used to generate each histogram? Why do you think we can use the concepts of mean and standard deviation to talk about both?**"
   ]
  },
  {
   "cell_type": "markdown",
   "metadata": {},
   "source": [
    "_Double click this cell to begin editing. Write your answer here._"
   ]
  },
  {
   "cell_type": "markdown",
   "metadata": {},
   "source": [
    "You are now going to use the fitting functions from part 1 to fit the normally-distributed samples to a normal distribution. Compare the fit parameters from the normal-distribution to the calculated values from two cells previously.\n",
    "\n",
    "Note: Recall that a normal distribution is defined as\n",
    "$$ N(x) = Ae^{-(x-\\mu)^2/(2\\sigma^2)}$$\n",
    "\n",
    "You will notice that the fitting algorithm is slightly different than you have previously seen.  This is because a Gaussian is not a polynomial function.  We have used another method of determining a fit to the data, which works the same way as np.polyfit did.  You do not need to edit this fitting syntax.   \n",
    "\n",
    "**<font color=red>Code Task 1.8: Run the code below without editing.  If you edited code task 7 to have $N < 250$, you should change that back before running this section.**"
   ]
  },
  {
   "cell_type": "code",
   "execution_count": null,
   "metadata": {},
   "outputs": [],
   "source": [
    "# Fitting data to a normal distribution\n",
    "\n",
    "def gaussian_unnorm(x, A, sigma, mu):\n",
    "    return A*np.exp(-(x-mu)**2/(2*sigma**2))\n",
    "\n",
    "\n",
    "fig, axs = plt.subplots(1,1)\n",
    "\n",
    "(vals, bins, _) = axs.hist(samples, bins=20, alpha=0.5, label='data')\n",
    "bins_center = (bins[0:-1]+bins[1:])/2\n",
    "bins_size = bins[1]-bins[0]\n",
    "\n",
    "(coeffs, covar) = scipy.optimize.curve_fit(gaussian_unnorm, bins_center, vals, p0=[25, 10, 0])\n",
    "axs.axhline(coeffs[0], color='orange', ls='-', label=r'$A_{fit}$ = '+str(\"%.3f\"%coeffs[0]))\n",
    "axs.axvline(coeffs[2], color='red', ls='-', label=r'$\\mu_{fit}$ = '+str(\"%.3f\"%coeffs[2]))\n",
    "axs.axvline(coeffs[2] + coeffs[1], color='red', ls='--', label=r'$\\sigma_{fit}$ = '+str(\"%.3f\"%coeffs[1]))\n",
    "axs.axvline(coeffs[2] - coeffs[1],  color='red', ls='--')\n",
    "axs.plot(bins_center, gaussian_unnorm(bins_center, coeffs[0], coeffs[1], coeffs[2]), color='black', label = 'fit')\n",
    "\n",
    "axs.set_xlabel('bin')\n",
    "axs.set_ylabel('counts')\n",
    "axs.set_title('A histogram of normally-distributed random samples') \n",
    "axs.legend()\n",
    "\n",
    "plt.tight_layout()\n",
    "plt.show()"
   ]
  },
  {
   "cell_type": "markdown",
   "metadata": {},
   "source": [
    "**<font color=blue>Problem 1.13: How do the mean and standard deviation calculated from the fit compare to the mean and standard deviation calculated by the previously used method (code task 7)? Do you think the same would hold true for fitting a Gaussian to non-normally distributed sample? Why or why not?**"
   ]
  },
  {
   "cell_type": "markdown",
   "metadata": {},
   "source": [
    "_Double click this cell to begin editing. Write your answer here._"
   ]
  },
  {
   "cell_type": "markdown",
   "metadata": {},
   "source": [
    "# Culminating Assessment Task"
   ]
  },
  {
   "cell_type": "markdown",
   "metadata": {},
   "source": [
    "You'll now try to apply your statistics skills to settle an argument between two scientists, Professor Frizz and Dr. Oct.  Professor Frizz recently found a few datasets stored on an old computer in their lab, each of which seems to contain data from free fall experiments.  Each dataset contains data from $N$ experiments, and records the position of a object falling over the course of one second in columns. The data is stored in the following format:\n",
    "\n",
    "| $t$ | $y_1$   | $y_2$ | ... | $y_N$|\n",
    "|------|------|------|------|------|\n",
    "|   0  | 10 | 12.3 | ... | 9.8|\n",
    "| 0.01 | 10.1 | 12.1 | ... | 9.95 |\n",
    "| 0.02 | 10.15 | 11.9 | ... | 10.04 |\n",
    "| ... | ... | ... | ... | ... |\n",
    "| 0.99 | 3 | 2.3 | ... | 4.8 |\n",
    "\n",
    "So the first column is the time at which each position was recorded (in seconds), and the other columns are the heights of the object in each of the $N$ experiments (in meters).\n",
    "\n",
    "Professor Frizz showed these datasets to Dr. Oct, and they decided to see if they could use them to measure the acceleration due to gravity, $g$, by fitting the data to the model for how a freely falling object moves:\n",
    "$$y(t) = y_0 + v_0t + \\frac{1}{2}gt^2$$\n",
    "Where $y_0$ and $v_0$ are the initial heights and velocities of the object at $t=0$.\n",
    "\n",
    "Professor Frizz and Dr. Oct each took a dataset and ran their analysis on it.  However, when they compared their values of $g$, they found that they did not agree!  You've been brought in to help them sort things out..."
   ]
  },
  {
   "cell_type": "markdown",
   "metadata": {},
   "source": [
    "## Goals"
   ]
  },
  {
   "cell_type": "markdown",
   "metadata": {},
   "source": [
    "Your overall goal in this task is to analyze two separate datasets of trajectories and determine whether or not they correspond to the same value of $g$.  Here is an overview of the process:\n",
    "1. *Visualize the Data*: Load the two provided trajectory data sets and make a plots of some of the trjectories.  \n",
    "* *Fit the Data*: We can use the kinematics formula, $y(t) = y_0+v_0t+\\frac{1}{2}gt^2$, to fit each trajectory, $y_i$, and obtain a collection of measurments for $g$, given by $\\{g_1,g_2,g_3,...,g_N\\}$. \n",
    "* *Run Statistics on the Measurment*: Given the sets of measurements of $g$ from each dataset, we can calculate quantities like the mean, standard deviation, and error of the mean of $g$ for each data set.\n",
    "* *Interpret Results*: Based on your statistics, make an argument for or against the hypothesis that both datasets point towards the same value for $g$."
   ]
  },
  {
   "cell_type": "markdown",
   "metadata": {},
   "source": [
    "***\n",
    "## Visualize the Data"
   ]
  },
  {
   "cell_type": "markdown",
   "metadata": {},
   "source": [
    "Pick two different integers between 0 and 9 - these will be the datasets you analyze.  The datasets are stored in files with names like `dataset_3.dat`, so based on which numbers you picked you should load the corresponding datasets."
   ]
  },
  {
   "cell_type": "markdown",
   "metadata": {},
   "source": [
    "**<font color=red>Code Task 1.9: Load your selected datasets. Only edit the index values at the top of the code block.  Run the code.**"
   ]
  },
  {
   "cell_type": "code",
   "execution_count": null,
   "metadata": {},
   "outputs": [],
   "source": [
    "# Which datasets are you using?\n",
    "index_A = ???\n",
    "index_B = ???\n",
    "\n",
    "# --------------------------------\n",
    "# DO NOT MODIFY THE CODE BELOW HERE\n",
    "# --------------------------------\n",
    "\n",
    "# Load the datasets\n",
    "trials_A = np.loadtxt('./data/dataset_'+str(index_A)+'.dat')\n",
    "trials_B = np.loadtxt('./data/dataset_'+str(index_B)+'.dat')\n",
    "\n",
    "# Get the number of trajectories and the times at which data was recorded\n",
    "N = trials_A.shape[1] - 1\n",
    "times = trials_A[:,0]\n",
    "\n",
    "print(\"There are \",N,\" trajectories in each dataset.\")\n",
    "print(\"Each trajectory has data at \",len(times),\" times.\")"
   ]
  },
  {
   "cell_type": "markdown",
   "metadata": {},
   "source": [
    "**<font color=blue>Problem 1.14: How many numbers are in each dataset? Don't forget about the time values!**"
   ]
  },
  {
   "cell_type": "markdown",
   "metadata": {},
   "source": [
    "_Double click this cell to begin editing. Write your answer here._"
   ]
  },
  {
   "cell_type": "markdown",
   "metadata": {},
   "source": [
    "\n",
    "Now we'll plot the trajectories from each dataset to get a sense of what the data looks like.\n",
    "\n",
    "**<font color=red>Code Task 1.10: The following code plots the first 10 trajectories from each dataset.  Run the code without editing.**"
   ]
  },
  {
   "cell_type": "code",
   "execution_count": null,
   "metadata": {},
   "outputs": [],
   "source": [
    "# Setup a figure with 2 panels\n",
    "fig, axs = plt.subplots(1,2)\n",
    "\n",
    "# Plot some of the trajectories\n",
    "axs[0].plot(times, trials_A[:,1:10], '-')\n",
    "axs[1].plot(times, trials_B[:,1:10], '-')\n",
    "\n",
    "# Add axis labels and titles\n",
    "axs[0].set_title(\"Trials A, Dataset \"+str(index_A))\n",
    "axs[1].set_title(\"Trials B, Dataset \"+str(index_B))\n",
    "axs[0].set_xlabel(\"t\")\n",
    "axs[1].set_xlabel(\"t\")\n",
    "axs[0].set_ylabel(\"y(t)\")\n",
    "axs[1].set_ylabel(\"y(t)\")\n",
    "\n",
    "# Show the plot\n",
    "plt.tight_layout()\n",
    "plt.show()"
   ]
  },
  {
   "cell_type": "markdown",
   "metadata": {},
   "source": [
    "**<font color=blue>Problem 1.15: Why do the trajectories within each dataset look different?  What is changing between each experiment? (Assume that the value of $g$ is the same for all trajectories within each dataset, and remember that the trajectory of a falling object is described by $y(t) = y_0 + v_0t + \\frac{1}{2}gt^2$.)**"
   ]
  },
  {
   "cell_type": "markdown",
   "metadata": {},
   "source": [
    "_Double click this cell to begin editing. Write your answer here._"
   ]
  },
  {
   "cell_type": "markdown",
   "metadata": {},
   "source": [
    "***\n",
    "## Fit the Data"
   ]
  },
  {
   "cell_type": "markdown",
   "metadata": {},
   "source": [
    "Now that we know what the data looks like, we'll try to extract the value of $g$ from each trajectory by fitting it to the model:\n",
    "$$y(t)=At^2+Bt+C$$"
   ]
  },
  {
   "cell_type": "markdown",
   "metadata": {},
   "source": [
    "**<font color=blue>Problem 1.16: If we fit a trajectory to the above model, and obtain best fit coefficients $A$, $B$, and $C$, what is the best fit value of $g$ in terms of these coefficients?**"
   ]
  },
  {
   "cell_type": "markdown",
   "metadata": {},
   "source": [
    "_Double click this cell to begin editing. Write your answer here._"
   ]
  },
  {
   "cell_type": "markdown",
   "metadata": {},
   "source": [
    "In order to fit to the above model, we can use np.polyfit to determine the best fit for each trajectory.  Below, only the first trajectory is plotted with it's line fit."
   ]
  },
  {
   "cell_type": "markdown",
   "metadata": {},
   "source": [
    "**<font color=red>Code Task 1.11: Run the code below without editing to fit your trajectory to a polynomial and plot it.**"
   ]
  },
  {
   "cell_type": "code",
   "execution_count": null,
   "metadata": {},
   "outputs": [],
   "source": [
    "coeffs1 = np.polyfit(times, trials_A[:,1], deg=2)\n",
    "yfit1 = coeffs1[0]*times**2 + coeffs1[1]*times + coeffs1[2]\n",
    "coeffs2 = np.polyfit(times, trials_B[:,1], deg=2)\n",
    "yfit2 = coeffs2[0]*times**2 + coeffs2[1]*times + coeffs2[2]\n",
    "\n",
    "\n",
    "fig, axs = plt.subplots(1,2)\n",
    "\n",
    "# Plot some of the trajectories\n",
    "axs[0].plot(times, trials_A[:,1], '.')\n",
    "axs[0].plot(times, yfit1, '-')\n",
    "axs[1].plot(times, trials_B[:,1], '.')\n",
    "axs[1].plot(times, yfit2, '-')\n",
    "\n",
    "# Add axis labels and titles\n",
    "axs[0].set_title(\"Trials A, Dataset \"+str(index_A)+\", Trajectory 1\")\n",
    "axs[1].set_title(\"Trials B, Dataset \"+str(index_B)+\", Trajectory 1\")\n",
    "axs[0].set_xlabel(\"t\")\n",
    "axs[1].set_xlabel(\"t\")\n",
    "axs[0].set_ylabel(\"y(t)\")\n",
    "axs[1].set_ylabel(\"y(t)\")\n",
    "\n",
    "# Show the plot\n",
    "plt.tight_layout()\n",
    "plt.show()"
   ]
  },
  {
   "cell_type": "markdown",
   "metadata": {},
   "source": [
    "Now we'll use this model function to get the best fit values of $g$ for every trajectory in both datasets."
   ]
  },
  {
   "cell_type": "markdown",
   "metadata": {},
   "source": [
    "**<font color=red>Code Task 1.12: Modify the code below to determine the best fit for the acceleration due to gravity of the first trajectory in each data set.  This should match what you said in problem 16.**"
   ]
  },
  {
   "cell_type": "code",
   "execution_count": null,
   "metadata": {},
   "outputs": [],
   "source": [
    "g1 = ???  #Use coeffs1[0], coeffs1[1], or coeffs1[2], and any constants you need \n",
    "g2 = ???  #Use coeffs2[0], coeffs2[1], or coeffs2[2], and any constants you need\n",
    "\n",
    "print('Fit of g for first trajectory of dataset',str(index_A), 'is', g1)\n",
    "print('Fit of g for first trajectory of dataset',str(index_B), 'is', g2)\n"
   ]
  },
  {
   "cell_type": "markdown",
   "metadata": {},
   "source": [
    "Now, we want to do what we did for code task 11 for every trajectory in the data set.  We _could_ copy and paste the code as for as many trajectories as there are.   However, doing this for more than 5 trajectories is tedious, and a lot of work.\n",
    "\n",
    "Python can do this for us much easier with a [for loop](https://wiki.python.org/moin/ForLoop).  A for loop will repeat the code block given (in Python, you can tell what is included in the for loop based upon the lines are are indented) while the conditions at the beginning are still being met.\n",
    "\n",
    "We have already defined a variable $N$ to be the total number of trajectories in a data set in code task 9.  For each trajectory, from the first to the second ... all the way to the Nth trajectory, we will take our fitting from code task 11 and code task 12 and determine the best fit value for g.  We then make an array (that will end up containing $N$ different numbers) to save each trajectory's best fit value for g.\n",
    "\n",
    "Now that we have this array, we can use statistical analysis to better understand the variation of measuring $g$ changes from trajectory to trajectory. "
   ]
  },
  {
   "cell_type": "markdown",
   "metadata": {},
   "source": [
    "**<font color=red>Code Task 1.13: The following code records the best fit value of $g$ in the arrays `g1s` and `g2s`. It prints out the means and standard deviations of the best fit values of $g$ from each dataset. Read through the code, then run it without editing.**"
   ]
  },
  {
   "cell_type": "code",
   "execution_count": null,
   "metadata": {},
   "outputs": [],
   "source": [
    "# Create a place to store the best fit values of g\n",
    "g1s = np.zeros(N)\n",
    "g2s = np.zeros(N)\n",
    "\n",
    "# Loop through the trajectories in each dataset and fit them\n",
    "for i in range(0, N):\n",
    "    \n",
    "    # Dataset A\n",
    "    y1 = trials_A[:,i+1]\n",
    "    # Fit the trajectory\n",
    "    coeffs1 = np.polyfit(times, y1, deg=2)\n",
    "    # Extract the best fit coefficients\n",
    "    A1 = coeffs1[0]\n",
    "    B1 = coeffs1[1]\n",
    "    C1 = coeffs1[2]\n",
    "    # How do we get the best fit g from the other best fit coefficients?\n",
    "    g1s[i]=-2*A1\n",
    "    \n",
    "    # Dataset B\n",
    "    y2 = trials_B[:,i+1]\n",
    "    # Fit the trajectory\n",
    "    coeffs2 = np.polyfit(times, y2, deg=2)\n",
    "    # Extract the best fit coefficients\n",
    "    A2 = coeffs2[0]\n",
    "    B2 = coeffs2[1]\n",
    "    C2 = coeffs2[2]\n",
    "    # How do we get the best fit g from the other best fit coefficients?\n",
    "    g2s[i]=-2*A2\n",
    "\n",
    "# How do we calculate the mean and standard deviation of each dataset's best fit g values?\n",
    "# Note: NumPy has functions to do this!\n",
    "print('mean(g1s)=',np.mean(g1s))\n",
    "print('std(g1s)=',np.std(g1s))\n",
    "print('mean(g2s)=',np.mean(g2s))\n",
    "print('std(g2s)=',np.std(g2s))"
   ]
  },
  {
   "cell_type": "markdown",
   "metadata": {},
   "source": [
    "**<font color=blue>Problem 1.17: What do the mean and standard deviation tell you about your data sets?**"
   ]
  },
  {
   "cell_type": "markdown",
   "metadata": {},
   "source": [
    "_Double click this cell to begin editing. Write your answer here._"
   ]
  },
  {
   "cell_type": "markdown",
   "metadata": {},
   "source": [
    "The code block below should produce a graph with 2 histograms, one for each of the sets of $g$ obtained from fitting the two datasets, using the 'plot_hist' function from the 'lab_1_functions' library, which will also provide the means, standard deviations, and errors of the mean for each of the datasets.  Currently, it is only producing a single histogram.  \n",
    "    \n",
    "Note: You can quickly create these histograms with the `plot_hist` function from the `lab1funcs` library.  This function creates a histogram in much that same way as the code earlier in this notebook, but with a shorter syntax and some nice formatting.  This function can be used, or 'called', with the following syntax.\n",
    "\n",
    "```\n",
    "lab1funcs.plot_hist(axs, data, index, num_bins, color)\n",
    "```\n",
    "Where `axs` is the handle for a plot axes, `data` is the array of data used to generate the histogram, `index` is just a variable used to label the data on the plot, `num_bins` is the number of bins to use in the histogram, and `color` is the color of the histogram.  An specific example of using the function is included in the below cell.\n",
    "\n",
    "**<font color=red>Code Task 1.14: Modify the code below to insert a secondary histogram for your second set of data.  Set the color of this histogram to `red`.  Once you have changed this, run the code.**"
   ]
  },
  {
   "cell_type": "code",
   "execution_count": null,
   "metadata": {},
   "outputs": [],
   "source": [
    "fig, axs = plt.subplots(1,1)\n",
    "\n",
    "axs.set_title(\"Histogram and Fits of g\")\n",
    "axs.set_xlabel('g')\n",
    "axs.set_ylabel('counts')\n",
    "\n",
    "\n",
    "lab1funcs.plot_hist(axs, g1s, index_A, 50, 'blue')  ## Example of using the 'plot_hist' function\n",
    "\n",
    "\n",
    "\n",
    "\n",
    "fig.show()\n",
    "fig.tight_layout()"
   ]
  },
  {
   "cell_type": "markdown",
   "metadata": {},
   "source": [
    "**<font color=blue>Problem 1.18: Based on your results, do the two datasets describe objects falling in environments with the same value of $g$?  Make sure your argument incorporates the concepts of mean, standard deviation, error of the mean, and the confidence interval.**"
   ]
  },
  {
   "cell_type": "markdown",
   "metadata": {},
   "source": [
    "_Double click this cell to begin editing. Write your answer here._"
   ]
  },
  {
   "cell_type": "markdown",
   "metadata": {},
   "source": [
    "**<font color=blue>Problem 1.19: Write a investigative analysis summary to Professor Frizz and Dr. Oct about your independent analysis of their data.  Be sure to address the differences they found, and use statistical arguments to determine the similarities and differences between their data sets.**"
   ]
  },
  {
   "cell_type": "markdown",
   "metadata": {},
   "source": [
    "_Double click this cell to begin editing. Write your answer here._"
   ]
  },
  {
   "cell_type": "markdown",
   "metadata": {},
   "source": [
    "### <center>You're done! Submit your lab per the following instructions.<font color=white><#!S!#>"
   ]
  },
  {
   "cell_type": "markdown",
   "metadata": {},
   "source": [
    "* Save this file with the lab number and group number to submit to canvas, e.g. `group01_lab01.ipynb`. \n",
    "* You only need to submit one file as a group to the canvas assignment and it will count for all group members.\n",
    "* The group recorder should still send the worksheet to their group members so they have a copy.\n",
    "* Save the file as a html file. You can do this by opening the `File` tab on the top left corner of Jupyter, then select `Download as > html (.html)`\n",
    "* Submit both the .ipynb and .html files to canvas under the `Lab 1: Statistics and Data Analysis` assignment."
   ]
  },
  {
   "cell_type": "code",
   "execution_count": null,
   "metadata": {},
   "outputs": [],
   "source": []
  }
 ],
 "metadata": {
  "kernelspec": {
   "display_name": "Python 3",
   "language": "python",
   "name": "python3"
  },
  "language_info": {
   "codemirror_mode": {
    "name": "ipython",
    "version": 3
   },
   "file_extension": ".py",
   "mimetype": "text/x-python",
   "name": "python",
   "nbconvert_exporter": "python",
   "pygments_lexer": "ipython3",
   "version": "3.8.3"
  }
 },
 "nbformat": 4,
 "nbformat_minor": 2
}
