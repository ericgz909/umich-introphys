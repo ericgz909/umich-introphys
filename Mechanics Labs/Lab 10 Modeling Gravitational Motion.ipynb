{
 "cells": [
  {
   "cell_type": "markdown",
   "metadata": {},
   "source": [
    "# Lab 10: Modeling Gravitational Motion"
   ]
  },
  {
   "cell_type": "markdown",
   "metadata": {},
   "source": [
    "_Group Members_ :"
   ]
  },
  {
   "cell_type": "markdown",
   "metadata": {},
   "source": [
    "In this lab, you will simulate several gravitational orbits, starting with the Earth orbiting the Sun. You will employ similar code to that used in previous computational labs. Hopefully the _method_ for simulating will be familiar, allowing you to focus on the impact of initial conditions and simulation parameters. With this in mind, we have outlined much of the simulation for you already."
   ]
  },
  {
   "cell_type": "markdown",
   "metadata": {},
   "source": [
    "# Part One: Simulating Earth's Orbit"
   ]
  },
  {
   "cell_type": "markdown",
   "metadata": {},
   "source": [
    "In this section, we will simulate the Earth in orbit around the Sun. This will follow a similar approach as in previous computational labs: we simply need to calculate the force acting on an object moving in two dimensions and update its acceleration, velocity, and position at discrete time steps. This same general approach allows us to model a wide variety of systems, by simply defining the appropriate force function."
   ]
  },
  {
   "cell_type": "markdown",
   "metadata": {},
   "source": [
    "To model a planet orbiting a sun, the relevant force is given by _Newton's law of universal gravitation._ This gives the gravitational force $\\vec F_{12}$ acting on mass $m_1$ due to mass $m_2$ and takes the form\n",
    "\n",
    "\\begin{equation}\n",
    "\\large \\vec F_{12} = -G \\dfrac{m_1 m_2}{r^2} \\hat{r},\n",
    "\\end{equation}\n",
    "\n",
    "where $r$ is the distance between $m_1$ and $m_2$, $\\hat r$ is a unit vector pointing from $m_2$ to $m_1$, and $G$ is the _gravitational constant_."
   ]
  },
  {
   "cell_type": "markdown",
   "metadata": {},
   "source": [
    "**<font color=A07A06>Problem 10.1: In previous computational labs, your force function could depend on various parameters, such as position and velocity. To model the Earth orbiting the Sun, what parameters should your force function depend on?**"
   ]
  },
  {
   "cell_type": "markdown",
   "metadata": {},
   "source": [
    "_Double click this cell to begin editing. Write your answer here._"
   ]
  },
  {
   "cell_type": "markdown",
   "metadata": {},
   "source": [
    "We will begin with some code that looks similar to what you produced in Lab 6. First we import the relevant libraries:"
   ]
  },
  {
   "cell_type": "markdown",
   "metadata": {},
   "source": [
    "**<font color=grey>Code Task 10.1: Run the cell below. <font color=red>You may use FFMPEG for this lab if you wish, but the animations in this lab are optional. If you don't want to spend time on them but would still like to visualize or see the motion, discuss the relevant questions with your instructor. To use FFMPEG, uncomment the bottom two lines after you've specified the FFMPEG path.**"
   ]
  },
  {
   "cell_type": "code",
   "execution_count": null,
   "metadata": {},
   "outputs": [],
   "source": [
    "import numpy as np\n",
    "import matplotlib.pyplot as plt\n",
    "from matplotlib import animation, rc\n",
    "from IPython.display import HTML\n",
    "\n",
    "\n",
    "'''\n",
    "ffmpeg: for Anaconda installations, we can open an Anaconda prompt and type 'conda install ffmpeg'\n",
    "to install ffmpeg. But since there are issues with the setup on the lab computers, we can manually\n",
    "point to the ffmpeg binary (as below). Eventually, we can remove the lines that follow.\n",
    "For now, we need to change the path below to point to the ffmpeg binary (wherever you choose to put it).\n",
    "Windows users can get the ffmpeg binary at https://ffmpeg.zeranoe.com/builds/.\n",
    "'''\n",
    "#rc('animation', html='html5')  # this lets us call the animation object directly, without having to explicitly compile it\n",
    "\n",
    "#plt.rcParams['animation.ffmpeg_path'] = r'???'"
   ]
  },
  {
   "cell_type": "markdown",
   "metadata": {},
   "source": [
    "Next, we define a _class_ called ``ball``. We will create planets as instances of the ``ball`` class. Each instance of the ``ball`` class will have variables ``r``, ``v``, and ``a``, for instantaneous values of position, velocity, and acceleration. Likewise, the arrays ``r_array``, ``v_array``, and ``a_array`` store the _history_ of position, velocity, and acceleration."
   ]
  },
  {
   "cell_type": "markdown",
   "metadata": {},
   "source": [
    "**<font color=A07A06>Code Task 10.2: Run the cell below.**"
   ]
  },
  {
   "cell_type": "code",
   "execution_count": null,
   "metadata": {},
   "outputs": [],
   "source": [
    "class ball:\n",
    "    \n",
    "    def __init__(self, m=1, r=np.array([0,0,0]), v=np.array([0,0,0]), a=np.array([0,0,0])):\n",
    "        \n",
    "        self.m = m\n",
    "        \n",
    "        self.r = r\n",
    "        self.v = v\n",
    "        self.a = a\n",
    "        \n",
    "        self.r_array = np.array([])\n",
    "        self.v_array = np.array([])\n",
    "        self.a_array = np.array([])"
   ]
  },
  {
   "cell_type": "markdown",
   "metadata": {},
   "source": [
    "Now we are ready to define our force function. When complete, this function will take two objects of the ``ball`` class (such as a planet and a sun) as input, and will return the force between them as output."
   ]
  },
  {
   "cell_type": "markdown",
   "metadata": {},
   "source": [
    "**<font color=A07A06>Code Task 10.3: Complete the force function below by entering Newton's law of universal gravitation in the location marked by ``# YOUR CODE HERE``. Then run the cell.**\n",
    "\n",
    "Hints:\n",
    "1. You can use the variables ``G``, ``ball_1.m``, ``ball_2.m``, ``r``, and ``r_hat``.\n",
    "1. You can calculate the dot product of two vectors ``a`` and ``b`` as ``a.dot(b)``."
   ]
  },
  {
   "cell_type": "code",
   "execution_count": null,
   "metadata": {},
   "outputs": [],
   "source": [
    "# Gravitational constant\n",
    "\n",
    "G = 6.674e-11  # N m^2 / kg^2\n",
    "\n",
    "# Force function: inputs are ball_1 and ball_2\n",
    "\n",
    "def force(ball_1, ball_2):\n",
    "    '''\n",
    "    This is the force that ball_1 feels due to ball_2. This is dependent\n",
    "    only on the position and mass of the balls, and the gravitational constant (G).\n",
    "    '''\n",
    "    output_force = np.zeros(3)  # Initialze the returned force array with zeros\n",
    "    \n",
    "    r = ball_1.r - ball_2.r  # Position vector between ball_2 and ball_1\n",
    "    \n",
    "    # Quick check if r^2 is zero to avoid division by zero\n",
    "    if np.sqrt(r.dot(r)) == 0:\n",
    "        return output_force\n",
    "    \n",
    "    r_hat = r / np.sqrt(r.dot(r))  # Unit vector pointing from ball_2 to ball_1\n",
    "    \n",
    "    # YOUR CODE HERE\n",
    "    output_force = ???\n",
    "    \n",
    "    return output_force"
   ]
  },
  {
   "cell_type": "markdown",
   "metadata": {},
   "source": [
    "Next up, we need to initialize our system. We create ``earth`` and ``sun`` objects as instances of the ``ball`` class. We need to give the ``earth`` and ``sun`` properties such as mass, initial position, and initial velocity. We will place the ``sun`` at the origin and the ``earth`` on the positive $x$-axis, separated from the ``sun`` by a distance equal to the Earth's mean orbital radius. For now, assume the initial velocity of the ``sun`` is zero. Let's make the initial velocity of the ``earth`` point in the $+\\hat y$ direction at some speed you get to choose! **To get you in the right ballpark, we recommend choosing an initial velocity between 12,000 m/s and 25,000 m/s.**"
   ]
  },
  {
   "cell_type": "markdown",
   "metadata": {},
   "source": [
    "**<font color=A07A06>Code Task 10.4: Choose an initial velocity for the Earth and enter it in the cell below. Then run the cell.**"
   ]
  },
  {
   "cell_type": "code",
   "execution_count": null,
   "metadata": {},
   "outputs": [],
   "source": [
    "v_initial_earth =  ??? # Your answer here\n",
    "\n",
    "# Physical constants: mass of the Sun, mass of the Earth, and average distance between the two\n",
    "\n",
    "M_Sun = 1.988e30  # kg\n",
    "M_Earth = 5.972e24  # kg\n",
    "R_Earth = 1.496e11  # m\n",
    "\n",
    "# Create instances of the ball class for the earth and sun\n",
    "\n",
    "earth = ball(m=M_Earth, r=np.array([R_Earth,0,0]), \n",
    "             v=np.array([0, v_initial_earth, 0]))\n",
    "sun = ball(m=M_Sun)"
   ]
  },
  {
   "cell_type": "markdown",
   "metadata": {},
   "source": [
    "Now we need to split up time into discrete steps. We will simulate events happening over a total time ``T``, using time steps of size ``dt``."
   ]
  },
  {
   "cell_type": "markdown",
   "metadata": {},
   "source": [
    "**<font color=A07A06>Problem 10.2: What do you think would be appropriate values for ``T`` and ``dt``? Explain why you chose these particular values, and also note the values you chose.**\n",
    "\n",
    "Hint: A year is about $3 \\times 10^7$ s."
   ]
  },
  {
   "cell_type": "markdown",
   "metadata": {},
   "source": [
    "_Double click this cell to begin editing. Write your answer here._"
   ]
  },
  {
   "cell_type": "markdown",
   "metadata": {},
   "source": [
    "**<font color=A07A06>Code Task 10.5: Enter your values for ``T`` and ``dt`` in the cell below. Then run the cell.**"
   ]
  },
  {
   "cell_type": "code",
   "execution_count": null,
   "metadata": {},
   "outputs": [],
   "source": [
    "T = ???# Your answer here\n",
    "dt = ???# Your answer here\n",
    "\n",
    "times = np.arange(0, T+dt, dt)\n",
    "\n",
    "N = times.size\n",
    "\n",
    "earth.a_array = np.empty((N,3))\n",
    "earth.a_array[0] = earth.a\n",
    "earth.v_array = np.empty((N,3))\n",
    "earth.v_array[0] = earth.v\n",
    "earth.r_array = np.empty((N,3))\n",
    "earth.r_array[0] = earth.r\n",
    "\n",
    "sun.a_array = np.empty((N,3))\n",
    "sun.a_array[0] = sun.a\n",
    "sun.v_array = np.empty((N,3))\n",
    "sun.v_array[0] = sun.v\n",
    "sun.r_array = np.empty((N,3))\n",
    "sun.r_array[0] = sun.r"
   ]
  },
  {
   "cell_type": "markdown",
   "metadata": {},
   "source": [
    "**<font color=A07A06>Code Task 10.6: Run the cell below to simulate the orbit.**"
   ]
  },
  {
   "cell_type": "code",
   "execution_count": null,
   "metadata": {},
   "outputs": [],
   "source": [
    "i = 1\n",
    "for t in times[1:]:\n",
    "\n",
    "    # first update the accelerations\n",
    "    earth.a = force(earth, sun)/earth.m\n",
    "    sun.a = 0\n",
    "    # then append the new value to the list\n",
    "    earth.a_array[i] = earth.a\n",
    "    sun.a_array[i] = sun.a\n",
    "\n",
    "    # second update the velocities\n",
    "    earth.v = earth.v + earth.a * dt\n",
    "    sun.v = sun.v + sun.a * dt\n",
    "    # then append the new value to the list\n",
    "    earth.v_array[i] = earth.v  \n",
    "    sun.v_array[i] = sun.v  \n",
    "\n",
    "    # third update the positions\n",
    "    earth.r = earth.r + earth.v * dt\n",
    "    sun.r = sun.r + sun.v * dt\n",
    "    # then append the new value to the list\n",
    "    earth.r_array[i] = earth.r\n",
    "    sun.r_array[i] = sun.r\n",
    "\n",
    "    # update iteration count\n",
    "    i = i + 1"
   ]
  },
  {
   "cell_type": "markdown",
   "metadata": {},
   "source": [
    "**<font color=A07A06>Code Task 10.7: Run the cell below to plot your simulated data points.**"
   ]
  },
  {
   "cell_type": "code",
   "execution_count": null,
   "metadata": {},
   "outputs": [],
   "source": [
    "plt.plot(earth.r_array[:,0], earth.r_array[:,1], '.')\n",
    "plt.plot(sun.r_array[:,0], sun.r_array[:,1], '.')\n",
    "plt.axis('equal')\n",
    "plt.show()"
   ]
  },
  {
   "cell_type": "markdown",
   "metadata": {},
   "source": [
    "**<font color=A07A06>Problem 10.3: Look at the graph above and describe the orbit you have modeled. Is it circular? Elliptical? How does this differ from the Earth's orbit? Note that we chose realistic values for the masses and orbital radius, but not the Earth's initial velocity.**"
   ]
  },
  {
   "cell_type": "markdown",
   "metadata": {},
   "source": [
    "_Double click this cell to begin editing. Write your answer here._"
   ]
  },
  {
   "cell_type": "markdown",
   "metadata": {},
   "source": [
    "Take a look at the graph above, and reassess your choices of simulation parameters ``T`` and ``dt``. Does your Earth make at least one complete orbit? If not, you may need a larger ``T``. Does it trace the same path several times? Maybe make ``T`` smaller. Do the points on the planet's path seem too far apart? Or does the orbit not meet up in a closed loop? You may need to make ``dt`` smaller. Did the cells take too long to run, and the data points are so close together that the graph looks like a solid line? Maybe make ``dt`` larger.\n",
    "\n",
    "Throughout this lab, we hope that you will ask yourself these questions to make sure you are optimizing your choices of ``T`` and ``dt`` for each simulation."
   ]
  },
  {
   "cell_type": "markdown",
   "metadata": {},
   "source": [
    "**<font color=A07A06>Code Task 10.8: Go back to Code Task 5 and try different values for ``T`` and ``dt`` until you are satisfied. (Be sure to run all cells between Code Task 3 and here to see your results.)**"
   ]
  },
  {
   "cell_type": "markdown",
   "metadata": {},
   "source": [
    "Next, we will animate the orbit by rendering a video of all our simulated data points. (We do not expect you to dig into _how_ the animation code works.)"
   ]
  },
  {
   "cell_type": "markdown",
   "metadata": {},
   "source": [
    "**<font color=grey>Code Task 10.9: Run the next two cells to animate your orbit! (The video will take a few moments to render.)**"
   ]
  },
  {
   "cell_type": "code",
   "execution_count": null,
   "metadata": {},
   "outputs": [],
   "source": [
    "def init():\n",
    "    line.set_data([], [])\n",
    "    return(line)\n",
    "\n",
    "def animate_ball_list(ball_list):\n",
    "    def animation_function(i):\n",
    "        x = []\n",
    "        y = []\n",
    "        for j in range(0,len(ball_list)):\n",
    "            x.append(ball_list[j].r_array[i, 0])\n",
    "            y.append(ball_list[j].r_array[i, 1])\n",
    "        line.set_data(x, y)\n",
    "        return (line)\n",
    "    return animation_function"
   ]
  },
  {
   "cell_type": "code",
   "execution_count": null,
   "metadata": {
    "scrolled": false
   },
   "outputs": [],
   "source": [
    "fig3, axs3 = plt.subplots()\n",
    "axs3.set_xlim((np.min(earth.r_array[:,0]) - 0.1*np.abs(np.min(earth.r_array[:,0])),\n",
    "               np.max(earth.r_array[:,0]) + 0.1*np.abs(np.max(earth.r_array[:,0]))))\n",
    "axs3.set_ylim((np.min(earth.r_array[:,1]) - 0.1*np.abs(np.min(earth.r_array[:,1])),\n",
    "               np.max(earth.r_array[:,1]) + 0.1*np.abs(np.max(earth.r_array[:,1])))\n",
    "             )\n",
    "axs3.set_aspect('equal')\n",
    "axs3.plot([-1,1], [0,0], color='C1', lw=2)\n",
    "line, = axs3.plot([], [], '.', markersize=24, lw=2)\n",
    "\n",
    "plt.close()\n",
    "\n",
    "anim_2 = animation.FuncAnimation(fig3, animate_ball_list([sun, earth]), init_func=init, frames=N, interval=40)\n",
    "anim_2"
   ]
  },
  {
   "cell_type": "markdown",
   "metadata": {},
   "source": [
    "<strong><font color=004D40>Problem 10.4:  For an elliptical orbit, discuss the velocity of the Earth when it is near the Sun (perihelion) versus far from the Sun (aphelion).  What do you notice? If you did not run the animation, you can find the index of the earth array at its max and min to find the velocity at those points using the code below."
   ]
  },
  {
   "cell_type": "markdown",
   "metadata": {},
   "source": [
    "_Double click this cell to begin editing. Write your answer here._"
   ]
  },
  {
   "cell_type": "code",
   "execution_count": null,
   "metadata": {},
   "outputs": [],
   "source": [
    "rMag = np.sqrt(earth.r_array[:,0]**2 + earth.r_array[:,1]**2)\n",
    "rMaxIndex = np.argmax(rMag)\n",
    "rMinIndex = np.argmin(rMag)\n",
    "\n",
    "vMag = np.sqrt(earth.v_array[:,0]**2 + earth.v_array[:,1]**2)\n",
    "\n",
    "print('At its maximum distance, the speed of earth is {:.3f} m/s'.format(vMag[rMaxIndex]))\n",
    "print('At its minimum distance, the speed of earth is {:.3f} m/s'.format(vMag[rMinIndex]))"
   ]
  },
  {
   "cell_type": "markdown",
   "metadata": {},
   "source": [
    "<strong><font color=004D40> Problem 10.5: Why is the velocity larger or smaller at aphelion vs perihelion? Hint: Think about whether or not energy is conserved and what happens to the kinetic and potential energy at these points."
   ]
  },
  {
   "cell_type": "markdown",
   "metadata": {},
   "source": [
    "_Double click this cell to begin editing. Write your answer here._"
   ]
  },
  {
   "cell_type": "markdown",
   "metadata": {},
   "source": [
    "# Part Two: Circular Orbit"
   ]
  },
  {
   "cell_type": "markdown",
   "metadata": {},
   "source": [
    "You might be looking at the orbit above and wondering why it's so elliptical. If we actually lived on a planet in that orbit we would burn up once a year. The remedy lies in the initial conditions. Next we're going to play with the initial conditions to try and make a circular orbit. \n",
    "\n",
    "Playing with this means compressing a lot of the steps above so that we can see everything at once. For example, we can compress all the lines adjusting the planets' accelerations, velocities, and positions into an update function (much like how we compressed all the calculations for the gravitational force into a force function). Similarly, we want to move all the tedious lines of code setting initial conditions into an initialization function. "
   ]
  },
  {
   "cell_type": "markdown",
   "metadata": {},
   "source": [
    "**<font color=004D40>Code Task 10.10: Read and understand what is happening below. Then run the next two cells.**"
   ]
  },
  {
   "cell_type": "code",
   "execution_count": null,
   "metadata": {},
   "outputs": [],
   "source": [
    "def initialize_planet(planet, N):\n",
    "    '''\n",
    "    This takes in a planet and initializes it with\n",
    "    empty arrays for the position, velocity, and\n",
    "    acceleration histories. N denotes the total number\n",
    "    of time steps these histories will contain.\n",
    "    '''\n",
    "    \n",
    "    planet.a_array = np.empty((N,3))\n",
    "    planet.a_array[0] = planet.a\n",
    "    planet.v_array = np.empty((N,3))\n",
    "    planet.v_array[0] = planet.v\n",
    "    planet.r_array = np.empty((N,3))\n",
    "    planet.r_array[0] = planet.r"
   ]
  },
  {
   "cell_type": "code",
   "execution_count": null,
   "metadata": {},
   "outputs": [],
   "source": [
    "def update_planet(planet, force_felt, dt):\n",
    "    '''\n",
    "    This takes in a planet and the force it felt and\n",
    "    updates the planet by one time step.\n",
    "    '''\n",
    "    # first update the acceleration\n",
    "    planet.a = force_felt/planet.m\n",
    "    # then append the new value to the list\n",
    "    planet.a_array[i] = planet.a\n",
    "    # second update the velocities\n",
    "    planet.v = planet.v + planet.a * dt\n",
    "    # then append the new value to the list\n",
    "    planet.v_array[i] = planet.v  \n",
    "    # third update the positions\n",
    "    planet.r = planet.r + planet.v * dt\n",
    "    # then append the new value to the list\n",
    "    planet.r_array[i] = planet.r"
   ]
  },
  {
   "cell_type": "markdown",
   "metadata": {},
   "source": [
    "**<font color=004D40>Code Task 10.11: Change the velocity of the earth to get a roughly circular orbit (you could go up to 35,000 m/s, faster than suggested in part one). You can run this cell as many times as you need!**\n",
    "\n",
    "Hint: Your orbit may not \"look\" circular, even when it is! Be sure to note the horizontal vs. vertical scaling of the graph."
   ]
  },
  {
   "cell_type": "code",
   "execution_count": null,
   "metadata": {},
   "outputs": [],
   "source": [
    "v_initial_earth = ??? # Your answer here\n",
    "\n",
    "T = ???# Your answer here\n",
    "dt = ???# Your answer here\n",
    "\n",
    "times = np.arange(0, T+dt, dt)\n",
    "\n",
    "N = times.size\n",
    "\n",
    "\n",
    "earth = ball(m=M_Earth, r=np.array([R_Earth,0,0]), \n",
    "             v=np.array([0, v_initial_earth, 0]))\n",
    "sun = ball(m=M_Sun)\n",
    "\n",
    "initialize_planet(earth, N)\n",
    "initialize_planet(sun, N)\n",
    "\n",
    "i = 1\n",
    "for t in times[1:]:\n",
    "    \n",
    "    # First find the force\n",
    "    earth_force = force(earth, sun)\n",
    "    sun_force = 0\n",
    "    \n",
    "    # Update the planet(s)\n",
    "    update_planet(earth, earth_force, dt)\n",
    "    update_planet(sun, sun_force, dt)\n",
    "    \n",
    "    i = i + 1\n",
    "\n",
    "# Plotting\n",
    "\n",
    "plt.plot(earth.r_array[:,0], earth.r_array[:,1], '.')\n",
    "plt.plot(sun.r_array[:,0], sun.r_array[:,1], '.')\n",
    "plt.axis('equal')\n",
    "plt.show()"
   ]
  },
  {
   "cell_type": "markdown",
   "metadata": {},
   "source": [
    "**<font color=004D40>Problem 10.6: What orbital velocity did you settle on to get a circular orbit? Look up the Earth's actual orbital velocity and see how close you were! (https://www.wolframalpha.com/input/?i=earth+orbital+velocity+in+m%2Fs)**"
   ]
  },
  {
   "cell_type": "markdown",
   "metadata": {},
   "source": [
    "_Double click this cell to begin editing. Write your answer here._"
   ]
  },
  {
   "cell_type": "markdown",
   "metadata": {},
   "source": [
    "# Part Three: Time to Play!"
   ]
  },
  {
   "cell_type": "markdown",
   "metadata": {},
   "source": [
    "Now that we have some sense of how Earth's orbit works, and how changing our parameters changes the results, it is time to mess with our model. Before we begin, we should introduce some quantitative measure of our orbit to serve as evidence of the changes we introduce. One such measure is the orbital period (year), which we will calculate below."
   ]
  },
  {
   "cell_type": "markdown",
   "metadata": {},
   "source": [
    "**<font color=1E88E5>Code Task 10.12: Read and understand what is happening below. Then run the cell.**"
   ]
  },
  {
   "cell_type": "code",
   "execution_count": null,
   "metadata": {},
   "outputs": [],
   "source": [
    "\n",
    "def length_of_year(planet, dt, tolerance=R_Earth*0.01):\n",
    "    '''\n",
    "    This takes in a planet after it has orbitted and calculates\n",
    "    the length of the year based on how long it takes for it to\n",
    "    return back to its starting point. Because our simulation\n",
    "    is not perfect, some tolerance is allowed in case it misses\n",
    "    its starting point by a little\n",
    "    '''\n",
    "    def distance_from_start(index):\n",
    "        '''\n",
    "        This calculates the distance at a given time the planet\n",
    "        is from its start location\n",
    "        '''\n",
    "        start_loc = planet.r_array[0]\n",
    "        curr_loc = planet.r_array[index]\n",
    "        distance = curr_loc - start_loc\n",
    "        return np.sqrt(distance.dot(distance))\n",
    "    \n",
    "    # This loop seems a little complicated, but really it is just first\n",
    "    # checking that the planet got away from start and then came back,\n",
    "    # so it doesn't just think it has finished a loop immediately\n",
    "    near_start = True\n",
    "    for i in range(len(planet.r_array)):\n",
    "        if near_start and distance_from_start(i) > tolerance:\n",
    "            near_start = False\n",
    "        if not near_start and distance_from_start(i) < tolerance:\n",
    "            return i*dt\n",
    "    return 0  # If something went wrong, it will say the year was instant"
   ]
  },
  {
   "cell_type": "markdown",
   "metadata": {},
   "source": [
    "Now, our first modification is going to be to make the sun feel force. Up to now, we have treated the Sun as completely static, which is rather artificial. Remember Newton's third law: the force on the Earth due to the sun is matched with an equal and opposite force on the Sun due to the Earth. We're going to account for the force on the Sun by treating the Sun as a really heavy planet. Then we can generalize our code a bit, treating the two objects on a truly equal footing.\n",
    "\n",
    "In particular, we are going to change our code by looping over a list of \"planets\" (including the Sun) rather than listing out each one every time we update it, apply force, or initialize it."
   ]
  },
  {
   "cell_type": "markdown",
   "metadata": {},
   "source": [
    "**<font color=1E88E5>Code Task 10.13: Read and understand what is happening below. (Note how we are making our code more efficient and compact as we go.) Then run the cell.**"
   ]
  },
  {
   "cell_type": "code",
   "execution_count": null,
   "metadata": {},
   "outputs": [],
   "source": [
    "v_initial_earth = 29800  # m/s\n",
    "\n",
    "earth = ball(m=M_Earth, r=np.array([R_Earth,0,0]), \n",
    "             v=np.array([0, v_initial_earth, 0]))\n",
    "sun = ball(m=M_Sun)\n",
    "\n",
    "planets = [earth, sun]\n",
    "\n",
    "for planet in planets:\n",
    "    initialize_planet(planet, N)\n",
    "\n",
    "i = 1\n",
    "for t in times[1:]:\n",
    "    \n",
    "    # first find the force\n",
    "    for planet in planets:\n",
    "        planet.force = 0\n",
    "        for second_planet in planets:\n",
    "            planet.force += force(planet, second_planet)\n",
    "    \n",
    "    # Update the planet(s)\n",
    "    for planet in planets:\n",
    "        update_planet(planet, planet.force, dt)\n",
    "    \n",
    "    i = i + 1\n",
    "\n",
    "print(length_of_year(earth, dt))\n",
    "\n",
    "plt.plot(earth.r_array[:,0], earth.r_array[:,1], '.')\n",
    "plt.plot(sun.r_array[:,0], sun.r_array[:,1], '.')\n",
    "plt.axis('equal')\n",
    "plt.show()"
   ]
  },
  {
   "cell_type": "markdown",
   "metadata": {},
   "source": [
    "Note the numerical output above the graph. This is the output of our ``length_of_year`` function (in seconds). Compare to the actual Earth year of $3.154 \\times 10^7$ s."
   ]
  },
  {
   "cell_type": "markdown",
   "metadata": {},
   "source": [
    "**<font color=1E88E5>Problem 10.7: Compare your result from code task 13 to the actual length of an Earth year.**"
   ]
  },
  {
   "cell_type": "markdown",
   "metadata": {},
   "source": [
    "_Double click this cell to begin editing. Write your answer here._"
   ]
  },
  {
   "cell_type": "markdown",
   "metadata": {},
   "source": [
    "**<font color=1E88E5>Problem 10.8: We made our simulation account for the force on the Sun, but the Sun... still isn't moving. Why do you think this is? Is it realistic?**"
   ]
  },
  {
   "cell_type": "markdown",
   "metadata": {},
   "source": [
    "_Double click this cell to begin editing. Write your answer here._"
   ]
  },
  {
   "cell_type": "markdown",
   "metadata": {},
   "source": [
    "_Noowwwww,_ we are going to really mix things up. If we want to get the Sun moving, we need a larger force. So let's make the Earth more massive! Specifically, let's make the Earth have ``m=M_Sun``. We will also set up the Earth and Sun to begin with equal initial speeds (in the appropriate directions to begin an orbit)."
   ]
  },
  {
   "cell_type": "markdown",
   "metadata": {},
   "source": [
    "**<font color=1E88E5>Code Task 10.14: Run the cell below, and compare the output to what you got before. (They should be identical.) Then, update the Earth's mass to ``m=M_Sun``, and update the Earth's initial velocity to ``[0, 15000, 0]`` and the Sun's initial velocity to ``[0, -15000, 0]``. Then run the cell again.**"
   ]
  },
  {
   "cell_type": "code",
   "execution_count": null,
   "metadata": {},
   "outputs": [],
   "source": [
    "earth = ball(m=M_Earth, r=np.array([R_Earth,0,0]), \n",
    "             v=np.array([0, 29800, 0]))\n",
    "sun = ball(m=M_Sun, \n",
    "             v=np.array([0, 0, 0]))\n",
    "\n",
    "planets = [earth, sun]\n",
    "\n",
    "for planet in planets:\n",
    "    initialize_planet(planet, N)\n",
    "\n",
    "i = 1\n",
    "for t in times[1:]:\n",
    "    \n",
    "    # first find the force\n",
    "    for planet in planets:\n",
    "        planet.force = 0\n",
    "        for second_planet in planets:\n",
    "            planet.force += force(planet, second_planet)\n",
    "    \n",
    "    # Update the planet(s)\n",
    "    for planet in planets:\n",
    "        update_planet(planet, planet.force, dt)\n",
    "    \n",
    "    i = i + 1\n",
    "\n",
    "print(length_of_year(earth, dt))\n",
    "\n",
    "plt.plot(earth.r_array[:,0], earth.r_array[:,1], '.')\n",
    "plt.plot(sun.r_array[:,0], sun.r_array[:,1], '.')\n",
    "plt.axis('equal')\n",
    "plt.show()"
   ]
  },
  {
   "cell_type": "markdown",
   "metadata": {},
   "source": [
    "Now that we have made the Earth and Sun have equal masses, the Sun's motion becomes significant, and we see the two bodies orbiting each other!"
   ]
  },
  {
   "cell_type": "markdown",
   "metadata": {},
   "source": [
    "**<font color=1E88E5>Problem 10.9: Discuss what you did in code task 14, and the result of that.  What physical system could this represent?**"
   ]
  },
  {
   "cell_type": "markdown",
   "metadata": {},
   "source": [
    "_Double click this cell to begin editing. Write your answer here._"
   ]
  },
  {
   "cell_type": "markdown",
   "metadata": {},
   "source": [
    "# Cumulative Assessment Task (CAT)"
   ]
  },
  {
   "cell_type": "markdown",
   "metadata": {},
   "source": [
    "For the Culminating Assessment Task (CAT), you will simulate a three-body system. Specifically, the system should have two bodies, both with mass ``M_Sun``, orbiting each other (like the system above). A third body, with mass ``M_Earth``, should closely orbit one of the first two bodies."
   ]
  },
  {
   "cell_type": "markdown",
   "metadata": {},
   "source": [
    "**<font color=D81B60>Code Task 10.15: We have chosen a starting point for ``T`` and ``dt``. Run the cell below.**"
   ]
  },
  {
   "cell_type": "code",
   "execution_count": null,
   "metadata": {},
   "outputs": [],
   "source": [
    "T = 4e7\n",
    "dt = 1e5"
   ]
  },
  {
   "cell_type": "markdown",
   "metadata": {},
   "source": [
    "We have chosen the following initial conditions to get you started:\n",
    "- Body #1:\n",
    "    - Mass: ``M_Sun``\n",
    "    - Initial position: a distance ``R_Earth`` to the left of the origin\n",
    "    - Initial velocity: 9,000 m/s in the $-\\hat y$ direction\n",
    "- Body #2:\n",
    "    - Mass: ``M_Sun``\n",
    "    - Initial position: a distance ``R_Earth`` to the right of the origin\n",
    "    - Initial velocity: 9,000 m/s in the $+\\hat y$ direction\n",
    "- Body #3:\n",
    "    - Mass: ``M_Earth``\n",
    "    - Initial position: a distance ``0.9*R_Earth`` to the left of the origin (just to the right of Body #1)\n",
    "    - Initial velocity: 100,000 m/s in the $+\\hat y$ direction"
   ]
  },
  {
   "cell_type": "markdown",
   "metadata": {},
   "source": [
    "**<font color=D81B60>Code Task 10.16: Update the code below to create a list of three balls using the initial conditions given above. Then run the cell.**"
   ]
  },
  {
   "cell_type": "code",
   "execution_count": null,
   "metadata": {},
   "outputs": [],
   "source": [
    "suns = [ball(m=0, r=np.array([0, 0, 0]), v=np.array([0, 0, 0])),\n",
    "        ball(m=0, r=np.array([0, 0, 0]), v=np.array([0, 0, 0])),\n",
    "        ball(m=0, r=np.array([0, 0, 0]), v=np.array([0, 0, 0]))]"
   ]
  },
  {
   "cell_type": "markdown",
   "metadata": {},
   "source": [
    "**<font color=D81B60>Code Task 10.17: Run the cell below to simulate the three-body orbit!**"
   ]
  },
  {
   "cell_type": "code",
   "execution_count": null,
   "metadata": {},
   "outputs": [],
   "source": [
    "times = np.arange(0, T+dt, dt)\n",
    "N = times.size\n",
    "\n",
    "for sun in suns:\n",
    "    initialize_planet(sun, N)\n",
    "\n",
    "i = 1\n",
    "for t in times[1:]:\n",
    "    \n",
    "    # first find the force\n",
    "    for planet in suns:\n",
    "        planet.force = 0\n",
    "        for second_planet in suns:\n",
    "            planet.force += force(planet, second_planet)\n",
    "    \n",
    "    # Update the planet(s)\n",
    "    for planet in suns:\n",
    "        update_planet(planet, planet.force, dt)\n",
    "    \n",
    "    i = i + 1\n",
    "\n",
    "print(length_of_year(suns[2], dt, tolerance=R_Earth*0.1))\n",
    "for sun in suns:\n",
    "    plt.plot(sun.r_array[:,0], sun.r_array[:,1], '.')\n",
    "plt.xlim(-1.5*R_Earth, 1.5*R_Earth)\n",
    "plt.ylim(-R_Earth, R_Earth)\n",
    "plt.axis('equal')\n",
    "plt.show()"
   ]
  },
  {
   "cell_type": "markdown",
   "metadata": {},
   "source": [
    "That's pretty neat! If everything has gone well, you should see that the two massive bodies (blue and yellow) make complete ellipses. Meanwhile, the green planet tightly orbits the blue body, but eventually rockets off into the distance.\n",
    "\n",
    "Simulation is a powerful tool. Today, we have simulated systems that we could never fit in a lab. This allowed us to get a \"hands-on\" experience with gravitational systems in a way that would not be possible without simulation. However, we need to be careful. In this case, due to the parameters we gave you, the simulation does not give us a physically accurate result. Given the masses, initial positions, and initial velocities, it turns out the green planet should _not_ actually rocket off into the distance. Instead, it should continue orbiting the blue planet.\n",
    "\n",
    "Notice how the simulated points for the green planet are spaced a somewhat far apart. Given that this planet is moving quite fast, perhaps we have chosen too large a value for the time step ``dt``."
   ]
  },
  {
   "cell_type": "markdown",
   "metadata": {},
   "source": [
    "**<font color=D81B60>Code Task 10.18: Go back to Code Task 15 and try different values for ``dt`` until you are satisfied. (Be sure to run all cells between Code Task 15 and here to see your results.)**"
   ]
  },
  {
   "cell_type": "markdown",
   "metadata": {},
   "source": [
    "**<font color=D81B60>Problem 10.10: How can you feel confident that your simulation is showing a physically accurate result, as opposed to an artifact of the simulation parameters? How do you know if you chose a \"good\" value for ``dt``?**"
   ]
  },
  {
   "cell_type": "markdown",
   "metadata": {},
   "source": [
    "_Double click this cell to begin editing. Write your answer here._"
   ]
  },
  {
   "cell_type": "markdown",
   "metadata": {},
   "source": [
    "**<font color=D81B60>Problem 10.11: What physical system could this represent?**"
   ]
  },
  {
   "cell_type": "markdown",
   "metadata": {},
   "source": [
    "_Double click this cell to begin editing. Write your answer here._"
   ]
  },
  {
   "cell_type": "markdown",
   "metadata": {},
   "source": [
    "**<font color=grey>Code Task 10.19: Once you are happy with your simulation parameters, run the cell below to animate your simulation! (It may take several minutes to render the video.)**"
   ]
  },
  {
   "cell_type": "code",
   "execution_count": null,
   "metadata": {},
   "outputs": [],
   "source": [
    "fig, axs = plt.subplots()\n",
    "xMin = 0\n",
    "xMax = 0\n",
    "yMin = 0\n",
    "yMax = 0\n",
    "for sun in suns:\n",
    "    xMin = min(xMin, np.min(sun.r_array[:,0]))\n",
    "    yMin = min(yMin, np.min(sun.r_array[:,1]))\n",
    "    xMax = max(xMax, np.max(sun.r_array[:,0]))\n",
    "    yMax = max(yMax, np.max(sun.r_array[:,1]))\n",
    "axs.set_xlim(xMin, xMax)\n",
    "axs.set_ylim(yMin, yMax)\n",
    "axs.set_aspect('equal')\n",
    "axs.plot([-1,1], [0,0], color='C1', lw=2)\n",
    "line, = axs.plot([], [], '.', markersize=24, lw=2)\n",
    "plt.close()\n",
    "\n",
    "anim_many = animation.FuncAnimation(fig, animate_ball_list(suns), init_func=init, frames=N, interval=1)\n",
    "anim_many"
   ]
  },
  {
   "cell_type": "markdown",
   "metadata": {},
   "source": [
    "### <center>You're done! Submit your lab per the following instructions.<font color=white><#!S!#>"
   ]
  },
  {
   "cell_type": "markdown",
   "metadata": {},
   "source": [
    "* Save this file with the lab number and group number to submit to canvas, e.g. `group01_lab02.ipynb`. \n",
    "* You only need to submit one file as a group to the canvas assignment and it will count for all group members.\n",
    "* The group recorder should still send the worksheet to their group members so they have a copy.\n",
    "* Save the file as a html file. You can do this by opening the `File` tab on the top left corner of Jupyter, then select `Download as > html (.html)`\n",
    "* Submit both the .ipynb and .html files to canvas under the `Lab 10: Modeling Gravitational Motion` assignment."
   ]
  },
  {
   "cell_type": "code",
   "execution_count": null,
   "metadata": {},
   "outputs": [],
   "source": []
  }
 ],
 "metadata": {
  "kernelspec": {
   "display_name": "Python 3",
   "language": "python",
   "name": "python3"
  },
  "language_info": {
   "codemirror_mode": {
    "name": "ipython",
    "version": 3
   },
   "file_extension": ".py",
   "mimetype": "text/x-python",
   "name": "python",
   "nbconvert_exporter": "python",
   "pygments_lexer": "ipython3",
   "version": "3.8.3"
  }
 },
 "nbformat": 4,
 "nbformat_minor": 2
}
