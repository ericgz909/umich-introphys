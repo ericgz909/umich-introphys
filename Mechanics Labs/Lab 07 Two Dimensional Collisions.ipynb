{
 "cells": [
  {
   "cell_type": "markdown",
   "metadata": {},
   "source": [
    "# Lab 7: Two Dimensional Collisions"
   ]
  },
  {
   "cell_type": "markdown",
   "metadata": {},
   "source": [
    "_Group Members_ :"
   ]
  },
  {
   "cell_type": "markdown",
   "metadata": {},
   "source": [
    "In this lab, we will use motion capture to study collisions in two dimensions (2D). We will focus on the difference between elastic and inelastic collisions, and how they relate to the conservation of momentum and kinetic energy."
   ]
  },
  {
   "cell_type": "code",
   "execution_count": null,
   "metadata": {},
   "outputs": [],
   "source": [
    "import numpy as np\n",
    "import matplotlib.pyplot as plt\n",
    "%matplotlib notebook"
   ]
  },
  {
   "cell_type": "markdown",
   "metadata": {},
   "source": [
    "# Part One: Elastic Collisions"
   ]
  },
  {
   "cell_type": "markdown",
   "metadata": {},
   "source": [
    "In this section, we will collide two metal pucks on an air table, then analyze their motion to determine whether or not linear momentum and kinetic energy were conserved during the collision. To analyze the motion of the pucks, we will record a video of the collision and use the Tracker to track the motion of the pucks. This will allow us to determine the velocity, and therefore the momentum and kinetic energy, of each puck before and after the collision. Finally, we will compare the total momentum and kinetic energy before and after the collision to test how well these quantities were conserved during the collision."
   ]
  },
  {
   "cell_type": "markdown",
   "metadata": {},
   "source": [
    "Record a video of a collision between two bare metal pucks. Be sure to use a calibration stick to have an accurate length scale. Track the position of each puck (you will create two distinct masses). Locate the table in the lower right of the main Tracker window, and select *mass A* from the drop down menu. Right click on the table and select **Analyze...** to bring up the *Data Tool* window. Repeat this step, but select *mass B* from the drop down menu instead.\n",
    "\n",
    "**<font color=green> Note: For the online version of this course, this video will be given to you.**"
   ]
  },
  {
   "cell_type": "markdown",
   "metadata": {},
   "source": [
    "In the *Data Tool* window, you can switch between masses using tabs at the top of the window. Locate the table on the right side of the *Data Tool* window, and note that the horizontal and first vertical columns are highlighted in yellow and green respectively. The horizontal (yellow) axis should always be $t$, and the first vertical (green) axis will depend on whether you are fitting the $x$ or $y$ position. Click and drag to reorder the columns as needed."
   ]
  },
  {
   "cell_type": "markdown",
   "metadata": {},
   "source": [
    "You will need to do eight fits in total (each mass will have $x$ and $y$ fits before and after the collision). You should save images of two fits for one of the masses, but you will need the results of the fits for all eight. Click **Analyze > Curve Fits** to bring up the curve fitter. Click and drag on the plot to select the points you wish to use for the fit. The found slope will be given by parameter $A$, and will be in m/s if you used meters to define your calibration stick."
   ]
  },
  {
   "cell_type": "markdown",
   "metadata": {},
   "source": [
    "There are multiple ways to take screenshots. Note that you should save the image somewhere, not just paste it into the notebook. *Be sure to include both the plot and the fit parameters (A, B, and/or C) in your screenshots.*\n",
    "\n",
    "* Windows (partial screen): Press **Windows+Shift+S**. Click and drag to select the area you want to save. Click the image in the lower right side of the screen, and save the image somewhere convenient. This can also be done by opening windows Snip & Sketch and clicking New in the upper left.\n",
    "* Windows (full screen): Press **Windows+PrtSc**. By default, the image will be saved in **This PC > Pictures > Screenshots**, although you can move it if more convenient.\n",
    "* Mac: Press **Command+Shift+4**, release, and then press **Space**. Click the window you would like to save. By default, the image will be saved to the Desktop (this may take a few seconds, but you can swipe with two fingers on the image in the lower right to speed this up), although you can move the file if more convenient.\n",
    "\n",
    "To insert the screenshot here, double-click on the desired cell and select **Edit > Insert Image**. Click **Browse...**, then navigate to the location of the screenshot and select the desired file. Click **Open**, then **OK**. Finally, press **Shift+Enter** to display the image."
   ]
  },
  {
   "cell_type": "markdown",
   "metadata": {},
   "source": [
    "**<font color=#D81B60>Problem 7.1: Include screenshots of two (of your eight) fits for one of your tracked objects below.**"
   ]
  },
  {
   "cell_type": "markdown",
   "metadata": {},
   "source": [
    "_Double click this cell to begin editing. Insert your screenshot here._"
   ]
  },
  {
   "cell_type": "markdown",
   "metadata": {},
   "source": [
    "**<font color=D81B60>Code Task 7.1: In the code block below, record the masses of the pucks, as well as their velocities before and after the collision. You will use these parameters in the next question to study the kinetic energy of the pucks.**"
   ]
  },
  {
   "cell_type": "code",
   "execution_count": null,
   "metadata": {},
   "outputs": [],
   "source": [
    "# Write your code here.\n",
    "# Select this cell and press Shift+Enter to run it.\n",
    "# Any output will be displayed below.\n",
    "\n",
    "# Masses of the pucks\n",
    "M1 = ???\n",
    "M2 = ???\n",
    "\n",
    "# Initial velocities of the pucks (before the collision)\n",
    "V1xi = ???\n",
    "V1yi = ???\n",
    "V2xi = ???\n",
    "V2yi = ???\n",
    "\n",
    "# Final velocities of the pucks (after the collision)\n",
    "V1xf = ???\n",
    "V1yf = ???\n",
    "V2xf = ???\n",
    "V2yf = ???"
   ]
  },
  {
   "cell_type": "markdown",
   "metadata": {},
   "source": [
    "**<font color=D81B60>Code Task 7.2: In the code block below, compute the total momentum and kinetic energy of the two pucks before and after the collision. Print these numbers out (code is provided to do so).**"
   ]
  },
  {
   "cell_type": "code",
   "execution_count": null,
   "metadata": {},
   "outputs": [],
   "source": [
    "# Write your code here.\n",
    "# Select this cell and press Shift+Enter to run it.\n",
    "# Any output will be displayed below.\n",
    "\n",
    "P1i = ???\n",
    "P2i = ???\n",
    "P1f = ???\n",
    "P2f = ???\n",
    "\n",
    "Pi_total = ???\n",
    "Pf_total = ???\n",
    "\n",
    "KEi_total = ???\n",
    "KEf_total = ???\n",
    "\n",
    "print(\"Initial Momentum = \", Pi_total, \"; \", \"Final Momentum = \", Pf_total, \";\")\n",
    "print(\"Initial Kinetic Energy = \", KEi_total, \"; \", \"Final Kinetic Energy = \", KEf_total, \";\")"
   ]
  },
  {
   "cell_type": "markdown",
   "metadata": {},
   "source": [
    "**<font color=#D81B60>Problem 7.2: Based on your analysis, how much do the total momentum and kinetic energy change during the collision? Would you say that momentum and kinetic energy are conserved in this collision?**"
   ]
  },
  {
   "cell_type": "markdown",
   "metadata": {},
   "source": [
    "_Double click this cell to begin editing. Write your answer here._"
   ]
  },
  {
   "cell_type": "markdown",
   "metadata": {},
   "source": [
    "# Part Two: Inelastic Collisions &#151; Rubber"
   ]
  },
  {
   "cell_type": "markdown",
   "metadata": {},
   "source": [
    "In this section, we will investigate another collision, this time using metal pucks wrapped in rubber bands. Here, we will analyze the data in the Center of Mass Frame, a reference frame which moves along with the Center of Mass of the two pucks. We will design a simple formula to classify collisions on a continuum from fully elastic to increasingly inelastic. Such a measurement of performance may be referred to as a _metric_."
   ]
  },
  {
   "cell_type": "markdown",
   "metadata": {},
   "source": [
    "Record a video of a collision between two metal pucks wrapped in rubber bands, and track the position of each puck as before (to avoid overwriting your existing tracker file, you can create a new tab with **File > New Tab**).\n",
    "\n",
    "**<font color=green> Note: For the online version of this course, this video will be given to you.**"
   ]
  },
  {
   "cell_type": "markdown",
   "metadata": {},
   "source": [
    "You will need to set the mass for each object. Right click on *mass A* in the *Track Control* window, and click **Define**. Double click on the expression for the mass $m$ and enter the mass in kilograms. Repeat for *mass B*. Next, create a center of mass object (with **Create > Center of Mass**) and select your two tracked masses by clicking on them. Note that in addition to plotting the positions of each mass individually, you can also plot the center of mass."
   ]
  },
  {
   "cell_type": "markdown",
   "metadata": {},
   "source": [
    "**<font color=#D81B60>Problem 7.3: Include a screenshot of a plot of the center of mass locations below.**"
   ]
  },
  {
   "cell_type": "markdown",
   "metadata": {},
   "source": [
    "_Double click this cell to begin editing. Insert your screenshot here._"
   ]
  },
  {
   "cell_type": "markdown",
   "metadata": {},
   "source": [
    "**<font color=#D81B60>Problem 7.4: Is the total momentum of the two pucks conserved during the collision? How do you know? (Note that you can answer this question without doing any calclations.)**"
   ]
  },
  {
   "cell_type": "markdown",
   "metadata": {},
   "source": [
    "_Double click this cell to begin editing. Write your answer here._"
   ]
  },
  {
   "cell_type": "markdown",
   "metadata": {},
   "source": [
    "**<font color=#1E88E5>Problem 7.5: You should have found that the curves for the position of the Center of Mass of the system are straight lines. What would be the physical meaning of these curves being nonlinear? (e.g. quadratic, cubic, etc.) Refer to Newton's First Law in your answer.**"
   ]
  },
  {
   "cell_type": "markdown",
   "metadata": {},
   "source": [
    "_Double click this cell to begin editing. Write your answer here._"
   ]
  },
  {
   "cell_type": "markdown",
   "metadata": {},
   "source": [
    "**<font color=1E88E5>Code Task 7.3: In the code block below, write some code to compute the total momentum and kinetic energy of the two pucks, before and after the collision. Get any needed parameters by fitting using the procedure from Part 1.**"
   ]
  },
  {
   "cell_type": "code",
   "execution_count": null,
   "metadata": {},
   "outputs": [],
   "source": [
    "# Write your code here.\n",
    "# Select this cell and press Shift+Enter to run it.\n",
    "# Any output will be displayed below."
   ]
  },
  {
   "cell_type": "markdown",
   "metadata": {},
   "source": [
    "**<font color=#1E88E5>Problem 7.6: Were momentum and kinetic energy conserved in this collision? If not, what may have happened to the excess momentum and/or kinetic energy?**"
   ]
  },
  {
   "cell_type": "markdown",
   "metadata": {},
   "source": [
    "_Double click this cell to begin editing. Write your answer here._"
   ]
  },
  {
   "cell_type": "markdown",
   "metadata": {},
   "source": [
    "**<font color=#1E88E5>Problem 7.7: Design a metric (a simple formula for measuring performance) to measure the extent to which a given collision is elastic versus inelastic.  This metric should yield a maximum value of 1 for perfectly elastic collisions, and the value should decrease toward zero for increasingly inelastic collisions. (The value should always be positive.) In order to design this metric, think about the differences you've found between elastic and inelastic collisions. Write the formula for your metric in the cell below, and be sure to define any variables you use. Please give your metric a name!**"
   ]
  },
  {
   "cell_type": "markdown",
   "metadata": {},
   "source": [
    "_Double click this cell to begin editing. Write your answer here._"
   ]
  },
  {
   "cell_type": "markdown",
   "metadata": {},
   "source": [
    "**<font color=1E88E5>Code Task 4: In the code block below, compute and print out the value of your metric for the collisions in Part One (bare metal pucks) and Part Two (pucks wrapped in rubber bands).**"
   ]
  },
  {
   "cell_type": "code",
   "execution_count": null,
   "metadata": {},
   "outputs": [],
   "source": [
    "# Write your code here.\n",
    "# Select this cell and press Shift+Enter to run it.\n",
    "# Any output will be displayed below."
   ]
  },
  {
   "cell_type": "markdown",
   "metadata": {},
   "source": [
    "**<font color=#1E88E5>Problem 7.8: Discuss the results of code task 4.  What does the metric you designed tell you about the difference between these collisions?**"
   ]
  },
  {
   "cell_type": "markdown",
   "metadata": {},
   "source": [
    "_Double click this cell to begin editing. Write your answer here._"
   ]
  },
  {
   "cell_type": "markdown",
   "metadata": {},
   "source": [
    "# Part Three: Inelastic Collisions &#151; Velcro"
   ]
  },
  {
   "cell_type": "markdown",
   "metadata": {},
   "source": [
    "In this section, we will investigate a collision between two metal pucks wrapped in velcro, such that the pucks stick together upon colliding. In such a collision where the colliding bodies stick together, the combined system may rotate about its center of mass, and we will include this rotational kinetic energy in our analysis. The benefit of working in the Center of Mass Frame will become apparent when we need to analyze this rotational motion!"
   ]
  },
  {
   "cell_type": "markdown",
   "metadata": {},
   "source": [
    "Record a video of a collision between two metal pucks.  In this case, the pucks will stick together after the collision, and you should try to record a video in which the pucks rotate around each other at least once after the collision. Track the position of each puck as before and create a center of mass object from the two masses as well.\n",
    "\n",
    "**<font color=green> Note: For the online version of this course, this video will be given to you.** "
   ]
  },
  {
   "cell_type": "markdown",
   "metadata": {},
   "source": [
    "**<font color=#A07A06>Problem 7.9: Is the total momentum of the system conserved through the collision? Why or why not?**"
   ]
  },
  {
   "cell_type": "markdown",
   "metadata": {},
   "source": [
    "_Double click this cell to begin editing. Write your answer here._"
   ]
  },
  {
   "cell_type": "markdown",
   "metadata": {},
   "source": [
    "You can change the reference frame between the Lab Frame and Center of Mass Frame by clicking **Coordinate System > Reference Frame > default** for the lab frame or **Coordinate System > Reference Frame > cm A** for the Center of Mass Frame."
   ]
  },
  {
   "cell_type": "markdown",
   "metadata": {},
   "source": [
    "**<font color=#A07A06>Problem 7.10: In the Lab Frame, one of the pucks is initially stationary. Why do the graphs of the individual pucks' positions in the Center of Mass Frame indicate that both pucks are moving?**"
   ]
  },
  {
   "cell_type": "markdown",
   "metadata": {},
   "source": [
    "_Double click this cell to begin editing. Write your answer here._"
   ]
  },
  {
   "cell_type": "markdown",
   "metadata": {},
   "source": [
    "In the Center of Mass Frame, perform a fit to find the angular velocity of the stuck together pucks after the collision. (Hint: there are multiple ways to do this. You can fit one of the position plots to a sine wave. You may need to manually adjust the values of A, B, and C to get them reasonably close, then check the **Autofit** box to complete the fit. Alternatively, you can fit the plot of $\\theta$ vs. $t$ to a line.)"
   ]
  },
  {
   "cell_type": "markdown",
   "metadata": {},
   "source": [
    "**<font color=#A07A06>Problem 7.11: Include a screenshot of your fit below. What is the angular velocity?**"
   ]
  },
  {
   "cell_type": "markdown",
   "metadata": {},
   "source": [
    "_Double click this cell to begin editing. Insert your screenshot here._"
   ]
  },
  {
   "cell_type": "markdown",
   "metadata": {},
   "source": [
    "**<font color=A07A06>Code Task 7.5: In the code block below, compute the total kinetic energy of the system in the Center of Mass Frame before the collision. Print out the value.**"
   ]
  },
  {
   "cell_type": "code",
   "execution_count": null,
   "metadata": {},
   "outputs": [],
   "source": [
    "# Write your code here.\n",
    "# Select this cell and press Shift+Enter to run it.\n",
    "# Any output will be displayed below."
   ]
  },
  {
   "cell_type": "markdown",
   "metadata": {},
   "source": [
    "**<font color=A07A06>Code Task 7.6: In the code block below, compute the moment of inertia of the stuck-together pucks after the collision. (Suggestion: first calculate the moment of inertia for a single puck rotating about its center, based on its mass and radius, then use the parallel-axis theorem to find the moment of inertia for rotation about a point on the edge of the puck. Finally, double this to account for the second puck.) Next, compute the total rotational kinetic energy of the system after the collision. Print out the values of both the moment of inertia and the rotational kinetic energy.**"
   ]
  },
  {
   "cell_type": "code",
   "execution_count": null,
   "metadata": {},
   "outputs": [],
   "source": [
    "# Write your code here.\n",
    "# Select this cell and press Shift+Enter to run it.\n",
    "# Any output will be displayed below."
   ]
  },
  {
   "cell_type": "markdown",
   "metadata": {},
   "source": [
    "**<font color=A07A06>Code Task 7.7: In the code block below, compute the value of your elastic/inelastic metric you developed in part two for this collision. Print out the value.**"
   ]
  },
  {
   "cell_type": "code",
   "execution_count": null,
   "metadata": {},
   "outputs": [],
   "source": [
    "# Write your code here.\n",
    "# Select this cell and press Shift+Enter to run it.\n",
    "# Any output will be displayed below."
   ]
  },
  {
   "cell_type": "markdown",
   "metadata": {},
   "source": [
    "**<font color=#004D40>Problem 7.12: Based on your metric, rank each of the three collisions from most elastic to most inelastic.**"
   ]
  },
  {
   "cell_type": "markdown",
   "metadata": {},
   "source": [
    "_Double click this cell to begin editing. Write your answer here._"
   ]
  },
  {
   "cell_type": "markdown",
   "metadata": {},
   "source": [
    "# Part Four: Wrap-Up Questions and Mini CAT"
   ]
  },
  {
   "cell_type": "markdown",
   "metadata": {},
   "source": [
    "**<font color=#004D40>Problem 7.13: Based on your findings, when are momentum and kinetic energy conserved in a collision?**"
   ]
  },
  {
   "cell_type": "markdown",
   "metadata": {},
   "source": [
    "_Double click this cell to begin editing. Write your answer here._"
   ]
  },
  {
   "cell_type": "markdown",
   "metadata": {},
   "source": [
    "**<font color=#004D40>Problem 7.14: Modern cars are designed with [crumple zones](https://en.wikipedia.org/wiki/Crumple_zone) that easily collapse upon impact. Based on your findings and the linked article, why do we design cars this way? Use the concepts of elastic and inelastic collisions.**"
   ]
  },
  {
   "cell_type": "markdown",
   "metadata": {},
   "source": [
    "_Double click this cell to begin editing. Write your answer here._"
   ]
  },
  {
   "cell_type": "markdown",
   "metadata": {},
   "source": [
    "**<font color=#004D40>Problem 7.15: Give examples of elastic and inelastic collisions from your everyday life. Provide different examples from those we have discussed in this lab!**"
   ]
  },
  {
   "cell_type": "markdown",
   "metadata": {},
   "source": [
    "_Double click this cell to begin editing. Write your answer here._"
   ]
  },
  {
   "cell_type": "markdown",
   "metadata": {},
   "source": [
    "**<font color=#004D40>Problem 7.16: Usually when this lab is taught in intro undergrad physics labs, only two different collision events are investigated. Students typically investigate an elastic scattering event with the plain aluminum pucks, and then investigate inelastic scattering with the velcro aluminum pucks. Why might looking at only these two scattering events give wrong impressions about the differences between elastic and inelastic scattering? What additional physics knowledge is gained by also studying the collision between the rubber banded pucks?**"
   ]
  },
  {
   "cell_type": "markdown",
   "metadata": {},
   "source": [
    "_Double click this cell to begin editing. Write your answer here._"
   ]
  },
  {
   "cell_type": "markdown",
   "metadata": {},
   "source": [
    "**<font color=#004D40>Problem 7.17: What would you have done differently (or if you were in person) for your experimenal observations?  What else could you have learned about the system with this information?**"
   ]
  },
  {
   "cell_type": "markdown",
   "metadata": {},
   "source": [
    "_Double click this cell to begin editing. Write your answer here._"
   ]
  },
  {
   "cell_type": "markdown",
   "metadata": {},
   "source": [
    "### <center>You're done! Submit your lab per the following instructions.<font color=white><#!S!#>"
   ]
  },
  {
   "cell_type": "markdown",
   "metadata": {},
   "source": [
    "* Save this file with the lab number and group number to submit to canvas, e.g. `group01_lab02.ipynb`. \n",
    "* You only need to submit one file as a group to the canvas assignment and it will count for all group members.\n",
    "* The group recorder should still send the worksheet to their group members so they have a copy.\n",
    "* Save the file as a html file. You can do this by opening the `File` tab on the top left corner of Jupyter, then select `Download as > html (.html)`\n",
    "* Submit both the .ipynb and .html files to canvas under the `Lab 7: Two Dimensional Collisions` assignment."
   ]
  },
  {
   "cell_type": "code",
   "execution_count": null,
   "metadata": {},
   "outputs": [],
   "source": []
  }
 ],
 "metadata": {
  "kernelspec": {
   "display_name": "Python 3",
   "language": "python",
   "name": "python3"
  },
  "language_info": {
   "codemirror_mode": {
    "name": "ipython",
    "version": 3
   },
   "file_extension": ".py",
   "mimetype": "text/x-python",
   "name": "python",
   "nbconvert_exporter": "python",
   "pygments_lexer": "ipython3",
   "version": "3.8.3"
  }
 },
 "nbformat": 4,
 "nbformat_minor": 2
}
