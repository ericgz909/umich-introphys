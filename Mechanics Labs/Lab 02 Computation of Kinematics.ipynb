{
 "cells": [
  {
   "cell_type": "markdown",
   "metadata": {},
   "source": [
    "# Lab 2: Computation of Kinematics "
   ]
  },
  {
   "cell_type": "markdown",
   "metadata": {},
   "source": [
    "_Group Members_ :"
   ]
  },
  {
   "cell_type": "markdown",
   "metadata": {},
   "source": [
    "In this lab, you will utilize computation to visualize functions and their derivatives, and read & interpret code that performs numerical integrations.\n",
    "\n",
    "This computation lab, the first of four, will give you tools to model and predict physical phemonena.  Today, we will investigate a computational approach to derivatives.  This will allow us to investigate the relationship between position, velocity, and acceleration of a given system.     \n",
    "\n",
    "By this point in the semester, you should be familiar with Jupyter Notebooks, and recognize Python syntax.  In this computational lab, we will dive more into using Python."
   ]
  },
  {
   "cell_type": "code",
   "execution_count": 2,
   "metadata": {},
   "outputs": [],
   "source": [
    "# Run this Python cell by selecting it and then pressing shift-enter\n",
    "# Do not change anything in this cell\n",
    "# These commands load the libraries for Python to use\n",
    "\n",
    "import numpy as np\n",
    "import scipy.special\n",
    "import scipy.optimize\n",
    "import matplotlib.pyplot as plt\n",
    "from matplotlib import animation, rc\n",
    "from IPython.display import HTML\n",
    "\n",
    "rc('animation', html='html5')  # this lets us call the animation object directly, without having to explicitly compile it\n",
    "\n",
    "# Change the path to ffmpeg\n",
    "# Windows users can get it at https://www.gyan.dev/ffmpeg/builds/ffmpeg-git-essentials.zip\n",
    "# Mac and Linux users can get it at https://ffmpeg.org/download.html\n",
    "# Once you download and extract the files, write the path to the ffmpeg.exe file in the quotes below, replacing ???\n",
    "# A windows path to the downloads folder, for example, will be 'C:/Users/Eric/Downloads/'\n",
    "# An example of the full command is:\n",
    "# plt.rcParams['animation.ffmpeg_path'] = r'D:\\\\ffmpeg-4.2.1-win64-static\\\\bin\\\\ffmpeg.exe'\n",
    "# the r must be included and it should point to ffmpeg.exe\n",
    "# On Mac/Linux it will be the downloads folder will be at '~/Downloads/'\n",
    "# and Mac/Linux does not use the .exe file, instead it should point to ffmpeg as in /path/to/file/ffmpeg\n",
    "# Ask your GSI if you are having trouble with the path, you can also check the if a path exists using the cell below\n",
    "\n",
    "plt.rcParams['animation.ffmpeg_path'] = r'???'\n",
    "\n"
   ]
  },
  {
   "cell_type": "code",
   "execution_count": null,
   "metadata": {},
   "outputs": [],
   "source": [
    "import os\n",
    "\n",
    "my_path = '???'\n",
    "os.path.exists(my_path)"
   ]
  },
  {
   "cell_type": "code",
   "execution_count": null,
   "metadata": {},
   "outputs": [],
   "source": [
    "%matplotlib notebook"
   ]
  },
  {
   "cell_type": "markdown",
   "metadata": {},
   "source": [
    "# Part One: Euler's Method "
   ]
  },
  {
   "cell_type": "markdown",
   "metadata": {},
   "source": [
    "Euler's method is a method to numerically computer integrals and derivatives.  Numerical computation methods are used when analytic solutions do not exist.  An analytic solution is one that we can algebraically solve for a solution.  There exist many non-analytic problems, of which scientists and engineers want to know the solutions to.  One of the methods used to determine solutions to non-analytic problems is called Euler's Method.  Many times in these labs we will still be working with functions that have known analytic solutions, and comparing to Euler's Method.  By doing this with solutions we know, we can verify that our solution method will still work for problems we don't have known solutions to.\n",
    "\n",
    "In this lab, we will be using Euler's Method to investigate the numerical relationship between acceleration, velocity, and position.  \n"
   ]
  },
  {
   "cell_type": "markdown",
   "metadata": {},
   "source": [
    "**<font color=blue>Problem 2.1: If you are given an initial velocity, an acceleration, and a time, how would you analytically (algebraically) calculate the final velocity?**"
   ]
  },
  {
   "cell_type": "markdown",
   "metadata": {},
   "source": [
    "_Double click this cell to begin editing. Write your answer here._"
   ]
  },
  {
   "cell_type": "markdown",
   "metadata": {},
   "source": [
    "In lecture, you will see that the acceleration due to gravity, $g$ or $a_g$, can be written as $g = 9.81 \\frac{m}{s}$.  This is constant in time.  \n",
    "\n",
    "The kinematic equation, $v_f = v_i + a \\cdot t$ can also be written as $\\Delta v = a \\cdot \\Delta t$, or the change in velocity due to an acceleration over a given time.  For smaller increments of $\\Delta$, this becomes a small step in either velocity or time to give $\\frac{d V}{d t} = a$.  The computer can numerically calculate this relationship once, or many times moving by some $\\Delta t$ each time.\n",
    "\n",
    "\n",
    "First, we need to tell the computer our initial conditions.  These will be something like: A ball is falling towards the earth, and accelerating at $a_g$.  The ball started from rest at some height $h$ above the ground.\n",
    "\n",
    "In lecture, you would apply a kinematic equation to solve this problem analytically.  \n",
    " $$x_{final} = x_{initial} + v_{initial}t + \\frac{1}{2} a t^2$$\n",
    "\n",
    "\n"
   ]
  },
  {
   "cell_type": "markdown",
   "metadata": {},
   "source": [
    "**<font color=blue>Problem 2.2: Using kinematic equations, calculate the height an object will be at after time $T=5$ seconds, if it started from rest at a height $h=500m$.**"
   ]
  },
  {
   "cell_type": "markdown",
   "metadata": {},
   "source": [
    "_Double click this cell to begin editing. Write your answer here._"
   ]
  },
  {
   "cell_type": "markdown",
   "metadata": {},
   "source": [
    "Now lets use Euler's Method to numerically calculate this for us, and compare the results.\n",
    "\n",
    "We will start with a given acceleration.  We want to calculate $v_f = v_i + a \\cdot t$. We will start with the ball at rest falling for a given time.  We will look at what the velocity is after 0.1 seconds.  \n"
   ]
  },
  {
   "cell_type": "markdown",
   "metadata": {},
   "source": [
    "**<font color=red>Code Task 2.1: Run the code below.  Feel free to change the variables and run as many times as you need to understand what is going on.**"
   ]
  },
  {
   "cell_type": "code",
   "execution_count": null,
   "metadata": {},
   "outputs": [],
   "source": [
    "# This is where the code goes.\n",
    "# Select this cell and press shift-enter to run it.\n",
    "# The output will be displayed in a new cell below this one.\n",
    "\n",
    "a = -9.81; \n",
    "v = 0;\n",
    "r = 500;\n",
    "dt = 0.1;\n",
    "\n",
    "\n",
    "v = v + a*dt\n",
    "\n",
    "print('New velocity is: ', v, 'm/s')"
   ]
  },
  {
   "cell_type": "markdown",
   "metadata": {},
   "source": [
    "**<font color=blue>Problem 2.3: Describe what the code above does.**"
   ]
  },
  {
   "cell_type": "markdown",
   "metadata": {},
   "source": [
    "_Double click this cell to begin editing. Write your answer here._"
   ]
  },
  {
   "cell_type": "markdown",
   "metadata": {},
   "source": [
    "**<font color=red>Code Task 2.2: Edit the code below (same code given above) to now calculate for the position.**"
   ]
  },
  {
   "cell_type": "code",
   "execution_count": null,
   "metadata": {},
   "outputs": [],
   "source": [
    "a = -9.81; \n",
    "v = 0;\n",
    "r = 500;\n",
    "dt = 0.1;\n",
    "\n",
    "\n",
    "v = v + a*dt\n",
    "#Add a statement to calcuate the position.\n",
    "\n",
    "print('New velocity is: ', v, 'm/s')\n",
    "print('New position is: ', r, 'm')"
   ]
  },
  {
   "cell_type": "markdown",
   "metadata": {},
   "source": [
    "This method works great for one time step, but we could easily calculate this by hand.  It can be quite tedious when you want to look at more than a few time steps.  We will utilize a [for loop](https://wiki.python.org/moin/ForLoop) (as introduced in Lab 1) to do these calculations for us. \n",
    "\n",
    "To look at some total time $T$ in increments of $dt$, we will create a time array.  This array is a list of all the times we will query the velocity and position at."
   ]
  },
  {
   "cell_type": "markdown",
   "metadata": {},
   "source": [
    "**<font color=red>Code Task 2.3: Run the code below without editing.**"
   ]
  },
  {
   "cell_type": "code",
   "execution_count": null,
   "metadata": {},
   "outputs": [],
   "source": [
    "a = -9.81 \n",
    "v = 0\n",
    "r = 500\n",
    "dt = 0.1\n",
    "\n",
    "T = 5\n",
    "times = np.arange(0, T+dt, dt)\n",
    "\n",
    "i = 1\n",
    "for t in times[1:]:\n",
    "    \n",
    "    v = v + a*dt\n",
    "    r = r + a*dt\n",
    "\n",
    "print('New velocity is: ', v, 'm/s')\n",
    "print('New position is: ', r, 'm')"
   ]
  },
  {
   "cell_type": "markdown",
   "metadata": {},
   "source": [
    "**<font color=blue>Problem 2.4: If we wanted to plot the code above, what issues would we encounter?**"
   ]
  },
  {
   "cell_type": "markdown",
   "metadata": {},
   "source": [
    "_Double click this cell to begin editing. Write your answer here._"
   ]
  },
  {
   "cell_type": "markdown",
   "metadata": {},
   "source": [
    "In the code below, we have included syntax to plot the acceleration, velocity, and position over time.  "
   ]
  },
  {
   "cell_type": "markdown",
   "metadata": {},
   "source": [
    "**<font color=red>Code Task 2.4: Run the code below without editing.**"
   ]
  },
  {
   "cell_type": "code",
   "execution_count": null,
   "metadata": {
    "scrolled": false
   },
   "outputs": [],
   "source": [
    "a = -9.81 \n",
    "v = 0\n",
    "r = 500\n",
    "dt = 0.05\n",
    "T = 5\n",
    "times = np.arange(0, T+dt, dt)\n",
    "\n",
    "N = times.size\n",
    "\n",
    "a_array = np.empty(N)\n",
    "a_array[0] = a\n",
    "v_array = np.empty(N)\n",
    "v_array[0] = v\n",
    "r_array = np.empty(N)\n",
    "r_array[0] = r\n",
    "\n",
    "\n",
    "\n",
    "i = 1\n",
    "for t in times[1:]:\n",
    "    \n",
    "    a_array[i] = a\n",
    "    \n",
    "    v = v + a*dt\n",
    "    v_array[i] = v\n",
    "    \n",
    "    r = r + v*dt\n",
    "    r_array[i] = r\n",
    "    \n",
    "    i = i + 1\n",
    "\n",
    "    \n",
    "    \n",
    "#Syntax for plotting below\n",
    "fig1, axs1 = plt.subplots(3,1)\n",
    "\n",
    "\n",
    "axs1[0].plot(times, a_array[:], '.')\n",
    "axs1[0].set_title('Y acceleration')\n",
    "axs1[0].set_xlabel('Time (s)')\n",
    "axs1[0].set_ylabel('Acceleration (m/s^2)')\n",
    "axs1[1].plot(times, v_array[:], '.')\n",
    "axs1[1].set_title('Y velocity')\n",
    "axs1[1].set_xlabel('Time (s)')\n",
    "axs1[1].set_ylabel('Velocity (m/s)')\n",
    "axs1[2].plot(times, r_array[:], '.')\n",
    "axs1[2].set_title('Y position')\n",
    "axs1[2].set_xlabel('Time (s)')\n",
    "axs1[2].set_ylabel('Position (m/s)')\n",
    "\n",
    "\n",
    "\n",
    "fig1.tight_layout()"
   ]
  },
  {
   "cell_type": "markdown",
   "metadata": {},
   "source": [
    "**<font color=blue>Question 2.5: Discuss the difference in the code between code task 3 and 4, specifically the diference above the plotting syntax in code task 4.**"
   ]
  },
  {
   "cell_type": "markdown",
   "metadata": {},
   "source": [
    "_Double click this cell to begin editing. Write your answer here._"
   ]
  },
  {
   "cell_type": "markdown",
   "metadata": {},
   "source": [
    "Since we live in a three dimensional world, we will acknowledge that our acceleration, velocity, and position can move independently in either of those three directions.  Since right now we are only interested in a ball falling, this is a one dimensional motion.  We will just leave the other dimensions as zeros for now (to be continued in later labs).  The code below has been adjusted to indicate that there are three directions ($x$,$y$, and $z$) to the acceleration, velocity, and position.  This is why we choose to use $r$ for position rather than $x$, since $r$ is three dimensional, and $x$ implies one dimension.  The code below uses three dimensions to run the code as in Code Task 3."
   ]
  },
  {
   "cell_type": "markdown",
   "metadata": {},
   "source": [
    "**<font color=red>Code Task 2.5: Run the code below without editing.**"
   ]
  },
  {
   "cell_type": "code",
   "execution_count": null,
   "metadata": {
    "scrolled": false
   },
   "outputs": [],
   "source": [
    "a =  np.array([0.,-9.81,0.]) \n",
    "v =  np.array([0.,0.,0.])\n",
    "r =  np.array([0.,500.,0.])\n",
    "\n",
    "dt = 0.05\n",
    "T = 5\n",
    "times = np.arange(0, T+dt, dt)\n",
    "\n",
    "N = times.size\n",
    "\n",
    "a_array = np.empty((N,3))\n",
    "a_array[0] = a\n",
    "v_array = np.empty((N,3))\n",
    "v_array[0] = v\n",
    "r_array = np.empty((N,3))\n",
    "r_array[0] = r\n",
    "\n",
    "\n",
    "\n",
    "\n",
    "i = 1\n",
    "for t in times[1:]:\n",
    "    \n",
    "    a_array[i] = a\n",
    "    \n",
    "    v = v + a*dt\n",
    "    v_array[i] = v\n",
    "    \n",
    "    r = r + v*dt\n",
    "    r_array[i] = r\n",
    "    \n",
    "    i = i + 1\n",
    "    \n",
    "\n",
    "\n",
    "fig1, axs1 = plt.subplots(3,1)\n",
    "\n",
    "axs1[0].plot(times, a_array[:,1], '.')\n",
    "axs1[0].set_title('Y acceleration')\n",
    "axs1[0].set_xlabel('Time (s)')\n",
    "axs1[0].set_ylabel('Acceleration (m/s^2)')\n",
    "axs1[1].plot(times, v_array[:,1], '.')\n",
    "axs1[1].set_title('Y velocity')\n",
    "axs1[1].set_xlabel('Time (s)')\n",
    "axs1[1].set_ylabel('Velocity (m/s)')\n",
    "axs1[2].plot(times, r_array[:,1], '.')\n",
    "axs1[2].set_title('Y position')\n",
    "axs1[2].set_xlabel('Time (s)')\n",
    "axs1[2].set_ylabel('Position (m/s)')\n",
    "\n",
    "\n",
    "\n",
    "\n",
    "fig1.tight_layout()"
   ]
  },
  {
   "cell_type": "markdown",
   "metadata": {},
   "source": [
    "Now we are going to define a class.  We will call this a ball, but we could call it a particle, box, ball, or even a dinosaur.  Anything that will contain information that we determine.  Here, we are defining a ball to have mass ($m$), position ($r$), velocity ($v$), and acceleration ($a$).  To refer to the acceleration, rather than calling $a$ we will call $ball.a$, or velocity will be $ball.v$.  \n",
    "\n",
    "We will not ask you to define a class yourself, but we do expect you to know (and be able to use) the various properties defined in the given class ($m$, $r$, $v$, and $a$)."
   ]
  },
  {
   "cell_type": "markdown",
   "metadata": {},
   "source": [
    "**<font color=red>Code Task 2.6: Run the code below without editing to define a ball class.**"
   ]
  },
  {
   "cell_type": "code",
   "execution_count": null,
   "metadata": {
    "scrolled": true
   },
   "outputs": [],
   "source": [
    "#Run this cell to define your ball class!\n",
    "\n",
    "class ball:\n",
    "    \n",
    "    def __init__(self, m=1, r=np.array([0,0,0]), v=np.array([0,0,0]), a=np.array([0,0,0])):\n",
    "        \n",
    "        self.m = m\n",
    "        \n",
    "        self.r = r\n",
    "        self.v = v\n",
    "        self.a = a\n",
    "        \n",
    "        self.r_array = np.array([])\n",
    "        self.v_array = np.array([])\n",
    "        self.a_array = np.array([])"
   ]
  },
  {
   "cell_type": "markdown",
   "metadata": {},
   "source": [
    "Now using a ball as our falling object, we can use the exact same code from above with the ball syntax.  "
   ]
  },
  {
   "cell_type": "markdown",
   "metadata": {},
   "source": [
    "**<font color=red>Code Task 2.7: Run the code below without editing.**"
   ]
  },
  {
   "cell_type": "code",
   "execution_count": null,
   "metadata": {
    "scrolled": false
   },
   "outputs": [],
   "source": [
    "# This is where the code goes.\n",
    "# Select this cell and press shift-enter to run it.\n",
    "# The output will be displayed in a new cell below this one.\n",
    "\n",
    "ball_1 = ball(m=1, r=np.array([0,1,0]))\n",
    "\n",
    "ball_1.a =  np.array([0.,-9.81,0.]) \n",
    "ball_1.v =  np.array([0.,0.,0.])\n",
    "ball_1.r =  np.array([0.,500.,0.])\n",
    "\n",
    "dt = 0.05\n",
    "T = 5\n",
    "times = np.arange(0, T+dt, dt)\n",
    "\n",
    "\n",
    "\n",
    "N = times.size\n",
    "\n",
    "ball_1.a_array = np.empty((N,3))\n",
    "ball_1.a_array[0] = ball_1.a\n",
    "ball_1.v_array = np.empty((N,3))\n",
    "ball_1.v_array[0] = ball_1.v\n",
    "ball_1.r_array = np.empty((N,3))\n",
    "ball_1.r_array[0] = ball_1.r\n",
    "\n",
    "\n",
    "\n",
    "i = 1\n",
    "for t in times[1:]:\n",
    "    \n",
    "    ball_1.a_array[i] = ball_1.a\n",
    "    \n",
    "    ball_1.v = ball_1.v + ball_1.a * dt\n",
    "    ball_1.v_array[i] = ball_1.v \n",
    "    \n",
    "    ball_1.r = ball_1.r + ball_1.v * dt\n",
    "    ball_1.r_array[i] = ball_1.r\n",
    "    \n",
    "    i = i + 1\n",
    "\n",
    "\n",
    "    \n",
    "fig1, axs1 = plt.subplots(3,1)\n",
    "\n",
    "axs1[0].plot(times, ball_1.a_array[:,1], '.')\n",
    "axs1[0].set_title('Y acceleration')\n",
    "axs1[0].set_xlabel('Time (s)')\n",
    "axs1[0].set_ylabel('Acceleration (m/s^2)')\n",
    "axs1[1].plot(times, ball_1.v_array[:,1], '.')\n",
    "axs1[1].set_title('Y velocity')\n",
    "axs1[1].set_xlabel('Time (s)')\n",
    "axs1[1].set_ylabel('Velocity (m/s)')\n",
    "axs1[2].plot(times, ball_1.r_array[:,1], '.')\n",
    "axs1[2].set_title('Y position')\n",
    "axs1[2].set_xlabel('Time (s)')\n",
    "axs1[2].set_ylabel('Position (m/s)')\n",
    "\n",
    "\n",
    "\n",
    "\n",
    "fig1.tight_layout()"
   ]
  },
  {
   "cell_type": "markdown",
   "metadata": {},
   "source": [
    "**<font color=blue>Problem 2.6: Discuss the figure above.  What do you notice about the relationship between acceleration, velocity, and position?**"
   ]
  },
  {
   "cell_type": "markdown",
   "metadata": {},
   "source": [
    "_Double click this cell to begin editing. Write your answer here._"
   ]
  },
  {
   "cell_type": "markdown",
   "metadata": {},
   "source": [
    "The plots created above were static plots of acceleration, velocity, and position changing through time.  We can also make an animation of this ball traveling through time by plotting its position in time.  The two cells below require all the code you need to animate the graphs from above."
   ]
  },
  {
   "cell_type": "markdown",
   "metadata": {},
   "source": [
    "**<font color=red>Code Task 2.8: Run the code below to animate the ball falling, that you numerically calculated for above. Run the code in the two cells below without editing.**"
   ]
  },
  {
   "cell_type": "code",
   "execution_count": null,
   "metadata": {},
   "outputs": [],
   "source": [
    "def init():\n",
    "    line.set_data([], [])\n",
    "    return(line)\n",
    "\n",
    "def animate_ball_1(i):\n",
    "    x = ball_1.r_array[i, 0]\n",
    "    y = ball_1.r_array[i, 1]\n",
    "    line.set_data(x, y)\n",
    "    return (line)\n",
    "\n",
    "def animate_ball_2(i):\n",
    "    x = ball_2.r_array[i, 0]\n",
    "    y = ball_2.r_array[i, 1]\n",
    "    line.set_data(x, y)\n",
    "    return (line)\n",
    "\n",
    "def animate_ball_3(i):\n",
    "    x = ball_3.r_array[i, 0]\n",
    "    y = ball_3.r_array[i, 1]\n",
    "    line.set_data(x, y)\n",
    "    return (line)\n",
    "\n",
    "def animate_ball_4(i):\n",
    "    x = ball_4.r_array[i, 0]\n",
    "    y = ball_4.r_array[i, 1]\n",
    "    line.set_data(x, y)\n",
    "    return (line)"
   ]
  },
  {
   "cell_type": "code",
   "execution_count": 1,
   "metadata": {
    "scrolled": false
   },
   "outputs": [
    {
     "ename": "NameError",
     "evalue": "name 'plt' is not defined",
     "output_type": "error",
     "traceback": [
      "\u001b[1;31m---------------------------------------------------------------------------\u001b[0m",
      "\u001b[1;31mNameError\u001b[0m                                 Traceback (most recent call last)",
      "\u001b[1;32m<ipython-input-1-7c5a3d81ef8a>\u001b[0m in \u001b[0;36m<module>\u001b[1;34m\u001b[0m\n\u001b[1;32m----> 1\u001b[1;33m \u001b[0mfig2\u001b[0m\u001b[1;33m,\u001b[0m \u001b[0maxs2\u001b[0m \u001b[1;33m=\u001b[0m \u001b[0mplt\u001b[0m\u001b[1;33m.\u001b[0m\u001b[0msubplots\u001b[0m\u001b[1;33m(\u001b[0m\u001b[1;33m)\u001b[0m\u001b[1;33m\u001b[0m\u001b[1;33m\u001b[0m\u001b[0m\n\u001b[0m\u001b[0;32m      2\u001b[0m \u001b[1;32mif\u001b[0m \u001b[0mnp\u001b[0m\u001b[1;33m.\u001b[0m\u001b[0mmin\u001b[0m\u001b[1;33m(\u001b[0m\u001b[0mball_1\u001b[0m\u001b[1;33m.\u001b[0m\u001b[0mr_array\u001b[0m\u001b[1;33m[\u001b[0m\u001b[1;33m:\u001b[0m\u001b[1;33m,\u001b[0m\u001b[1;36m0\u001b[0m\u001b[1;33m]\u001b[0m\u001b[1;33m)\u001b[0m\u001b[1;33m==\u001b[0m\u001b[0mnp\u001b[0m\u001b[1;33m.\u001b[0m\u001b[0mmax\u001b[0m\u001b[1;33m(\u001b[0m\u001b[0mball_1\u001b[0m\u001b[1;33m.\u001b[0m\u001b[0mr_array\u001b[0m\u001b[1;33m[\u001b[0m\u001b[1;33m:\u001b[0m\u001b[1;33m,\u001b[0m\u001b[1;36m0\u001b[0m\u001b[1;33m]\u001b[0m\u001b[1;33m)\u001b[0m\u001b[1;33m:\u001b[0m\u001b[1;33m\u001b[0m\u001b[1;33m\u001b[0m\u001b[0m\n\u001b[0;32m      3\u001b[0m     axs2.set_xlim((np.min(ball_1.r_array[:,0])-0.05), (np.max(ball_1.r_array[:,0]) + 0.05)\n\u001b[0;32m      4\u001b[0m              )\n\u001b[0;32m      5\u001b[0m \u001b[1;32melse\u001b[0m\u001b[1;33m:\u001b[0m\u001b[1;33m\u001b[0m\u001b[1;33m\u001b[0m\u001b[0m\n",
      "\u001b[1;31mNameError\u001b[0m: name 'plt' is not defined"
     ]
    }
   ],
   "source": [
    "fig2, axs2 = plt.subplots()\n",
    "if np.min(ball_1.r_array[:,0])==np.max(ball_1.r_array[:,0]):\n",
    "    axs2.set_xlim((np.min(ball_1.r_array[:,0])-0.05), (np.max(ball_1.r_array[:,0]) + 0.05)\n",
    "             )\n",
    "else:\n",
    "    axs2.set_xlim((np.min(ball_1.r_array[:,0]) - 0.1*np.abs(np.min(ball_1.r_array[:,0])),\n",
    "               np.max(ball_1.r_array[:,0]) + 0.1*np.abs(np.max(ball_1.r_array[:,0])))\n",
    "             )\n",
    "axs2.set_ylim((np.min(ball_1.r_array[:,1]) - 0.1*np.abs(np.min(ball_1.r_array[:,1])),\n",
    "               np.max(ball_1.r_array[:,1]) + 0.1*np.abs(np.max(ball_1.r_array[:,1])))\n",
    "             )\n",
    "axs2.plot([np.min(ball_1.r_array[:,0]),np.max(ball_1.r_array[:,0])], [0,0], color='C1', lw=3)\n",
    "line, = axs2.plot([], [], '.', markersize=24)\n",
    "plt.close()\n",
    "\n",
    "anim_1 = animation.FuncAnimation(fig2, animate_ball_1, init_func=init, frames=N, interval=30)\n",
    "\n",
    "anim_1"
   ]
  },
  {
   "cell_type": "markdown",
   "metadata": {},
   "source": [
    "Once the animation has ran so that you understand what is going on, you can pause it by hovering your mouse over the figure and clicking the pause button.\n",
    "\n",
    "It will take the computer a little bit of time to put the animation video together, so be patient.  This specific animation shouldn't take too long, but future animations later in the semester will take a little bit of time to be generated."
   ]
  },
  {
   "cell_type": "markdown",
   "metadata": {},
   "source": [
    "**<font color=blue>Problem 2.7: Discuss the animation above.  Does the animation represent the static figures you created in code task 6?  What else do you notice?**"
   ]
  },
  {
   "cell_type": "markdown",
   "metadata": {},
   "source": [
    "_Double click this cell to begin editing. Write your answer here._"
   ]
  },
  {
   "cell_type": "markdown",
   "metadata": {},
   "source": [
    "---\n",
    "Earlier, you were asked to analytically calculate the position of the ball after a given time.  Now we will compare this analytic result to our numerical result.  We will only be looking at the ball's position for this.  "
   ]
  },
  {
   "cell_type": "markdown",
   "metadata": {},
   "source": [
    "**<font color=red>Code Task 2.9: First run the code below without editing.  Discuss with you lab partner(s) the difference between the analytical and numerical calculations of your position.  Then, edit the time step, $dt$, in your code and run it again.**"
   ]
  },
  {
   "cell_type": "code",
   "execution_count": null,
   "metadata": {
    "scrolled": false
   },
   "outputs": [],
   "source": [
    "a = -9.81 \n",
    "v = 0\n",
    "vint = 0\n",
    "r = 500\n",
    "rint = 500\n",
    "dt = .1\n",
    "T = 5\n",
    "times = np.arange(0, T+dt, dt)\n",
    "\n",
    "N = times.size\n",
    "\n",
    "a_array = np.empty((N,3))\n",
    "a_array[0] = a\n",
    "v_array = np.empty((N,3))\n",
    "v_array[0] = v\n",
    "r_array = np.empty((N,3))\n",
    "r_array[0] = r\n",
    "rCalc_array = np.empty((N,3))\n",
    "rCalc_array[0] = r\n",
    "rError_array = np.empty((N,3))\n",
    "rError_array[0] = 0\n",
    "\n",
    "\n",
    "\n",
    "i = 1\n",
    "for t in times[1:]:\n",
    "    \n",
    "    a_array[i] = a\n",
    "    \n",
    "    v = v + a*dt\n",
    "    v_array[i] = v\n",
    "    \n",
    "    r = r + v*dt\n",
    "    r_array[i] = r\n",
    "    \n",
    "    rCalc = rint + vint*t + (1/2)*a*(t)**2\n",
    "    rCalc_array[i] = rCalc\n",
    "    \n",
    "    rError = abs((r - rCalc)/rCalc)  #Calculation of percent error\n",
    "    rError_array[i] = rError\n",
    "    \n",
    "    i = i + 1\n",
    "\n",
    "    \n",
    "    \n",
    "print('Final analytic position is: ', rCalc, 'm')\n",
    "print('Final numerical position is ', r, 'm')\n",
    "    \n",
    "fig1, axs1 = plt.subplots(2,1)\n",
    "\n",
    "\n",
    "axs1[0].plot(times, r_array[:,1], '.')\n",
    "axs1[0].plot(times, rCalc_array[:,1], '.')\n",
    "axs1[0].set_title('Y position (analytic and numeric)')\n",
    "axs1[0].set_xlabel('Time (s)')\n",
    "axs1[0].set_ylabel('Position (m)')\n",
    "\n",
    "\n",
    "axs1[1].plot(times, rError_array[:,1], '.')\n",
    "axs1[1].set_title('Percent Error')\n",
    "axs1[1].set_xlabel('Time (s)')\n",
    "axs1[1].set_ylabel('Percent Error')\n",
    "\n",
    "\n",
    "\n",
    "#fig1.set_size_inches(12,12)\n",
    "fig1.tight_layout()"
   ]
  },
  {
   "cell_type": "markdown",
   "metadata": {},
   "source": [
    "**<font color=blue>Problem 2.8: How does the step size $dt$ affect the difference between the analytical and numerical calculation?  What are the downsides to having very large and very small $dt$ values?**"
   ]
  },
  {
   "cell_type": "markdown",
   "metadata": {},
   "source": [
    "_Double click this cell to begin editing. Write your answer here._"
   ]
  },
  {
   "cell_type": "markdown",
   "metadata": {},
   "source": [
    "# Part Two: Bouncing Ball"
   ]
  },
  {
   "cell_type": "markdown",
   "metadata": {},
   "source": [
    "In Part 1, we used a constant acceleration.  Now, since we know that $\\vec{F} = m \\cdot \\vec{a}$ gives a relationship between the net force and the acceleration to a system, if the force is changing, the acceleration will also change.  We will do this by defining a force, like we did below.  The force here is a force due to gravity, $F_g = m \\cdot g$.  "
   ]
  },
  {
   "cell_type": "markdown",
   "metadata": {},
   "source": [
    "**<font color=red>Code Task 2.10: Run the code below without editing to define a function, specifically the force due to gravity.**"
   ]
  },
  {
   "cell_type": "code",
   "execution_count": null,
   "metadata": {
    "scrolled": true
   },
   "outputs": [],
   "source": [
    "g = 9.81  # m/s^2\n",
    "\n",
    "def force(m):  #The variables you will give (variables you pass) to your force calculation are in the parentheses\n",
    "    '''\n",
    "    This force is dependent only on the y-coordinate, and represents gravity!\n",
    "    F_y = -mg\n",
    "    '''\n",
    "    output_force = np.zeros(3)  # initialze the returned force array with zeros\n",
    "    output_force[1] = -m * g\n",
    "\n",
    "    return output_force"
   ]
  },
  {
   "cell_type": "markdown",
   "metadata": {},
   "source": [
    "In Part 1, we used a constant acceleration.  Now, since we know that $\\vec{F} = m \\cdot \\vec{a}$ gives a relationship between the net force and the acceleration to a system, if the force is changing, the acceleration will also change.  We will do this by defining a force, like we did below.  The force here is a force due to gravity, $F_g = m \\cdot g$.\n",
    "\n",
    "Note that there is an `if` statement at the end of the code block."
   ]
  },
  {
   "cell_type": "markdown",
   "metadata": {},
   "source": [
    "**<font color=blue>Problem 2.9: After you read through the following code, describe what is being modeled. What does the `if` statement do, and why do you think the second part of the `and` statement is there?**"
   ]
  },
  {
   "cell_type": "markdown",
   "metadata": {},
   "source": [
    "_Double click this cell to begin editing. Write your answer here._"
   ]
  },
  {
   "cell_type": "markdown",
   "metadata": {},
   "source": [
    "**<font color=red>Code Task 2.11: Run the code below without editing.**"
   ]
  },
  {
   "cell_type": "code",
   "execution_count": null,
   "metadata": {
    "scrolled": true
   },
   "outputs": [],
   "source": [
    "ball_2 = ball(m=1, r=np.array([0,1,0]))\n",
    "\n",
    "T = 3\n",
    "dt = 0.01\n",
    "times = np.arange(0, T+dt, dt)\n",
    "\n",
    "N = times.size\n",
    "\n",
    "ball_2.a_array = np.empty((N,3))\n",
    "ball_2.a_array[0] = ball_2.a\n",
    "ball_2.v_array = np.empty((N,3))\n",
    "ball_2.v_array[0] = ball_2.v\n",
    "ball_2.r_array = np.empty((N,3))\n",
    "ball_2.r_array[0] = ball_2.r\n",
    "\n",
    "i = 1\n",
    "for t in times[1:]:\n",
    "    \n",
    "    # first update the accelerations\n",
    "    ball_2.a = force(ball_2.m)/ball_2.m\n",
    "    # then append the new value to the list\n",
    "    ball_2.a_array[i] = ball_2.a\n",
    "    \n",
    "    # if the ball is \"in the floor\", neglect gravity briefly in the calculation of v\n",
    "    # this keeps the ball from \"sinking\" into the ground over time\n",
    "    if ball_2.r[1] <= 0: ball_2.a = 0\n",
    "    \n",
    "    # second update the velocities\n",
    "    ball_2.v = ball_2.v + ball_2.a * dt\n",
    "    # then append the new value to the list\n",
    "    ball_2.v_array[i] = ball_2.v  \n",
    "    \n",
    "    # third update the positions\n",
    "    ball_2.r = ball_2.r + ball_2.v * dt\n",
    "    # then append the new value to the list\n",
    "    ball_2.r_array[i] = ball_2.r\n",
    "    \n",
    "    # if the ball is below y = 0 and traveling downwards, reverse direction of velocity\n",
    "    if ball_2.r[1] <= 0 and ball_2.v[1] <= 0: ball_2.v[1] = -1 * 0.7 * ball_2.v[1]\n",
    "    \n",
    "    # update iteration count\n",
    "    i = i + 1"
   ]
  },
  {
   "cell_type": "markdown",
   "metadata": {},
   "source": [
    "The positive coefficent that multiplies the velocity is called the \"coefficient of restitution.\" It takes a value between 0 and 1 (this has been set to 0.7 for you initially).\n",
    "\n",
    "After running the code above and determining what is being modeled, run the plotting syntax below to plot. "
   ]
  },
  {
   "cell_type": "markdown",
   "metadata": {},
   "source": [
    "**<font color=red>Code Task 2.12: Run the code below without editing.**"
   ]
  },
  {
   "cell_type": "code",
   "execution_count": null,
   "metadata": {
    "scrolled": false
   },
   "outputs": [],
   "source": [
    "fig1, axs1 = plt.subplots(3,1)\n",
    "\n",
    "axs1[0].plot(times[1:], ball_2.a_array[1:,1], '.')\n",
    "axs1[0].set_title('Y acceleration')\n",
    "axs1[0].set_xlabel('Time (s)')\n",
    "axs1[0].set_ylabel('Acceleration (m/s^2)')\n",
    "axs1[1].plot(times[1:], ball_2.v_array[1:,1], '.')\n",
    "axs1[1].set_title('Y velocity')\n",
    "axs1[1].set_xlabel('Time (s)')\n",
    "axs1[1].set_ylabel('Velocity (m/s)')\n",
    "axs1[2].plot(times[1:], ball_2.r_array[1:,1], '.')\n",
    "axs1[2].set_title('Y position')\n",
    "axs1[2].set_xlabel('Time (s)')\n",
    "axs1[2].set_ylabel('Position (m/s)')\n",
    "\n",
    "\n",
    "fig1.tight_layout()"
   ]
  },
  {
   "cell_type": "markdown",
   "metadata": {},
   "source": [
    "**<font color=blue>Problem 2.10: Based on your prediction for problem 2.9, was your prediction accurate? If not, what happened that you weren't expecting?**"
   ]
  },
  {
   "cell_type": "markdown",
   "metadata": {},
   "source": [
    "_Double click this cell to begin editing. Write your answer here._"
   ]
  },
  {
   "cell_type": "markdown",
   "metadata": {},
   "source": [
    "**<font color=blue>Problem 2.11: Run the two blocks above a few more times, changing the coefficient of restitution a few times. What does a high coefficient correspond to? What about a low one? Give a few examples of objects with a high or low coefficient of restitution.**"
   ]
  },
  {
   "cell_type": "markdown",
   "metadata": {},
   "source": [
    "_Double click this cell to begin editing. Write your answer here._"
   ]
  },
  {
   "cell_type": "markdown",
   "metadata": {},
   "source": [
    "**<font color=red>Code Task 2.13: Run the code below to animate the ball bouncing you numerically calculated for above.**"
   ]
  },
  {
   "cell_type": "code",
   "execution_count": null,
   "metadata": {
    "scrolled": false
   },
   "outputs": [],
   "source": [
    "fig2, axs2 = plt.subplots()\n",
    "if np.min(ball_2.r_array[:,0])==np.max(ball_2.r_array[:,0]):\n",
    "    axs2.set_xlim((np.min(ball_2.r_array[:,0])-0.05), (np.max(ball_2.r_array[:,0]) + 0.05)\n",
    "             )\n",
    "else:\n",
    "    axs2.set_xlim((np.min(ball_2.r_array[:,0]) - 0.1*np.abs(np.min(ball_2.r_array[:,0])),\n",
    "               np.max(ball_2.r_array[:,0]) + 0.1*np.abs(np.max(ball_2.r_array[:,0])))\n",
    "             )\n",
    "axs2.set_ylim((np.min(ball_2.r_array[:,1]) - 0.1*np.abs(np.min(ball_2.r_array[:,1])),\n",
    "               np.max(ball_2.r_array[:,1]) + 0.1*np.abs(np.max(ball_2.r_array[:,1])))\n",
    "             )\n",
    "axs2.plot([np.min(ball_2.r_array[:,0]),np.max(ball_2.r_array[:,0])], [0,0], color='C1', lw=3)\n",
    "line, = axs2.plot([], [], '.', markersize=24)\n",
    "plt.close()\n",
    "\n",
    "anim_2 = animation.FuncAnimation(fig2, animate_ball_2, init_func=init, frames=N, interval=30)\n",
    "\n",
    "anim_2"
   ]
  },
  {
   "cell_type": "markdown",
   "metadata": {},
   "source": [
    "**<font color=blue>Problem 2.12: Discuss the animation above.  Does the animation represent the static figures you created in code task 12?  What else do you notice?**"
   ]
  },
  {
   "cell_type": "markdown",
   "metadata": {},
   "source": [
    "_Double click this cell to begin editing. Write your answer here._"
   ]
  },
  {
   "cell_type": "markdown",
   "metadata": {},
   "source": [
    "# Part Three: Change of Force"
   ]
  },
  {
   "cell_type": "markdown",
   "metadata": {},
   "source": [
    "In Part 2, we determined our acceleration from a given force, $F_g = m \\cdot g$, which was constant.  Now we will explore systems where the force is dependant on some variable (we can determine our force to be dependent on anything we want, $v$, $r$, $m$, or even something else entirely!)  "
   ]
  },
  {
   "cell_type": "markdown",
   "metadata": {},
   "source": [
    "**<font color=red>Code Task 2.14: Edit the code below to have a force dependent both on position ($r$) and velocity ($v$). Try modeling the equation $F = -25 r - 2 v$ to start.  Run the code below.**"
   ]
  },
  {
   "cell_type": "code",
   "execution_count": null,
   "metadata": {
    "scrolled": true
   },
   "outputs": [],
   "source": [
    "def force(m, r): #The variables you will give (variables you pass) to your force calculation are in the parentheses\n",
    "\n",
    "    output_force = np.zeros(3)  \n",
    "    output_force[1] = -25 * r #Here is where you can change your force\n",
    "\n",
    "    return output_force"
   ]
  },
  {
   "cell_type": "markdown",
   "metadata": {},
   "source": [
    "**<font color=blue>Problem 2.13: After you read through the following code, describe what is being modeled, given your updated force definition above.  Predict what your acceleration, velocity, and position graphs will look like due to this force.**"
   ]
  },
  {
   "cell_type": "markdown",
   "metadata": {},
   "source": [
    "_Double click this cell to begin editing. Write your answer here._"
   ]
  },
  {
   "cell_type": "markdown",
   "metadata": {},
   "source": [
    "**<font color=red>Code Task 2.15: Update the force to match the force you defined in Code Task 12.  Run the code below.**"
   ]
  },
  {
   "cell_type": "code",
   "execution_count": null,
   "metadata": {
    "scrolled": true
   },
   "outputs": [],
   "source": [
    "ball_3 = ball(m=1, r=np.array([0,1,0]))\n",
    "\n",
    "T = 5\n",
    "dt = 0.05\n",
    "times = np.arange(0, T+dt, dt)\n",
    "\n",
    "N = times.size\n",
    "\n",
    "ball_3.a_array = np.empty((N,3))\n",
    "ball_3.a_array[0] = ball_3.a\n",
    "ball_3.v_array = np.empty((N,3))\n",
    "ball_3.v_array[0] = ball_3.v\n",
    "ball_3.r_array = np.empty((N,3))\n",
    "ball_3.r_array[0] = ball_3.r\n",
    "\n",
    "i = 1\n",
    "for t in times[1:]:\n",
    "    \n",
    "    ball_3.a = force(ball_3.m, ball_3.r[1])/ball_3.m  #Update the force to match the force you defined above\n",
    "    ball_3.a_array[i] = ball_3.a\n",
    "    \n",
    "    ball_3.v = ball_3.v + ball_3.a * dt\n",
    "    ball_3.v_array[i] = ball_3.v  \n",
    "    \n",
    "    ball_3.r = ball_3.r + ball_3.v * dt\n",
    "    ball_3.r_array[i] = ball_3.r\n",
    "    \n",
    "    i = i + 1"
   ]
  },
  {
   "cell_type": "markdown",
   "metadata": {},
   "source": [
    "**<font color=red>Code Task 2.16: Run the code below without editing.**"
   ]
  },
  {
   "cell_type": "code",
   "execution_count": null,
   "metadata": {
    "scrolled": false
   },
   "outputs": [],
   "source": [
    "fig1, axs1 = plt.subplots(3,1)\n",
    "\n",
    "axs1[0].plot(times[1:], ball_3.a_array[1:,1], '.')\n",
    "axs1[0].set_title('Y acceleration')\n",
    "axs1[0].set_xlabel('Time (s)')\n",
    "axs1[0].set_ylabel('Acceleration (m/s^2)')\n",
    "axs1[1].plot(times[1:], ball_3.v_array[1:,1], '.')\n",
    "axs1[1].set_title('Y velocity')\n",
    "axs1[1].set_xlabel('Time (s)')\n",
    "axs1[1].set_ylabel('Velocity (m/s)')\n",
    "axs1[2].plot(times[1:], ball_3.r_array[1:,1], '.')\n",
    "axs1[2].set_title('Y position')\n",
    "axs1[2].set_xlabel('Time (s)')\n",
    "axs1[2].set_ylabel('Position (m/s)')\n",
    "\n",
    "\n",
    "fig1.tight_layout()"
   ]
  },
  {
   "cell_type": "markdown",
   "metadata": {},
   "source": [
    "**<font color=blue>Problem 2.14: Based on your prediction for problem 2.13, was your prediction accurate? If not, what happened that you weren't expecting?**"
   ]
  },
  {
   "cell_type": "markdown",
   "metadata": {},
   "source": [
    "_Double click this cell to begin editing. Write your answer here._"
   ]
  },
  {
   "cell_type": "markdown",
   "metadata": {},
   "source": [
    "**<font color=blue>Problem 2.15: What was the importance of the velocity dependence in the force?  Explain the changes you made, and the effect they had on the system.**"
   ]
  },
  {
   "cell_type": "markdown",
   "metadata": {},
   "source": [
    "_Double click this cell to begin editing. Write your answer here._"
   ]
  },
  {
   "cell_type": "markdown",
   "metadata": {},
   "source": [
    "**<font color=red>Code Task 2.17: Run the code below to animate the ball bouncing you numerically calculated for above.**"
   ]
  },
  {
   "cell_type": "code",
   "execution_count": null,
   "metadata": {
    "scrolled": false
   },
   "outputs": [],
   "source": [
    "fig3, axs3 = plt.subplots()\n",
    "if np.min(ball_3.r_array[:,0])==np.max(ball_3.r_array[:,0]):\n",
    "    axs3.set_xlim((np.min(ball_3.r_array[:,0])-0.05), (np.max(ball_3.r_array[:,0]) + 0.05)\n",
    "             )\n",
    "else:\n",
    "    axs3.set_xlim((np.min(ball_3.r_array[:,0]) - 0.1*np.abs(np.min(ball_3.r_array[:,0])),\n",
    "               np.max(ball_3.r_array[:,0]) + 0.1*np.abs(np.max(ball_3.r_array[:,0])))\n",
    "             )\n",
    "axs3.set_ylim((np.min(ball_3.r_array[:,1]) - 0.1*np.abs(np.min(ball_3.r_array[:,1])),\n",
    "               np.max(ball_3.r_array[:,1]) + 0.1*np.abs(np.max(ball_3.r_array[:,1])))\n",
    "             )\n",
    "axs3.plot([np.min(ball_3.r_array[:,0]),np.max(ball_3.r_array[:,0])], [0,0], color='C1', lw=3)\n",
    "line, = axs3.plot([], [], '.', markersize=24)\n",
    "plt.close()\n",
    "\n",
    "anim_3 = animation.FuncAnimation(fig3, animate_ball_3, init_func=init, frames=N, interval=40)\n",
    "\n",
    "anim_3"
   ]
  },
  {
   "cell_type": "markdown",
   "metadata": {},
   "source": [
    "**<font color=blue>Problem 2.16: Discuss the animation above.  Does the animation represent the static figures you created in code task 16?  What else do you notice?**"
   ]
  },
  {
   "cell_type": "markdown",
   "metadata": {},
   "source": [
    "_Double click this cell to begin editing. Write your answer here._"
   ]
  },
  {
   "cell_type": "markdown",
   "metadata": {},
   "source": [
    "# Culminating Assessment Task (CAT)"
   ]
  },
  {
   "cell_type": "markdown",
   "metadata": {},
   "source": [
    "In this section, you will combine the skills you used above to model a ball bouncing on a trampoline. A trampoline is an object that, when the ball is below the `y=0` line, exerts a force proportional and opposite to the displacement.  You can choose the coefficient in front of this factor. The ball also experiences the gravitational force at all times."
   ]
  },
  {
   "cell_type": "markdown",
   "metadata": {},
   "source": [
    "**<font color=blue>Problem 2.17: Write below how you plan to model the force exerted by a trampoline $F_{T}$. (There are multiple ways to do this.)**"
   ]
  },
  {
   "cell_type": "markdown",
   "metadata": {},
   "source": [
    "_Double click this cell to begin editing. Write your answer here._"
   ]
  },
  {
   "cell_type": "markdown",
   "metadata": {},
   "source": [
    "**<font color=red>Code Task 2.18: Edit the three code blocks below to model the force(s) you want to define for a trampoline, as described above.**\n",
    "\n"
   ]
  },
  {
   "cell_type": "markdown",
   "metadata": {},
   "source": [
    "**Hint:** Look back to Part 2 and Part 3 for inspiration."
   ]
  },
  {
   "cell_type": "code",
   "execution_count": null,
   "metadata": {
    "scrolled": true
   },
   "outputs": [],
   "source": [
    "g = 9.81  # m/s^2\n",
    "\n",
    "def force(m):\n",
    "    '''\n",
    "    This force is dependent only on the y-coordinate, and represents gravity!\n",
    "    F_y = -mg\n",
    "    '''\n",
    "    output_force = np.zeros(3)  # initialze the returned force array with zeros\n",
    "    output_force[1] = -m * g\n",
    "    \n",
    "    ## add code here to make this force model a trampoline\n",
    "\n",
    "    return output_force"
   ]
  },
  {
   "cell_type": "markdown",
   "metadata": {},
   "source": [
    "The following code has no changes from the previous version, because all we have changed is the force that is encoded in the function above. Run the two code blocks below to generate plots of the ball's motion.\n",
    "\n",
    "**Hint:** Once again, you will need to edit the code cell below to account for the changes you made to the force function in the code cell above."
   ]
  },
  {
   "cell_type": "code",
   "execution_count": null,
   "metadata": {
    "scrolled": true
   },
   "outputs": [],
   "source": [
    "ball_4 = ball(m=1, r=np.array([0,2,0]))\n",
    "\n",
    "T = 10\n",
    "dt = 0.05\n",
    "times = np.arange(0, T+dt, dt)\n",
    "\n",
    "N = times.size\n",
    "\n",
    "ball_4.a_array = np.empty((N,3))\n",
    "ball_4.a_array[0] = ball_4.a\n",
    "ball_4.v_array = np.empty((N,3))\n",
    "ball_4.v_array[0] = ball_4.v\n",
    "ball_4.r_array = np.empty((N,3))\n",
    "ball_4.r_array[0] = ball_4.r\n",
    "\n",
    "i = 1\n",
    "for t in times[1:]:\n",
    "    \n",
    "    ball_4.a = force(ball_4.m)/ball_4.m\n",
    "    ball_4.a_array[i] = ball_4.a\n",
    "    \n",
    "    ball_4.v = ball_4.v + ball_4.a * dt\n",
    "    ball_4.v_array[i] = ball_4.v  \n",
    "    \n",
    "    ball_4.r = ball_4.r + ball_4.v * dt\n",
    "    ball_4.r_array[i] = ball_4.r\n",
    "    \n",
    "    i = i + 1"
   ]
  },
  {
   "cell_type": "code",
   "execution_count": null,
   "metadata": {
    "scrolled": false
   },
   "outputs": [],
   "source": [
    "fig1, axs1 = plt.subplots(3,1)\n",
    "\n",
    "axs1[0].plot(times[1:], ball_4.a_array[1:,1], '.')\n",
    "axs1[0].set_title('Y acceleration')\n",
    "axs1[0].set_xlabel('Time (s)')\n",
    "axs1[0].set_ylabel('Acceleration (m/s^2)')\n",
    "axs1[1].plot(times[1:], ball_4.v_array[1:,1], '.')\n",
    "axs1[1].set_title('Y velocity')\n",
    "axs1[1].set_xlabel('Time (s)')\n",
    "axs1[1].set_ylabel('Velocity (m/s)')\n",
    "axs1[2].plot(times[1:], ball_4.r_array[1:,1], '.')\n",
    "axs1[2].set_title('Y position')\n",
    "axs1[2].set_xlabel('Time (s)')\n",
    "axs1[2].set_ylabel('Position (m/s)')\n",
    "\n",
    "fig1.tight_layout()"
   ]
  },
  {
   "cell_type": "markdown",
   "metadata": {},
   "source": [
    "**<font color=blue>Problem 2.18: Does the ball act how you would expect? Look particularly at the plots of acceleration and velocity, and describe to two distinct \"regimes\" of the motion.**"
   ]
  },
  {
   "cell_type": "markdown",
   "metadata": {},
   "source": [
    "_Double click this cell to begin editing. Write your answer here._"
   ]
  },
  {
   "cell_type": "markdown",
   "metadata": {},
   "source": [
    "**<font color=blue>Problem 2.19: Run the three code block above with different values for the constant in front of the position in the force function. How do different number change the different regimes? What physical changes to the trampoline does this represent?**"
   ]
  },
  {
   "cell_type": "markdown",
   "metadata": {},
   "source": [
    "_Double click this cell to begin editing. Write your answer here._"
   ]
  },
  {
   "cell_type": "markdown",
   "metadata": {},
   "source": [
    "**<font color=red>Code Task 2.19: Run the code below to animate the ball bouncing you numerically calculated for above.**"
   ]
  },
  {
   "cell_type": "code",
   "execution_count": null,
   "metadata": {
    "scrolled": false
   },
   "outputs": [],
   "source": [
    "fig4, axs4 = plt.subplots()\n",
    "if np.min(ball_4.r_array[:,0])==np.max(ball_4.r_array[:,0]):\n",
    "    axs4.set_xlim((np.min(ball_4.r_array[:,0])-0.05), (np.max(ball_4.r_array[:,0]) + 0.05)\n",
    "             )\n",
    "else:\n",
    "    axs4.set_xlim((np.min(ball_4.r_array[:,0]) - 0.1*np.abs(np.min(ball_4.r_array[:,0])),\n",
    "               np.max(ball_4.r_array[:,0]) + 0.1*np.abs(np.max(ball_4.r_array[:,0])))\n",
    "             )\n",
    "axs4.set_ylim((np.min(ball_4.r_array[:,1]) - 0.1*np.abs(np.min(ball_4.r_array[:,1])),\n",
    "               np.max(ball_4.r_array[:,1]) + 0.1*np.abs(np.max(ball_4.r_array[:,1])))\n",
    "             )\n",
    "axs4.plot([np.min(ball_4.r_array[:,0]),np.max(ball_4.r_array[:,0])], [0,0], color='C1', lw=3)\n",
    "line, = axs4.plot([], [], '.', markersize=24)\n",
    "plt.close()\n",
    "\n",
    "anim_4 = animation.FuncAnimation(fig4, animate_ball_4, init_func=init, frames=N, interval=40)\n",
    "\n",
    "anim_4"
   ]
  },
  {
   "cell_type": "markdown",
   "metadata": {},
   "source": [
    "**<font color=blue>Problem 2.20: Discuss the animation above.  Does the animation represent the static figures you created in code task 18?  What else do you notice?**"
   ]
  },
  {
   "cell_type": "markdown",
   "metadata": {},
   "source": [
    "_Double click this cell to begin editing. Write your answer here._"
   ]
  },
  {
   "cell_type": "markdown",
   "metadata": {},
   "source": [
    "### <center>You're done! Submit your lab per the following instructions."
   ]
  },
  {
   "cell_type": "markdown",
   "metadata": {},
   "source": [
    "* Save this file with the lab number and group number to submit to canvas, e.g. `group01_lab02.ipynb`. \n",
    "* You only need to submit one file as a group to the canvas assignment and it will count for all group members.\n",
    "* The group recorder should still send the worksheet to their group members so they have a copy.\n",
    "* Save the file as a html file. You can do this by opening the `File` tab on the top left corner of Jupyter, then select `Download as > html (.html)`\n",
    "* Submit both the .ipynb and .html files to canvas under the `Lab 2: Computation of Kinematics` assignment."
   ]
  },
  {
   "cell_type": "code",
   "execution_count": null,
   "metadata": {},
   "outputs": [],
   "source": []
  }
 ],
 "metadata": {
  "kernelspec": {
   "display_name": "Python 3",
   "language": "python",
   "name": "python3"
  },
  "language_info": {
   "codemirror_mode": {
    "name": "ipython",
    "version": 3
   },
   "file_extension": ".py",
   "mimetype": "text/x-python",
   "name": "python",
   "nbconvert_exporter": "python",
   "pygments_lexer": "ipython3",
   "version": "3.8.3"
  }
 },
 "nbformat": 4,
 "nbformat_minor": 2
}
