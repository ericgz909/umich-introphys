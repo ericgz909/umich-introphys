{
 "cells": [
  {
   "cell_type": "markdown",
   "metadata": {},
   "source": [
    "# Introduction to Physics 141 <font color=white><#!010!#>"
   ]
  },
  {
   "cell_type": "markdown",
   "metadata": {},
   "source": [
    "## Lab 00: Tutorial"
   ]
  },
  {
   "cell_type": "markdown",
   "metadata": {},
   "source": [
    "_Double click this cell and write your names here._"
   ]
  },
  {
   "cell_type": "markdown",
   "metadata": {},
   "source": [
    "<strong>Write the uniqnames of your group members, separated by a comma and a space in the next cell. Follow this instruction carefully otherwise you may not automatically recieve credit.<font color=white><#!uname!#>"
   ]
  },
  {
   "cell_type": "markdown",
   "metadata": {},
   "source": [
    "_replace this text with your uniqnames, separated by a comma and a space_"
   ]
  },
  {
   "cell_type": "markdown",
   "metadata": {},
   "source": [
    "---\n",
    "Welcome to Physics 141!  This lab, and all future ones, are completed in Jupyter Notebook. This software allows you to run Python code in some cells, answer questions in others, and follow along with the lab.\n",
    "\n",
    "The file type for a Jupyter Notebook is a .ipnyb, which is similar to a .html.  Did you notice that Jupyter opened up in your web browswer?  That's why."
   ]
  },
  {
   "cell_type": "markdown",
   "metadata": {},
   "source": [
    "Two types (that we will use) of cells exist: a text cell (Markdown cell) and a code cell. To edit a code cell, you can double click on the text.  If you haven't already, edit the text cell above to write you name.  "
   ]
  },
  {
   "cell_type": "markdown",
   "metadata": {},
   "source": [
    "To run a cell, you can click the `run` icon in the menu at the top, or you can press `shift` and `enter`.  This is true for both text cells and code cells."
   ]
  },
  {
   "cell_type": "markdown",
   "metadata": {},
   "source": [
    "The code cells will use Python syntax.\n",
    "\n",
    "What is syntax?  Syntax is what you type into the computer to turn from 'human language' to 'computer language'.  When we as scientists talk about 'a computer language', we are talking about what 'syntax' we are using.  For Physics 141, we will be using Python syntax.  Previous experience with computer programming is NOT a pre-requisite for this course, and the labs have been designed with that in mind.  Over the semester you will learn some Python to help with your learning and discovery of the physics of your labs.\n",
    "\n",
    "Each different computer language has slightly different ways of telling the computer what to do, and you may have heard of some: C, C++, Matlab, Java, HTML, and many others."
   ]
  },
  {
   "cell_type": "markdown",
   "metadata": {},
   "source": [
    "The first very thing we need to do is to import all the Python libraries we'll need.  For the labs that will use Python this semester, there will be a similar import functions box at the beginning of the lab.  "
   ]
  },
  {
   "cell_type": "markdown",
   "metadata": {},
   "source": [
    "**<font color=red>Code Task 0.1:  Run the code block below without editing.**<font color=white><#!S!#>"
   ]
  },
  {
   "cell_type": "code",
   "execution_count": null,
   "metadata": {},
   "outputs": [],
   "source": [
    "# Run this Python cell by selecting it and then pressing shift-enter\n",
    "# Do not change anything in this cell\n",
    "# These commands load the libraries for Python to use\n",
    "\n",
    "import numpy as np\n",
    "import scipy.special\n",
    "import scipy.optimize\n",
    "import matplotlib.pyplot as plt"
   ]
  },
  {
   "cell_type": "markdown",
   "metadata": {},
   "source": [
    "# <font color=black><center>Part One: Fundamentals of Programming</center>\n"
   ]
  },
  {
   "cell_type": "markdown",
   "metadata": {},
   "source": [
    "If we want to assign $x=5$, this says that the variable $x$ holds the integer value of 5.  This has been typed in the code block below."
   ]
  },
  {
   "cell_type": "markdown",
   "metadata": {},
   "source": [
    "**<font color=red>Code Task 0.2:  Run the code below without editing.**"
   ]
  },
  {
   "cell_type": "code",
   "execution_count": null,
   "metadata": {},
   "outputs": [],
   "source": [
    "x=5"
   ]
  },
  {
   "cell_type": "markdown",
   "metadata": {},
   "source": [
    "You'll notice that the number besides the code block (in square brackets) changed!  This means the code cell ran, but did not have any outputs.  \n",
    "\n",
    "If we want to have the computer tell us what a variable is, we will need to 'print' this.  The syntax is: print(x) statement is the Python syntax for 'printing' the variable.  Try this below."
   ]
  },
  {
   "cell_type": "markdown",
   "metadata": {},
   "source": [
    "**<font color=red>Code Task 0.3:  Run the code below without editing.**"
   ]
  },
  {
   "cell_type": "code",
   "execution_count": null,
   "metadata": {},
   "outputs": [],
   "source": [
    "print(x)"
   ]
  },
  {
   "cell_type": "markdown",
   "metadata": {},
   "source": [
    "**<font color=blue>Problem 0.1: Write below what you observe the print function does.**<font color=white><#!P!#>"
   ]
  },
  {
   "cell_type": "markdown",
   "metadata": {},
   "source": [
    "_Double click this cell to begin editing. Write your answer here._"
   ]
  },
  {
   "cell_type": "markdown",
   "metadata": {},
   "source": [
    "---\n",
    "When you first see $x=x+1$ what do you think?\n",
    "\n",
    "Your math background and training probably is thinking that this is not possible/ an inequality.  However, the computer interprets this statement differently.<font color=white><#!S!#>"
   ]
  },
  {
   "cell_type": "markdown",
   "metadata": {},
   "source": [
    "**<font color=blue>Problem 0.2:  Before running the code block below, hypothesize what will happen.  Make sure to include why you think this happened.  Because this is a hypothesis, all answers (based upon your given reasoning) are valid, even if you later find that you have a different result.  Don't be afraid of being wrong with your predictions!**<font color=white><#!P!#>"
   ]
  },
  {
   "cell_type": "markdown",
   "metadata": {},
   "source": [
    "_Double click this cell to begin editing. Write your hypothesis here._"
   ]
  },
  {
   "cell_type": "markdown",
   "metadata": {},
   "source": [
    "**<font color=red>Code Task 0.4:  Run the code below without editing.**<font color=white><#!S!#>"
   ]
  },
  {
   "cell_type": "code",
   "execution_count": null,
   "metadata": {},
   "outputs": [],
   "source": [
    "x=x+1\n",
    "print(x)"
   ]
  },
  {
   "cell_type": "markdown",
   "metadata": {},
   "source": [
    "**<font color=blue>Problem 0.3: What happened when you ran the code?  Did this match your prediction?**<font color=white><#!P!#>"
   ]
  },
  {
   "cell_type": "markdown",
   "metadata": {},
   "source": [
    "_Double click this cell to begin editing. Write your answer here._"
   ]
  },
  {
   "cell_type": "markdown",
   "metadata": {},
   "source": [
    "Above we were assigning a numerical value, an integer, to the variable $x$.  We can choose to use any variable name we would like.  These are usually named such that their names suggest what the represent.\n",
    "\n",
    "There are a few different variable types you may come across, but the other main one you should be familiar with is a string.  A string is a different type of variable, that it contains 'a string of text'.  These are usually used for labels, or descriptions.  You will see the string inside of quotation marks.  See the print statements in the code below to see strings and integer variable types working together.<font color=white><#!S!#>"
   ]
  },
  {
   "cell_type": "markdown",
   "metadata": {},
   "source": [
    "**<font color=blue>Problem 0.4: Before running the code below, hypothesize what will happen.**<font color=white><#!P!#>"
   ]
  },
  {
   "cell_type": "markdown",
   "metadata": {},
   "source": [
    "_Double click this cell to begin editing. Write your answer here._"
   ]
  },
  {
   "cell_type": "markdown",
   "metadata": {},
   "source": [
    "**<font color=red>Code Task 0.5:  Run the code below without editing.**<font color=white><font color=white><#!S!#>"
   ]
  },
  {
   "cell_type": "code",
   "execution_count": null,
   "metadata": {},
   "outputs": [],
   "source": [
    "var_new = 10\n",
    "string_new = 'This string says that the new variable is: '\n",
    "\n",
    "print(string_new, var_new)\n",
    "\n",
    "print('Another printing option is like this.  The number', 10, 'can also be used inside of the print statement.')\n",
    "\n",
    "string_additional_info =   'Make sure you have a comma between your differnet variables in your print statement.'\n",
    "print(string_additional_info)"
   ]
  },
  {
   "cell_type": "markdown",
   "metadata": {},
   "source": [
    "**<font color=blue>Problem 0.5: What happened when you ran the code?  Did this match your prediction?**<font color=white><#!P!#>"
   ]
  },
  {
   "cell_type": "markdown",
   "metadata": {},
   "source": [
    "_Double click this cell to begin editing. Write your answer here._"
   ]
  },
  {
   "cell_type": "markdown",
   "metadata": {},
   "source": [
    "Not all text that you see in a code block will be run as part of the code.  If there is text that has a pound sign/ hashtag in front of it, that means it is a comment only to be read by the user and not the computer.  \n",
    "\n",
    "It is good practice to comment your code so that someone else can understand it, with descriptions of the variable.  You will be given directions with these comments, and you can even include the units of a measurement with them!  You can even use them to temporarily not include a certain line of code if you are trying to locate where an error may be occuring.<font color=white><#!S!#>"
   ]
  },
  {
   "cell_type": "markdown",
   "metadata": {},
   "source": [
    "**<font color=red>Code Task 0.6:  Run the code below without editing.  Then, add a # before one of the print statements to comment out a line of the code temporarily.**"
   ]
  },
  {
   "cell_type": "code",
   "execution_count": null,
   "metadata": {},
   "outputs": [],
   "source": [
    "mass = 5 #kg\n",
    "length = 2 #meters\n",
    "\n",
    "#This is a comment\n",
    "#Everything after the # sign is a comment, the computer does not read it as code to interpret.\n",
    "\n",
    "print('The mass of the ball is', mass, 'kilograms')\n",
    "print('The length of the ramp is', length, 'meters')"
   ]
  },
  {
   "cell_type": "markdown",
   "metadata": {},
   "source": [
    "# <center>Part Two: Math in Python</center>"
   ]
  },
  {
   "cell_type": "markdown",
   "metadata": {},
   "source": [
    "[NumPy](https://numpy.org/) is a mathematics package that is overwhelmingly used for scientific computing with Python. Over the course of this lab class, you will become familiar with many of the built-in uses and functions of NumPy. Each lab will introduce new functionality as it arises. Core to NumPy is the concept of a \"NumPy array\". A NumPy array is an N-dimensional array that has built in mathematics functionality, and can be passed to other NumPy functions."
   ]
  },
  {
   "cell_type": "markdown",
   "metadata": {},
   "source": [
    "There might be (intentional) errors in the following code. You will naturally encounter errors while programming; being able to read and understand errors will be a useful skill moving forward. You can copy-paste error messages directly into Google and very often will find the solution to your problem."
   ]
  },
  {
   "cell_type": "markdown",
   "metadata": {},
   "source": [
    "**<font color=red>Code Task 0.7:  Run the code blocks below. Edit the second and third blocks as instructed in the comments after running them as written.**"
   ]
  },
  {
   "cell_type": "code",
   "execution_count": null,
   "metadata": {},
   "outputs": [],
   "source": [
    "x_list = [1, 2, 3]\n",
    "x_array = np.array(x_list)\n",
    "\n",
    "print(x_list)\n",
    "print(x_array)"
   ]
  },
  {
   "cell_type": "code",
   "execution_count": null,
   "metadata": {},
   "outputs": [],
   "source": [
    "## After running this block, change x_list for x_array and rerun it.\n",
    "\n",
    "print(x_list + 1)"
   ]
  },
  {
   "cell_type": "code",
   "execution_count": null,
   "metadata": {},
   "outputs": [],
   "source": [
    "## After running this block, change x_list for x_array and rerun it.\n",
    "\n",
    "print(2*x_list)"
   ]
  },
  {
   "cell_type": "markdown",
   "metadata": {},
   "source": [
    "**<font color=blue>Problem 0.6: Briefly explain how a NumPy array behaves differently than a standard list. Explain any errors that were thrown.**<font color=white><#!P!#>"
   ]
  },
  {
   "cell_type": "markdown",
   "metadata": {},
   "source": [
    "_Double click this cell to begin editing. Write your answer here._"
   ]
  },
  {
   "cell_type": "markdown",
   "metadata": {},
   "source": [
    "In this class, you will often be doing math involving multiple NumPy arrays.\n",
    "\n",
    "**<font color=red>Code Task 0.8:  Run the code blocks below. Edit the second block as instructed in the comments after running them as written.**<font color=white><#!S!#>"
   ]
  },
  {
   "cell_type": "code",
   "execution_count": null,
   "metadata": {},
   "outputs": [],
   "source": [
    "y_list = [4, 5, 6, 7]\n",
    "y_array = np.array(y_list)"
   ]
  },
  {
   "cell_type": "code",
   "execution_count": null,
   "metadata": {},
   "outputs": [],
   "source": [
    "## After running this block, change both lists into the arrays and rerun it.\n",
    "\n",
    "print(x_list + y_list)"
   ]
  },
  {
   "cell_type": "markdown",
   "metadata": {},
   "source": [
    "**<font color=blue>Problem 0.7: What happened when you added the two lists? What about adding the two arrays? Explain any errors that were thrown.**<font color=white><#!P!#>"
   ]
  },
  {
   "cell_type": "markdown",
   "metadata": {},
   "source": [
    "_Double click this cell to begin editing. Write your answer here._"
   ]
  },
  {
   "cell_type": "markdown",
   "metadata": {},
   "source": [
    "**<font color=red>Code Task 0.9:  Run the code blocks below. Edit the second block as instructed in the comments after running them as written.**<font color=white><#!S!#>"
   ]
  },
  {
   "cell_type": "code",
   "execution_count": null,
   "metadata": {},
   "outputs": [],
   "source": [
    "z_list = [8, 9, 0]\n",
    "z_array = np.array(z_list)"
   ]
  },
  {
   "cell_type": "code",
   "execution_count": null,
   "metadata": {},
   "outputs": [],
   "source": [
    "## After running this block, change all instances of lists into arrays and rerun it.\n",
    "\n",
    "print(x_list + z_list)\n",
    "print(x_list * z_list)"
   ]
  },
  {
   "cell_type": "markdown",
   "metadata": {},
   "source": [
    "**<font color=blue>Problem 0.8: Explain any errors that were thrown.**<font color=white><#!P!#>"
   ]
  },
  {
   "cell_type": "markdown",
   "metadata": {},
   "source": [
    "_Double click this cell to begin editing. Write your answer here._"
   ]
  },
  {
   "cell_type": "markdown",
   "metadata": {},
   "source": [
    "By default, NumPy arrays treat multiplication element-wise. This means that each element in the first array is multiplied by the corresponding element in the second array. However, you will often find yourself using NumPy arrays to respresent vectors, and will want to be able to take the dot product (or matrix product) of two arrays. This is accomplished using the `np.dot` function.<font color=white><#!S!#>"
   ]
  },
  {
   "cell_type": "markdown",
   "metadata": {},
   "source": [
    "**<font color=red>Code Task 0.10:  Run the code block below.**"
   ]
  },
  {
   "cell_type": "code",
   "execution_count": null,
   "metadata": {},
   "outputs": [],
   "source": [
    "## Interestingly, this function returns the same output given either arrays or lists.\n",
    "## This is because the np.dot function will convert any passed lists into arrays.\n",
    "\n",
    "print(np.dot(x_array, z_array))"
   ]
  },
  {
   "cell_type": "markdown",
   "metadata": {},
   "source": [
    "Another common use of a NumPy array will be to collect many numbers to perform statistical calculations on."
   ]
  },
  {
   "cell_type": "markdown",
   "metadata": {},
   "source": [
    "**<font color=red>Code Task 11:  Run the code block below.**"
   ]
  },
  {
   "cell_type": "code",
   "execution_count": null,
   "metadata": {},
   "outputs": [],
   "source": [
    "random_array = np.random.randint(0, 10, size=50)  # this function returns an array of 50 integers in [0,9]\n",
    "print(random_array)\n",
    "\n",
    "print(np.mean(random_array))  # Calculates the mean...\n",
    "print(np.median(random_array))  # ...and the median.\n",
    "print(np.std(random_array))  # Calculates the standard deviation.\n",
    "\n",
    "print(np.std(random_array)/np.sqrt(random_array.size))  # Dividing the standard deviation by the square root\n",
    "                                                        # of the number of elements (50) yield the \"error of the mean,\"\n",
    "                                                        # also called the \"standard error.\""
   ]
  },
  {
   "cell_type": "markdown",
   "metadata": {},
   "source": [
    "**<font color=blue>Problem 0.9: Predict what will happen if you pass an array to the `np.sqrt` function, what the output of the `x.size` method will be on a 2D 3x3 array, and what the output of the `x.shape` method on the same 3x3 array will be, then run the code block below. Don't worry if you got it wrong, it won't count against you.**<font color=white><#!P!#>"
   ]
  },
  {
   "cell_type": "markdown",
   "metadata": {},
   "source": [
    "_Double click this cell to begin editing. Write your answer here._"
   ]
  },
  {
   "cell_type": "markdown",
   "metadata": {},
   "source": [
    "**<font color=red>Code Task 12:  Run the code block below.**<font color=white><#!S!#>"
   ]
  },
  {
   "cell_type": "code",
   "execution_count": null,
   "metadata": {
    "scrolled": true
   },
   "outputs": [],
   "source": [
    "sqrt_array = np.array([1, 4, 9, 16, 25, 50])\n",
    "print(np.sqrt(sqrt_array))\n",
    "\n",
    "## Pay close attention to the syntax for writing a 2D array.\n",
    "j_array = np.array([[1, 2, 3],\n",
    "                    [4, 5, 6],\n",
    "                    [7, 8, 9]])\n",
    "\n",
    "# Note that the line breaks aren't necessary --- they just increase readability.\n",
    "k_array = np.array([[1, 2, 3], [4, 5, 6], [7, 8, 9]])\n",
    "\n",
    "print(j_array)\n",
    "print(k_array)\n",
    "\n",
    "print(j_array.size)\n",
    "print(j_array.shape)"
   ]
  },
  {
   "cell_type": "markdown",
   "metadata": {},
   "source": [
    "**<font color=blue>Problem 0.10: Did the result of code task 0.12 match your predition in problem 0.9?  Anything else happen that you noticed?**<font color=white><#!P!#>"
   ]
  },
  {
   "cell_type": "markdown",
   "metadata": {},
   "source": [
    "_Double click this cell to begin editing. Write your answer here._"
   ]
  },
  {
   "cell_type": "markdown",
   "metadata": {},
   "source": [
    "You will use many more NumPy functions than the ones presented here over the course of the lab class. Most will be presented or explained in the labs, but keep in mind that if you don't understand something or want to try to accomplish something a different way, the NumPy documentation is a great reference. You can also search Google (often ending up on Stack Exchange) if you are trying to solve a coding problem."
   ]
  },
  {
   "cell_type": "markdown",
   "metadata": {},
   "source": [
    "# <center>Part Three: Plotting in Python</center>"
   ]
  },
  {
   "cell_type": "markdown",
   "metadata": {},
   "source": [
    "You will often be asked to make plots of your data in this class. In Python, this can be accomplished by using the [Matplotlib](https://matplotlib.org/) package. Matplotlib is very powerful and contains many functions for formatting your plots however you want. In the following labs, you will be introduced to a widening range of options, but for this lab, we will focus on making simple, well-labeled plots."
   ]
  },
  {
   "cell_type": "markdown",
   "metadata": {},
   "source": [
    "**<font color=blue>Problem 0.11: Read through the code below and predict what the output will be.**<font color=white><#!P!#>"
   ]
  },
  {
   "cell_type": "markdown",
   "metadata": {},
   "source": [
    "_Double click this cell to begin editing. Write your answer here._"
   ]
  },
  {
   "cell_type": "markdown",
   "metadata": {},
   "source": [
    "**<font color=red>Code Task 0.13:  Run the code below after predicting what the output will be.**"
   ]
  },
  {
   "cell_type": "code",
   "execution_count": null,
   "metadata": {
    "scrolled": true
   },
   "outputs": [],
   "source": [
    "## First, let's generate some data to plot.\n",
    "\n",
    "## We will generate the x points using a numpy function called linspace\n",
    "x_data = np.linspace(0, 4*np.pi, 100)  # this will return 100 even spaced points between 0 and 4 pi\n",
    "\n",
    "## We can use the x data to generate some y data\n",
    "y_data = 10 * np.cos(x_data)  ## numpy mathematical functions are generally able to act element-wise on numpy arrays\n",
    "\n",
    "## Finally, we'll siumulate some random noise on the data\n",
    "y_data = y_data + np.random.uniform(-1, 1, size=100)  # generates 100 uniformly distributed random numbers in [-1, 1]\n",
    "\n",
    "## Finally, let's plot the data.\n",
    "plt.figure()  # a figure is essentially the canvas our plots are drawn on\n",
    "plt.plot(x_data, y_data)"
   ]
  },
  {
   "cell_type": "markdown",
   "metadata": {},
   "source": [
    "**<font color=blue>Problem  0.12: What happened when you ran the code above?  Did the output of code task 0.13 match your prediction in problem 0.11?**<font color=white><#!P!#>"
   ]
  },
  {
   "cell_type": "markdown",
   "metadata": {},
   "source": [
    "_Double click this cell to begin editing. Write your answer here._"
   ]
  },
  {
   "cell_type": "markdown",
   "metadata": {},
   "source": [
    "This looks pretty good, but a proper plot should be labeled and the points should not be connected.  Be sure that any finalized plot you make in physics 141 (and hopefully in your other classes too!) includes these important elements.<font color=white><#!S!#>"
   ]
  },
  {
   "cell_type": "markdown",
   "metadata": {},
   "source": [
    "**<font color=red>Code Task 14:  Read through the code below and then run it.**"
   ]
  },
  {
   "cell_type": "code",
   "execution_count": null,
   "metadata": {},
   "outputs": [],
   "source": [
    "plt.figure()\n",
    "plt.plot(x_data, y_data, '.', label='data')  # the '.' tells the function to plot the points as dot instead of as a line\n",
    "                                        # the label argument names the data series and is important for including a legend\n",
    "\n",
    "## Let's add a line for the function 10*cos(x) as well\n",
    "plt.plot(x_data, 10*np.cos(x_data), label='analytic')\n",
    "    \n",
    "plt.xlabel('x axis (units)')\n",
    "plt.ylabel('y axis (units)')\n",
    "plt.title('Title')\n",
    "plt.legend()"
   ]
  },
  {
   "cell_type": "markdown",
   "metadata": {},
   "source": [
    "For furture plots you make, you will want to go in and edit the labels to match the data you are specifically plotting.  \n",
    "\n",
    "There are many other functions you can use to make plots of different types and format them. You will be exposed to them over the course of this class. If you find something confusing, [the documentation](https://matplotlib.org/contents.html) is a good starting point, as are resources like Google and Stack Exchange."
   ]
  },
  {
   "cell_type": "markdown",
   "metadata": {},
   "source": [
    "# <center>Culminating Assessment Task: Data Fitting in Python</center>"
   ]
  },
  {
   "cell_type": "markdown",
   "metadata": {},
   "source": [
    "In each lab, you will finish with a Culminating Assessment Task (or CAT), which is synthesizes previous components of the labs together.  Many of these CATs are designed to take you 1/3 to 1/2 of the total lab time, so you can plan your lab time accordingly.\n",
    "\n",
    "In this CAT, you will learn a method for fitting data to a line. You will then generate your own data, including random noise, fit it to a line, and then plot the data, the fit line, and the \"real\" line."
   ]
  },
  {
   "cell_type": "markdown",
   "metadata": {},
   "source": [
    "**<font color=red>Code Task 0.15: Following the steps shown in code task 0.13, generate two arrays of 100 data points called `my_x` and `my_y`. The y data should be of the form y = a * x + b. Refer code task 0.7 for how you multiply each element of an array by a constant, and how to add a constant to each element of an array. (You are free to choose values for you x range, a, and b.)**"
   ]
  },
  {
   "cell_type": "code",
   "execution_count": null,
   "metadata": {},
   "outputs": [],
   "source": [
    "## Write your code here. Feel free to copy and paste from other code blocks, and edit as needed.\n",
    "x_range = ???\n",
    "a = ???\n",
    "b = ???\n",
    "\n",
    "my_x = ???\n",
    "my_y = ???"
   ]
  },
  {
   "cell_type": "markdown",
   "metadata": {},
   "source": [
    "**<font color=blue>Problem 0.13: How did you chose you x range, a, and b values?  How did you determine your my_x array and my_y array?**<font color=white><#!P!#>"
   ]
  },
  {
   "cell_type": "markdown",
   "metadata": {},
   "source": [
    "_Double click this cell to begin editing. Write your answer here._"
   ]
  },
  {
   "cell_type": "markdown",
   "metadata": {},
   "source": [
    "**<font color=red>Code Task 0.16: Add random noise with `np.random.uniform` to your `my_y` array. Refer to code task 0.13.  Additionally, plot the data (my_x and my_y), also referring to code task 0.8 to make sure it looks right. Because this plot is just to spot check your data set, you don't need to worry about formatting it. (You are free to choose the range of the random noise. Make sure the randomness is visible in your plot, but doesn't completely overpower the linear shape.)**<font color=white><#!S!#>"
   ]
  },
  {
   "cell_type": "code",
   "execution_count": null,
   "metadata": {},
   "outputs": [],
   "source": [
    "## Write your code here. Feel free to copy and paste from other code blocks, and edit as needed.\n",
    "my_y = my_y + ???\n",
    "\n",
    "\n",
    "plt.figure()\n",
    "plt.plot(my_x, my_y, '.')"
   ]
  },
  {
   "cell_type": "markdown",
   "metadata": {},
   "source": [
    "**<font color=blue>Problem 0.14: What does the np.random.uniform function do to your my_y data?  You can look at the plot with and without this additional random noise factor to answer.**<font color=white><#!P!#>"
   ]
  },
  {
   "cell_type": "markdown",
   "metadata": {},
   "source": [
    "_Double click this cell to begin editing. Write your answer here._"
   ]
  },
  {
   "cell_type": "markdown",
   "metadata": {},
   "source": [
    "**<font color=red>Code Task 17: We will use `np.polyfit` to fit a line to your noisy data and extract the best fit values for a and b.  Run the code below without editing.**<font color=white><#!S!#>"
   ]
  },
  {
   "cell_type": "code",
   "execution_count": null,
   "metadata": {},
   "outputs": [],
   "source": [
    "coeffs = np.polyfit(my_x, my_y, deg=1)  # note the deg=1 argument tells the function we are fitting a 1st degree polynomial,\n",
    "                                        # which is just a line.\n",
    "    \n",
    "a = coeffs[0]  # coeffs is a NumPy array with 2 elements, the values of a and b, respectively, in y = a*x + b\n",
    "               # note that Python is \"zero-indexed\" meaning the first element of an array is the 0th, not 1st.\n",
    "               # square brackets are used to select an element from an array (or list)\n",
    "b = coeffs[1]\n",
    "\n",
    "print(a)\n",
    "print(b)\n",
    "\n",
    "fit_line = a * my_x + b"
   ]
  },
  {
   "cell_type": "markdown",
   "metadata": {},
   "source": [
    "**<font color=blue>Problem 0.15: Compare the values of the fit coefficients to the values you chose in your data.**<font color=white><#!P!#>"
   ]
  },
  {
   "cell_type": "markdown",
   "metadata": {},
   "source": [
    "_Double click this cell to begin editing. Write your answer here._"
   ]
  },
  {
   "cell_type": "markdown",
   "metadata": {},
   "source": [
    "For this specific instance, we knew what our slope and y-axis offset were, since we set them at the beginning.  However, most cases we will look at this semester, we don't know what these values are.  We will use fitting methods to determine what these values are from some set of data we are given, which tells us as physicists the relevant information about the physics of the system we are observing.  <font color=white><#!S!#>"
   ]
  },
  {
   "cell_type": "markdown",
   "metadata": {},
   "source": [
    "**<font color=red>Code Task 0.18: In one `plt.figure()`, plot your data (as points), the fit line (as a line), and the \"truth line\" with your original line coefficients. Make sure your plot is titled, axes are labeled (you can label them with arbitrary values), and there is a legend. Refer to code task 0.14.**"
   ]
  },
  {
   "cell_type": "code",
   "execution_count": null,
   "metadata": {
    "scrolled": true
   },
   "outputs": [],
   "source": [
    "## Write your code here. Feel free to copy and paste from other code blocks, and edit as needed.\n",
    "\n"
   ]
  },
  {
   "cell_type": "markdown",
   "metadata": {},
   "source": [
    "**<font color=blue>Problem 0.16: Does your figure you made in code task 0.18 look like a line?  What is the benefit of including both the data and fit line on the same plot?**<font color=white><#!P!#>"
   ]
  },
  {
   "cell_type": "markdown",
   "metadata": {},
   "source": [
    "_Double click this cell to begin editing. Write your answer here._"
   ]
  },
  {
   "cell_type": "markdown",
   "metadata": {},
   "source": [
    "### <center>You're done! Submit your lab per the following instructions.<font color=white><#!S!#>"
   ]
  },
  {
   "cell_type": "markdown",
   "metadata": {},
   "source": [
    "* Send this compelete worksheet to your group members. You can either email it to them or put it on google docs and share the a link\n",
    "* Each member must rename their copy of the lab report with their uniqname and the lab number, for example `ericgz_lab0.ipynb`\n",
    "* Save the file as a PDF (you can also save it as HTML if PDF save doesn't work for your machine). You can do this by opening the `File` tab on the top left corner of Jupyter, then select `Download as > pdf (.pdf)`\n",
    "* Submit both the .ipynb and .pdf (or .ipynb and .html) files to canvas under the `Lab 0: Tutorial` assignment."
   ]
  },
  {
   "cell_type": "code",
   "execution_count": null,
   "metadata": {},
   "outputs": [],
   "source": []
  }
 ],
 "metadata": {
  "kernelspec": {
   "display_name": "Python 3",
   "language": "python",
   "name": "python3"
  },
  "language_info": {
   "codemirror_mode": {
    "name": "ipython",
    "version": 3
   },
   "file_extension": ".py",
   "mimetype": "text/x-python",
   "name": "python",
   "nbconvert_exporter": "python",
   "pygments_lexer": "ipython3",
   "version": "3.8.3"
  }
 },
 "nbformat": 4,
 "nbformat_minor": 2
}
